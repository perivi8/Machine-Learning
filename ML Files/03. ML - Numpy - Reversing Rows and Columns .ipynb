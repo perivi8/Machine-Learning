{
 "cells": [
  {
   "cell_type": "markdown",
   "id": "76ecb397",
   "metadata": {},
   "source": [
    "# Reversing  Rows and Columns"
   ]
  },
  {
   "cell_type": "code",
   "execution_count": 28,
   "id": "d44a773a",
   "metadata": {},
   "outputs": [],
   "source": [
    "import numpy as np"
   ]
  },
  {
   "cell_type": "markdown",
   "id": "52159d6c",
   "metadata": {},
   "source": [
    "### ex 1"
   ]
  },
  {
   "cell_type": "code",
   "execution_count": 29,
   "id": "e4ab469b",
   "metadata": {},
   "outputs": [
    {
     "data": {
      "text/plain": [
       "array([[1, 2, 3, 4, 5],\n",
       "       [2, 4, 6, 8, 0],\n",
       "       [1, 3, 5, 7, 9]])"
      ]
     },
     "execution_count": 29,
     "metadata": {},
     "output_type": "execute_result"
    }
   ],
   "source": [
    "a = [[1,2,3,4,5],\n",
    "      [2,4,6,8,0],\n",
    "      [1,3,5,7,9]] \n",
    "     \n",
    "c =  np.array(a)        \n",
    "c "
   ]
  },
  {
   "cell_type": "code",
   "execution_count": 30,
   "id": "10f34dba",
   "metadata": {},
   "outputs": [
    {
     "data": {
      "text/plain": [
       "array([[1, 3, 5, 7, 9],\n",
       "       [2, 4, 6, 8, 0],\n",
       "       [1, 2, 3, 4, 5]])"
      ]
     },
     "execution_count": 30,
     "metadata": {},
     "output_type": "execute_result"
    }
   ],
   "source": [
    "c[::-1]           # it is reverse the Horizontal mirror img (original)"
   ]
  },
  {
   "cell_type": "markdown",
   "id": "109f7e87-24ad-462a-b68c-409d38cc4155",
   "metadata": {},
   "source": [
    "#### or"
   ]
  },
  {
   "cell_type": "code",
   "execution_count": 31,
   "id": "4351c839-ba0d-432f-9cea-2a66b78f59e5",
   "metadata": {},
   "outputs": [
    {
     "data": {
      "text/plain": [
       "array([[1, 3, 5, 7, 9],\n",
       "       [2, 4, 6, 8, 0],\n",
       "       [1, 2, 3, 4, 5]])"
      ]
     },
     "execution_count": 31,
     "metadata": {},
     "output_type": "execute_result"
    }
   ],
   "source": [
    "c[::-1,::+1]       # it is reverse the Horizontal mirror img (original)"
   ]
  },
  {
   "cell_type": "code",
   "execution_count": 32,
   "id": "f5afcb68-7fef-4727-a1d2-6894f1ca87e6",
   "metadata": {},
   "outputs": [
    {
     "data": {
      "text/plain": [
       "array([[5, 4, 3, 2, 1],\n",
       "       [0, 8, 6, 4, 2],\n",
       "       [9, 7, 5, 3, 1]])"
      ]
     },
     "execution_count": 32,
     "metadata": {},
     "output_type": "execute_result"
    }
   ],
   "source": [
    "c[::+1,::-1]      # it is reverse vertical mirror img (original)"
   ]
  },
  {
   "cell_type": "code",
   "execution_count": 33,
   "id": "22c26ba8",
   "metadata": {},
   "outputs": [
    {
     "data": {
      "text/plain": [
       "array([[9, 7, 5, 3, 1],\n",
       "       [0, 8, 6, 4, 2],\n",
       "       [5, 4, 3, 2, 1]])"
      ]
     },
     "execution_count": 33,
     "metadata": {},
     "output_type": "execute_result"
    }
   ],
   "source": [
    "c[::-1,::-1]     # First it reverse Horizontal and again it reverse vertical img (original)  -- or --\n",
    "                 # First it reverse Vertical and again it reverse Horizontal img (original)"
   ]
  },
  {
   "cell_type": "code",
   "execution_count": 34,
   "id": "991ed465-00fc-46ea-a25c-d08c75f199fa",
   "metadata": {},
   "outputs": [
    {
     "data": {
      "text/plain": [
       "array([[1, 2, 3, 4, 5],\n",
       "       [2, 4, 6, 8, 0],\n",
       "       [1, 3, 5, 7, 9]])"
      ]
     },
     "execution_count": 34,
     "metadata": {},
     "output_type": "execute_result"
    }
   ],
   "source": [
    "c[::+1]      # It is Also as same as the Orginal"
   ]
  },
  {
   "cell_type": "markdown",
   "id": "cfff61bc-6d3e-4b73-837e-71acf341c2fd",
   "metadata": {},
   "source": [
    "#### or"
   ]
  },
  {
   "cell_type": "code",
   "execution_count": 35,
   "id": "13f7bac1-286a-480c-9187-0d5c55a771b0",
   "metadata": {},
   "outputs": [
    {
     "data": {
      "text/plain": [
       "array([[1, 2, 3, 4, 5],\n",
       "       [2, 4, 6, 8, 0],\n",
       "       [1, 3, 5, 7, 9]])"
      ]
     },
     "execution_count": 35,
     "metadata": {},
     "output_type": "execute_result"
    }
   ],
   "source": [
    "c[::+1,::+1]      # It is same as the Original"
   ]
  },
  {
   "cell_type": "markdown",
   "id": "f0d6392c",
   "metadata": {},
   "source": [
    "### ex 2"
   ]
  },
  {
   "cell_type": "code",
   "execution_count": 36,
   "id": "18cb61f5",
   "metadata": {},
   "outputs": [
    {
     "data": {
      "text/plain": [
       "array([[11, 22, 33, 44, 55],\n",
       "       [66, 77, 88, 99,  0]])"
      ]
     },
     "execution_count": 36,
     "metadata": {},
     "output_type": "execute_result"
    }
   ],
   "source": [
    "b = [[11,22,33,44,55],\n",
    "     [66,77,88,99,0]]  \n",
    "d =  np.array(b)\n",
    "d\n"
   ]
  },
  {
   "cell_type": "code",
   "execution_count": 37,
   "id": "14728d72",
   "metadata": {},
   "outputs": [
    {
     "data": {
      "text/plain": [
       "array([[66, 77, 88, 99,  0],\n",
       "       [11, 22, 33, 44, 55]])"
      ]
     },
     "execution_count": 37,
     "metadata": {},
     "output_type": "execute_result"
    }
   ],
   "source": [
    "d[::-1]          "
   ]
  },
  {
   "cell_type": "code",
   "execution_count": 38,
   "id": "8146e280",
   "metadata": {},
   "outputs": [
    {
     "data": {
      "text/plain": [
       "array([[ 0, 99, 88, 77, 66],\n",
       "       [55, 44, 33, 22, 11]])"
      ]
     },
     "execution_count": 38,
     "metadata": {},
     "output_type": "execute_result"
    }
   ],
   "source": [
    "d[ ::-1 , ::-1]"
   ]
  },
  {
   "cell_type": "code",
   "execution_count": null,
   "id": "dd18b092",
   "metadata": {},
   "outputs": [],
   "source": []
  }
 ],
 "metadata": {
  "kernelspec": {
   "display_name": "Python 3 (ipykernel)",
   "language": "python",
   "name": "python3"
  },
  "language_info": {
   "codemirror_mode": {
    "name": "ipython",
    "version": 3
   },
   "file_extension": ".py",
   "mimetype": "text/x-python",
   "name": "python",
   "nbconvert_exporter": "python",
   "pygments_lexer": "ipython3",
   "version": "3.11.7"
  }
 },
 "nbformat": 4,
 "nbformat_minor": 5
}
