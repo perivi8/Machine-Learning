{
 "cells": [
  {
   "cell_type": "markdown",
   "id": "242257bd",
   "metadata": {},
   "source": [
    "# Basic Statistics "
   ]
  },
  {
   "cell_type": "code",
   "execution_count": 117,
   "id": "965810e4-af6d-4e1c-bda1-1f54a37ba1a8",
   "metadata": {},
   "outputs": [],
   "source": [
    "import numpy as np"
   ]
  },
  {
   "cell_type": "code",
   "execution_count": 118,
   "id": "89a7aa48",
   "metadata": {},
   "outputs": [
    {
     "data": {
      "text/plain": [
       "array([[23, 64, 51, 63, 18,  4],\n",
       "       [ 2, 41,  5,  6,  8,  4]])"
      ]
     },
     "execution_count": 118,
     "metadata": {},
     "output_type": "execute_result"
    }
   ],
   "source": [
    "m = [23,64,51,63,18,4] , [2,41,5,6,8,4]\n",
    "n = np.array(m)\n",
    "n"
   ]
  },
  {
   "cell_type": "code",
   "execution_count": 160,
   "id": "f30d874b",
   "metadata": {},
   "outputs": [
    {
     "data": {
      "text/plain": [
       "64"
      ]
     },
     "execution_count": 160,
     "metadata": {},
     "output_type": "execute_result"
    }
   ],
   "source": [
    "n1 = np.max(n)  # Recommended\n",
    "n1\n",
    "\n",
    "# or\n",
    "\n",
    "# n1 = n.min()\n",
    "# n1"
   ]
  },
  {
   "cell_type": "code",
   "execution_count": 152,
   "id": "7f512f67",
   "metadata": {},
   "outputs": [
    {
     "data": {
      "text/plain": [
       "2"
      ]
     },
     "execution_count": 152,
     "metadata": {},
     "output_type": "execute_result"
    }
   ],
   "source": [
    "n2 = np.min(n)  # Recommended\n",
    "n2\n",
    "\n",
    "# or\n",
    "\n",
    "# n2 = n.min()\n",
    "# n2"
   ]
  },
  {
   "cell_type": "code",
   "execution_count": 130,
   "id": "900367c1",
   "metadata": {},
   "outputs": [
    {
     "data": {
      "text/plain": [
       "289"
      ]
     },
     "execution_count": 130,
     "metadata": {},
     "output_type": "execute_result"
    }
   ],
   "source": [
    "n3 = np.sum(n)  # Recommended\n",
    "n3\n",
    "\n",
    "# or\n",
    "\n",
    "# n3 = n.sum()\n",
    "# n3"
   ]
  },
  {
   "cell_type": "markdown",
   "id": "d57e3023",
   "metadata": {},
   "source": [
    "#  Average"
   ]
  },
  {
   "cell_type": "code",
   "execution_count": 131,
   "id": "e9ed9a27",
   "metadata": {},
   "outputs": [
    {
     "name": "stdout",
     "output_type": "stream",
     "text": [
      "[[2 3 4 6]\n",
      " [3 6 4 1]]\n"
     ]
    },
    {
     "data": {
      "text/plain": [
       "3.625"
      ]
     },
     "execution_count": 131,
     "metadata": {},
     "output_type": "execute_result"
    }
   ],
   "source": [
    "import numpy as np\n",
    "o = [[2,3,4,6],\n",
    "     [3,6,4,1]]\n",
    "p = np.array(o)\n",
    "print(p)\n",
    "\n",
    "q = np.average(p)\n",
    "q"
   ]
  },
  {
   "cell_type": "markdown",
   "id": "ef205815",
   "metadata": {},
   "source": [
    "# Variance"
   ]
  },
  {
   "cell_type": "code",
   "execution_count": 123,
   "id": "13cb7a31",
   "metadata": {},
   "outputs": [
    {
     "data": {
      "text/plain": [
       "2.734375"
      ]
     },
     "execution_count": 123,
     "metadata": {},
     "output_type": "execute_result"
    }
   ],
   "source": [
    "h = [[2,3,4,6],\n",
    "     [3,6,4,1]]\n",
    "k = np.array(h) \n",
    "k\n",
    "\n",
    "k = np.var(k)\n",
    "k"
   ]
  },
  {
   "cell_type": "markdown",
   "id": "195a868a",
   "metadata": {},
   "source": [
    "# Mean"
   ]
  },
  {
   "cell_type": "code",
   "execution_count": 124,
   "id": "41081502",
   "metadata": {},
   "outputs": [],
   "source": [
    "import numpy as np"
   ]
  },
  {
   "cell_type": "code",
   "execution_count": 142,
   "id": "4651bc27",
   "metadata": {},
   "outputs": [
    {
     "data": {
      "text/plain": [
       "4.5"
      ]
     },
     "execution_count": 142,
     "metadata": {},
     "output_type": "execute_result"
    }
   ],
   "source": [
    "c = [1,2,3,4,5,6,7,8]       # sum of all values / total no of values\n",
    "d = np.array(c)\n",
    "d\n",
    "\n",
    "d = np.mean(d)\n",
    "d"
   ]
  },
  {
   "cell_type": "markdown",
   "id": "e0b582e8",
   "metadata": {},
   "source": [
    "# Median "
   ]
  },
  {
   "cell_type": "code",
   "execution_count": 126,
   "id": "5563034b",
   "metadata": {},
   "outputs": [],
   "source": [
    "import numpy as np"
   ]
  },
  {
   "cell_type": "code",
   "execution_count": 127,
   "id": "934a080f",
   "metadata": {},
   "outputs": [
    {
     "data": {
      "text/plain": [
       "5.5"
      ]
     },
     "execution_count": 127,
     "metadata": {},
     "output_type": "execute_result"
    }
   ],
   "source": [
    "# ex 1\n",
    "a = [1,2,3,4,5,6,7,8,9 ,9]     # add middle two values / 2\n",
    "b = np.array(a)\n",
    "b\n",
    "\n",
    "b = np.median(b)\n",
    "b"
   ]
  },
  {
   "cell_type": "code",
   "execution_count": 137,
   "id": "21f73eac",
   "metadata": {},
   "outputs": [
    {
     "name": "stdout",
     "output_type": "stream",
     "text": [
      "[ 99  86  87  88 111  86 103  87  94  78  77]\n"
     ]
    },
    {
     "data": {
      "text/plain": [
       "87.0"
      ]
     },
     "execution_count": 137,
     "metadata": {},
     "output_type": "execute_result"
    }
   ],
   "source": [
    "# ex 2\n",
    "import numpy as np\n",
    "\n",
    "speed = [99,86,87,88,111,86,103,87,94,78,77]# it will sorting , that means increase the number and then it take middle value\n",
    "\n",
    "x = np.array(speed)\n",
    "\n",
    "print(x)\n",
    "\n",
    "x = np.mo(x)\n",
    "x"
   ]
  },
  {
   "cell_type": "markdown",
   "id": "5ad9fe3c",
   "metadata": {},
   "source": [
    "# Mode"
   ]
  },
  {
   "cell_type": "code",
   "execution_count": 150,
   "id": "3c50b21e",
   "metadata": {},
   "outputs": [
    {
     "data": {
      "text/plain": [
       "ModeResult(mode=33, count=3)"
      ]
     },
     "execution_count": 150,
     "metadata": {},
     "output_type": "execute_result"
    }
   ],
   "source": [
    "from scipy import stats                   # for mode it is different\n",
    "e = [11,22,77,33,99,33,24,22,33]\n",
    "f = np.array(e)\n",
    "f\n",
    "\n",
    "f1 = stats.mode(f)\n",
    "f1"
   ]
  },
  {
   "cell_type": "code",
   "execution_count": null,
   "id": "f0d5c83d",
   "metadata": {},
   "outputs": [],
   "source": []
  },
  {
   "cell_type": "code",
   "execution_count": null,
   "id": "03d52473",
   "metadata": {},
   "outputs": [],
   "source": []
  }
 ],
 "metadata": {
  "kernelspec": {
   "display_name": "Python 3 (ipykernel)",
   "language": "python",
   "name": "python3"
  },
  "language_info": {
   "codemirror_mode": {
    "name": "ipython",
    "version": 3
   },
   "file_extension": ".py",
   "mimetype": "text/x-python",
   "name": "python",
   "nbconvert_exporter": "python",
   "pygments_lexer": "ipython3",
   "version": "3.11.7"
  }
 },
 "nbformat": 4,
 "nbformat_minor": 5
}
