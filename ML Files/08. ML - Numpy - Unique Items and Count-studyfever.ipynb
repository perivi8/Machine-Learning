{
 "cells": [
  {
   "cell_type": "code",
   "execution_count": 2,
   "id": "9b8c0872",
   "metadata": {},
   "outputs": [],
   "source": [
    "import numpy as np"
   ]
  },
  {
   "cell_type": "markdown",
   "id": "bde97118-9e4f-4711-9fe8-7b1f0d02bc5d",
   "metadata": {},
   "source": [
    "## In Arrays"
   ]
  },
  {
   "cell_type": "code",
   "execution_count": 15,
   "id": "6a7faf7f",
   "metadata": {},
   "outputs": [
    {
     "data": {
      "text/plain": [
       "array([[1, 4, 5, 2, 2, 5],\n",
       "       [4, 4, 1, 7, 4, 5]])"
      ]
     },
     "execution_count": 15,
     "metadata": {},
     "output_type": "execute_result"
    }
   ],
   "source": [
    "a = [[1,4,5,2,2,5],\n",
    "     [4,4,1,7,4,5]]\n",
    "a\n",
    "\n",
    "a= np.array(a)\n",
    "a"
   ]
  },
  {
   "cell_type": "markdown",
   "id": "912c236b",
   "metadata": {},
   "source": [
    "### Display Unique Values"
   ]
  },
  {
   "cell_type": "code",
   "execution_count": 16,
   "id": "62dc45a7",
   "metadata": {},
   "outputs": [
    {
     "data": {
      "text/plain": [
       "array([1, 2, 4, 5, 7])"
      ]
     },
     "execution_count": 16,
     "metadata": {},
     "output_type": "execute_result"
    }
   ],
   "source": [
    "u = np.unique(a)   \n",
    "u"
   ]
  },
  {
   "cell_type": "markdown",
   "id": "292e8654",
   "metadata": {},
   "source": [
    "### Length of Unique Values"
   ]
  },
  {
   "cell_type": "code",
   "execution_count": 17,
   "id": "f6a967f6",
   "metadata": {},
   "outputs": [
    {
     "data": {
      "text/plain": [
       "5"
      ]
     },
     "execution_count": 17,
     "metadata": {},
     "output_type": "execute_result"
    }
   ],
   "source": [
    "l = len(np.unique(a))\n",
    "l"
   ]
  },
  {
   "cell_type": "markdown",
   "id": "287c102f",
   "metadata": {},
   "source": [
    "###  Count the Unique values"
   ]
  },
  {
   "cell_type": "code",
   "execution_count": 18,
   "id": "536d26e1",
   "metadata": {},
   "outputs": [
    {
     "data": {
      "text/plain": [
       "(array([1, 2, 4, 5, 7]), array([2, 2, 4, 3, 1], dtype=int64))"
      ]
     },
     "execution_count": 18,
     "metadata": {},
     "output_type": "execute_result"
    }
   ],
   "source": [
    "c =np.unique(a,return_counts = True)\n",
    "c"
   ]
  },
  {
   "cell_type": "markdown",
   "id": "bb5c71a3-ab75-4f7b-960f-5557d0067a90",
   "metadata": {},
   "source": [
    "## In DataFrame"
   ]
  },
  {
   "cell_type": "code",
   "execution_count": 38,
   "id": "8fc27b31-4ae6-4755-9bbf-f7336a934d4e",
   "metadata": {},
   "outputs": [
    {
     "data": {
      "text/html": [
       "<div>\n",
       "<style scoped>\n",
       "    .dataframe tbody tr th:only-of-type {\n",
       "        vertical-align: middle;\n",
       "    }\n",
       "\n",
       "    .dataframe tbody tr th {\n",
       "        vertical-align: top;\n",
       "    }\n",
       "\n",
       "    .dataframe thead th {\n",
       "        text-align: right;\n",
       "    }\n",
       "</style>\n",
       "<table border=\"1\" class=\"dataframe\">\n",
       "  <thead>\n",
       "    <tr style=\"text-align: right;\">\n",
       "      <th></th>\n",
       "      <th>color</th>\n",
       "      <th>age</th>\n",
       "    </tr>\n",
       "  </thead>\n",
       "  <tbody>\n",
       "    <tr>\n",
       "      <th>0</th>\n",
       "      <td>red</td>\n",
       "      <td>23.0</td>\n",
       "    </tr>\n",
       "    <tr>\n",
       "      <th>1</th>\n",
       "      <td>blue</td>\n",
       "      <td>NaN</td>\n",
       "    </tr>\n",
       "    <tr>\n",
       "      <th>2</th>\n",
       "      <td>green</td>\n",
       "      <td>12.0</td>\n",
       "    </tr>\n",
       "    <tr>\n",
       "      <th>3</th>\n",
       "      <td>red</td>\n",
       "      <td>54.0</td>\n",
       "    </tr>\n",
       "    <tr>\n",
       "      <th>4</th>\n",
       "      <td>blue</td>\n",
       "      <td>23.0</td>\n",
       "    </tr>\n",
       "  </tbody>\n",
       "</table>\n",
       "</div>"
      ],
      "text/plain": [
       "   color   age\n",
       "0    red  23.0\n",
       "1   blue   NaN\n",
       "2  green  12.0\n",
       "3    red  54.0\n",
       "4   blue  23.0"
      ]
     },
     "execution_count": 38,
     "metadata": {},
     "output_type": "execute_result"
    }
   ],
   "source": [
    "import pandas as pd\n",
    "\n",
    "data1 = {'color': ['red', 'blue', 'green', 'red', 'blue'],\n",
    "         'age' :[23 , np.NaN,12,54,23]}              \n",
    "\n",
    "df = pd.DataFrame(data1) \n",
    "df\n",
    "\n",
    "# Good clarification in = \"17. ML - Categorical Data .ipynb\"\n",
    "\n",
    "# ********* Don't use unique for entire dataframe(df) , use individual(df['age'])\n",
    "# ******* But using value_count we can use entire dataframe (df) and also individual(df['age'])"
   ]
  },
  {
   "cell_type": "code",
   "execution_count": 30,
   "id": "e5b79b49-048f-4f65-a7ab-3c1d766e2c46",
   "metadata": {},
   "outputs": [
    {
     "data": {
      "text/plain": [
       "(array([12., 23., 54., nan]), array([1, 2, 1, 1], dtype=int64))"
      ]
     },
     "execution_count": 30,
     "metadata": {},
     "output_type": "execute_result"
    }
   ],
   "source": [
    "c =np.unique(df['age'],return_counts = True)     # count the unique values\n",
    "c"
   ]
  },
  {
   "cell_type": "code",
   "execution_count": 33,
   "id": "06b22207-a8c7-4907-8df4-b80bbbdd2a20",
   "metadata": {},
   "outputs": [
    {
     "data": {
      "text/plain": [
       "4"
      ]
     },
     "execution_count": 33,
     "metadata": {},
     "output_type": "execute_result"
    }
   ],
   "source": [
    "l = len(np.unique(df['age']))                # len of the unique values\n",
    "l"
   ]
  },
  {
   "cell_type": "code",
   "execution_count": 34,
   "id": "a0798871-afc6-4dea-bfc6-bd2aa1401200",
   "metadata": {},
   "outputs": [
    {
     "data": {
      "text/plain": [
       "array([12., 23., 54., nan])"
      ]
     },
     "execution_count": 34,
     "metadata": {},
     "output_type": "execute_result"
    }
   ],
   "source": [
    "a = np.unique(df['age'])        # Display Unique values\n",
    "a"
   ]
  }
 ],
 "metadata": {
  "kernelspec": {
   "display_name": "Python 3 (ipykernel)",
   "language": "python",
   "name": "python3"
  },
  "language_info": {
   "codemirror_mode": {
    "name": "ipython",
    "version": 3
   },
   "file_extension": ".py",
   "mimetype": "text/x-python",
   "name": "python",
   "nbconvert_exporter": "python",
   "pygments_lexer": "ipython3",
   "version": "3.11.7"
  }
 },
 "nbformat": 4,
 "nbformat_minor": 5
}
