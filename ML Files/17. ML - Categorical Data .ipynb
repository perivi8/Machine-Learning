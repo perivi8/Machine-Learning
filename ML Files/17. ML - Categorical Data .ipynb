{
 "cells": [
  {
   "cell_type": "markdown",
   "id": "aec3ea37",
   "metadata": {},
   "source": [
    "# Basic example "
   ]
  },
  {
   "cell_type": "code",
   "execution_count": 1,
   "id": "e9c6463e",
   "metadata": {},
   "outputs": [],
   "source": [
    "import numpy as np"
   ]
  },
  {
   "cell_type": "code",
   "execution_count": 2,
   "id": "a1bce98a",
   "metadata": {
    "scrolled": true
   },
   "outputs": [],
   "source": [
    "import pandas as pd  \n",
    "\n",
    "data = {\n",
    "    'name' :['hari', 'perivi' , np.NaN , 'krishna','akhil'],\n",
    "    'age' :[23 , np.NaN , 22,25,23]\n",
    "}\n",
    "\n",
    "# ********* If we use 'np.Nan' in int means then all 'int' will convert into a \"float\""
   ]
  },
  {
   "cell_type": "code",
   "execution_count": 3,
   "id": "6db62516",
   "metadata": {},
   "outputs": [
    {
     "data": {
      "text/plain": [
       "{'name': ['hari', 'perivi', nan, 'krishna', 'akhil'],\n",
       " 'age': [23, nan, 22, 25, 23]}"
      ]
     },
     "execution_count": 3,
     "metadata": {},
     "output_type": "execute_result"
    }
   ],
   "source": [
    "data"
   ]
  },
  {
   "cell_type": "code",
   "execution_count": 4,
   "id": "351d2cfb",
   "metadata": {},
   "outputs": [
    {
     "data": {
      "text/html": [
       "<div>\n",
       "<style scoped>\n",
       "    .dataframe tbody tr th:only-of-type {\n",
       "        vertical-align: middle;\n",
       "    }\n",
       "\n",
       "    .dataframe tbody tr th {\n",
       "        vertical-align: top;\n",
       "    }\n",
       "\n",
       "    .dataframe thead th {\n",
       "        text-align: right;\n",
       "    }\n",
       "</style>\n",
       "<table border=\"1\" class=\"dataframe\">\n",
       "  <thead>\n",
       "    <tr style=\"text-align: right;\">\n",
       "      <th></th>\n",
       "      <th>name</th>\n",
       "      <th>age</th>\n",
       "    </tr>\n",
       "  </thead>\n",
       "  <tbody>\n",
       "    <tr>\n",
       "      <th>0</th>\n",
       "      <td>hari</td>\n",
       "      <td>23.0</td>\n",
       "    </tr>\n",
       "    <tr>\n",
       "      <th>1</th>\n",
       "      <td>perivi</td>\n",
       "      <td>NaN</td>\n",
       "    </tr>\n",
       "    <tr>\n",
       "      <th>2</th>\n",
       "      <td>NaN</td>\n",
       "      <td>22.0</td>\n",
       "    </tr>\n",
       "    <tr>\n",
       "      <th>3</th>\n",
       "      <td>krishna</td>\n",
       "      <td>25.0</td>\n",
       "    </tr>\n",
       "    <tr>\n",
       "      <th>4</th>\n",
       "      <td>akhil</td>\n",
       "      <td>23.0</td>\n",
       "    </tr>\n",
       "  </tbody>\n",
       "</table>\n",
       "</div>"
      ],
      "text/plain": [
       "      name   age\n",
       "0     hari  23.0\n",
       "1   perivi   NaN\n",
       "2      NaN  22.0\n",
       "3  krishna  25.0\n",
       "4    akhil  23.0"
      ]
     },
     "execution_count": 4,
     "metadata": {},
     "output_type": "execute_result"
    }
   ],
   "source": [
    "df = pd.DataFrame(data)\n",
    "df"
   ]
  },
  {
   "cell_type": "code",
   "execution_count": 5,
   "id": "cfa3b24d",
   "metadata": {},
   "outputs": [
    {
     "data": {
      "text/plain": [
       "name    1\n",
       "age     1\n",
       "dtype: int64"
      ]
     },
     "execution_count": 5,
     "metadata": {},
     "output_type": "execute_result"
    }
   ],
   "source": [
    "df.isnull().sum()           # It sum only How many NaN "
   ]
  },
  {
   "cell_type": "code",
   "execution_count": 6,
   "id": "f182a6b5-9022-4b05-9162-59d994493dd0",
   "metadata": {},
   "outputs": [
    {
     "data": {
      "text/plain": [
       "name    5\n",
       "age     5\n",
       "dtype: int64"
      ]
     },
     "execution_count": 6,
     "metadata": {},
     "output_type": "execute_result"
    }
   ],
   "source": [
    "df.isnull().count()     # Don't use count , If we use count means then it will count all elements (include.. NaN , Not a NaN)"
   ]
  },
  {
   "cell_type": "markdown",
   "id": "50da736d",
   "metadata": {},
   "source": [
    "# Value_counts()"
   ]
  },
  {
   "cell_type": "code",
   "execution_count": 7,
   "id": "60fab651",
   "metadata": {},
   "outputs": [
    {
     "data": {
      "text/plain": [
       "age\n",
       "23.0    2\n",
       "22.0    1\n",
       "25.0    1\n",
       "Name: count, dtype: int64"
      ]
     },
     "execution_count": 7,
     "metadata": {},
     "output_type": "execute_result"
    }
   ],
   "source": [
    "df[\"age\"].value_counts()    # This is used to cont the seperate values"
   ]
  },
  {
   "cell_type": "code",
   "execution_count": 8,
   "id": "ab879a9a-e9d6-49bb-86c3-9ddacc546e57",
   "metadata": {},
   "outputs": [
    {
     "data": {
      "text/plain": [
       "name     age \n",
       "akhil    23.0    1\n",
       "hari     23.0    1\n",
       "krishna  25.0    1\n",
       "Name: count, dtype: int64"
      ]
     },
     "execution_count": 8,
     "metadata": {},
     "output_type": "execute_result"
    }
   ],
   "source": [
    "df.value_counts()            # correct , But it will take dataframe columns unique "
   ]
  },
  {
   "cell_type": "markdown",
   "id": "9e2e9cf0-f0b4-4e36-a95e-e2e8f36d04d2",
   "metadata": {},
   "source": [
    "#### OR"
   ]
  },
  {
   "cell_type": "markdown",
   "id": "aaa2cb08",
   "metadata": {},
   "source": [
    "#  unique"
   ]
  },
  {
   "cell_type": "markdown",
   "id": "314c76dc-5206-4e3b-9933-95fc9e21684e",
   "metadata": {},
   "source": [
    "##### Correct Nethod"
   ]
  },
  {
   "cell_type": "code",
   "execution_count": 9,
   "id": "69902be1-5f9c-42bf-a40e-b474d3668cb1",
   "metadata": {},
   "outputs": [
    {
     "data": {
      "text/plain": [
       "(array([22., 23., 25., nan]), array([1, 2, 1, 1], dtype=int64))"
      ]
     },
     "execution_count": 9,
     "metadata": {},
     "output_type": "execute_result"
    }
   ],
   "source": [
    "a = np.unique(df['age'] , return_counts=True)\n",
    "a"
   ]
  },
  {
   "cell_type": "code",
   "execution_count": 10,
   "id": "60106062",
   "metadata": {},
   "outputs": [
    {
     "data": {
      "text/plain": [
       "array([23., nan, 22., 25.])"
      ]
     },
     "execution_count": 10,
     "metadata": {},
     "output_type": "execute_result"
    }
   ],
   "source": [
    "df[\"age\"].unique()         # this type unique is uesd to find the seperate index unique"
   ]
  },
  {
   "cell_type": "markdown",
   "id": "c6f537e1-74ee-47f8-bd63-abb3a1033cde",
   "metadata": {},
   "source": [
    "##### Wrong Method"
   ]
  },
  {
   "cell_type": "code",
   "execution_count": 11,
   "id": "485f62ef-ca0a-4e2d-98f5-e26355d730ce",
   "metadata": {},
   "outputs": [],
   "source": [
    "# a = np.unique(df , return_counts=True)\n",
    "# a"
   ]
  },
  {
   "cell_type": "markdown",
   "id": "4afce73d",
   "metadata": {},
   "source": [
    "# categorical Data"
   ]
  },
  {
   "cell_type": "code",
   "execution_count": 12,
   "id": "08231788",
   "metadata": {},
   "outputs": [
    {
     "data": {
      "text/html": [
       "<div>\n",
       "<style scoped>\n",
       "    .dataframe tbody tr th:only-of-type {\n",
       "        vertical-align: middle;\n",
       "    }\n",
       "\n",
       "    .dataframe tbody tr th {\n",
       "        vertical-align: top;\n",
       "    }\n",
       "\n",
       "    .dataframe thead th {\n",
       "        text-align: right;\n",
       "    }\n",
       "</style>\n",
       "<table border=\"1\" class=\"dataframe\">\n",
       "  <thead>\n",
       "    <tr style=\"text-align: right;\">\n",
       "      <th></th>\n",
       "      <th>name</th>\n",
       "      <th>cast</th>\n",
       "      <th>age</th>\n",
       "      <th>sex</th>\n",
       "      <th>Dob</th>\n",
       "    </tr>\n",
       "  </thead>\n",
       "  <tbody>\n",
       "    <tr>\n",
       "      <th>0</th>\n",
       "      <td>kumar</td>\n",
       "      <td>bc</td>\n",
       "      <td>19</td>\n",
       "      <td>M</td>\n",
       "      <td>2002</td>\n",
       "    </tr>\n",
       "    <tr>\n",
       "      <th>1</th>\n",
       "      <td>krishna</td>\n",
       "      <td>oc</td>\n",
       "      <td>20</td>\n",
       "      <td>M</td>\n",
       "      <td>1998</td>\n",
       "    </tr>\n",
       "    <tr>\n",
       "      <th>2</th>\n",
       "      <td>sai</td>\n",
       "      <td>sc</td>\n",
       "      <td>22</td>\n",
       "      <td>F</td>\n",
       "      <td>2001</td>\n",
       "    </tr>\n",
       "    <tr>\n",
       "      <th>3</th>\n",
       "      <td>pavan</td>\n",
       "      <td>oc</td>\n",
       "      <td>20</td>\n",
       "      <td>M</td>\n",
       "      <td>2003</td>\n",
       "    </tr>\n",
       "    <tr>\n",
       "      <th>4</th>\n",
       "      <td>vishnu</td>\n",
       "      <td>bc</td>\n",
       "      <td>21</td>\n",
       "      <td>F</td>\n",
       "      <td>2000</td>\n",
       "    </tr>\n",
       "    <tr>\n",
       "      <th>5</th>\n",
       "      <td>sudheer</td>\n",
       "      <td>st</td>\n",
       "      <td>24</td>\n",
       "      <td>M</td>\n",
       "      <td>2003</td>\n",
       "    </tr>\n",
       "    <tr>\n",
       "      <th>6</th>\n",
       "      <td>akhil</td>\n",
       "      <td>bc</td>\n",
       "      <td>23</td>\n",
       "      <td>M</td>\n",
       "      <td>2002</td>\n",
       "    </tr>\n",
       "    <tr>\n",
       "      <th>7</th>\n",
       "      <td>hari</td>\n",
       "      <td>st</td>\n",
       "      <td>20</td>\n",
       "      <td>F</td>\n",
       "      <td>1999</td>\n",
       "    </tr>\n",
       "    <tr>\n",
       "      <th>8</th>\n",
       "      <td>vijay</td>\n",
       "      <td>oc</td>\n",
       "      <td>22</td>\n",
       "      <td>M</td>\n",
       "      <td>2001</td>\n",
       "    </tr>\n",
       "    <tr>\n",
       "      <th>9</th>\n",
       "      <td>ajay</td>\n",
       "      <td>sc</td>\n",
       "      <td>21</td>\n",
       "      <td>F</td>\n",
       "      <td>2004</td>\n",
       "    </tr>\n",
       "  </tbody>\n",
       "</table>\n",
       "</div>"
      ],
      "text/plain": [
       "      name cast  age sex   Dob\n",
       "0    kumar   bc   19   M  2002\n",
       "1  krishna   oc   20   M  1998\n",
       "2      sai   sc   22   F  2001\n",
       "3    pavan   oc   20   M  2003\n",
       "4   vishnu   bc   21   F  2000\n",
       "5  sudheer   st   24   M  2003\n",
       "6    akhil   bc   23   M  2002\n",
       "7     hari   st   20   F  1999\n",
       "8    vijay   oc   22   M  2001\n",
       "9     ajay   sc   21   F  2004"
      ]
     },
     "execution_count": 12,
     "metadata": {},
     "output_type": "execute_result"
    }
   ],
   "source": [
    "df1=pd.read_excel(\"D:\\\\ML\\\\17. ML - Chavali.xlsx\")\n",
    "df1"
   ]
  },
  {
   "cell_type": "code",
   "execution_count": 13,
   "id": "9f7958bf",
   "metadata": {},
   "outputs": [
    {
     "data": {
      "text/plain": [
       "name    object\n",
       "cast    object\n",
       "age      int64\n",
       "sex     object\n",
       "Dob      int64\n",
       "dtype: object"
      ]
     },
     "execution_count": 13,
     "metadata": {},
     "output_type": "execute_result"
    }
   ],
   "source": [
    "df1.dtypes          # we need to convert object to int"
   ]
  },
  {
   "cell_type": "markdown",
   "id": "a46a7025",
   "metadata": {},
   "source": [
    "###  Below 2 are same "
   ]
  },
  {
   "cell_type": "code",
   "execution_count": 14,
   "id": "71d93ae4",
   "metadata": {},
   "outputs": [
    {
     "data": {
      "text/plain": [
       "(array(['F', 'M'], dtype=object), array([4, 6], dtype=int64))"
      ]
     },
     "execution_count": 14,
     "metadata": {},
     "output_type": "execute_result"
    }
   ],
   "source": [
    "c1 =np.unique(df1['sex'],return_counts = True)   # correct  \n",
    "c1 \n",
    "\n",
    "# c1 =np.unique(df1,return_counts = True)     # wrong\n",
    "# c1               "
   ]
  },
  {
   "cell_type": "code",
   "execution_count": 15,
   "id": "f7a7d8c6",
   "metadata": {},
   "outputs": [
    {
     "data": {
      "text/plain": [
       "sex\n",
       "M    6\n",
       "F    4\n",
       "Name: count, dtype: int64"
      ]
     },
     "execution_count": 15,
     "metadata": {},
     "output_type": "execute_result"
    }
   ],
   "source": [
    "df1['sex'].value_counts()     # Correct\n",
    "\n",
    "# df1.value_counts()         # correct , But it will take dataframe columns unique "
   ]
  },
  {
   "cell_type": "markdown",
   "id": "feb28323",
   "metadata": {},
   "source": [
    "### Below 2 are same "
   ]
  },
  {
   "cell_type": "code",
   "execution_count": 16,
   "id": "4ab97425",
   "metadata": {},
   "outputs": [
    {
     "data": {
      "text/plain": [
       "array(['F', 'M'], dtype=object)"
      ]
     },
     "execution_count": 16,
     "metadata": {},
     "output_type": "execute_result"
    }
   ],
   "source": [
    "a1=np.unique(df1['sex'])     # correct \n",
    "a1\n",
    "\n",
    "# a1=np.unique(df1)     # wrong \n",
    "# a1"
   ]
  },
  {
   "cell_type": "code",
   "execution_count": 17,
   "id": "10288586",
   "metadata": {},
   "outputs": [
    {
     "data": {
      "text/plain": [
       "array(['M', 'F'], dtype=object)"
      ]
     },
     "execution_count": 17,
     "metadata": {},
     "output_type": "execute_result"
    }
   ],
   "source": [
    "df1['sex'].unique()     # Not recomended"
   ]
  },
  {
   "cell_type": "markdown",
   "id": "91b9ff05",
   "metadata": {},
   "source": [
    "### THis is used to find length "
   ]
  },
  {
   "cell_type": "code",
   "execution_count": 18,
   "id": "83ff4c82",
   "metadata": {},
   "outputs": [
    {
     "data": {
      "text/plain": [
       "2"
      ]
     },
     "execution_count": 18,
     "metadata": {},
     "output_type": "execute_result"
    }
   ],
   "source": [
    "l1 = len(np.unique(df1['sex']))   # correct\n",
    "l1\n",
    "\n",
    "\n",
    "#l1 = len(np.unique(df1))    # wrong    \n",
    "# l1"
   ]
  },
  {
   "cell_type": "code",
   "execution_count": 19,
   "id": "ef733542-8f1b-4452-b5a3-a718dd7fe4ba",
   "metadata": {},
   "outputs": [
    {
     "data": {
      "text/plain": [
       "2"
      ]
     },
     "execution_count": 19,
     "metadata": {},
     "output_type": "execute_result"
    }
   ],
   "source": [
    "len(df1['sex'].value_counts())"
   ]
  },
  {
   "cell_type": "markdown",
   "id": "c38151ec",
   "metadata": {},
   "source": [
    "# LabelEncoder"
   ]
  },
  {
   "cell_type": "markdown",
   "id": "61a6ef53",
   "metadata": {},
   "source": [
    "### The label encoder is used to convert the alphabetical data into numerical form "
   ]
  },
  {
   "cell_type": "markdown",
   "id": "cd0b3aa2",
   "metadata": {},
   "source": [
    "### * Because system understood only numerical form"
   ]
  },
  {
   "cell_type": "code",
   "execution_count": 20,
   "id": "499c00c5",
   "metadata": {},
   "outputs": [],
   "source": [
    "from sklearn.preprocessing import LabelEncoder"
   ]
  },
  {
   "cell_type": "code",
   "execution_count": 21,
   "id": "bf59b7e4",
   "metadata": {},
   "outputs": [
    {
     "data": {
      "text/plain": [
       "name\n",
       "kumar      1\n",
       "krishna    1\n",
       "sai        1\n",
       "pavan      1\n",
       "vishnu     1\n",
       "sudheer    1\n",
       "akhil      1\n",
       "hari       1\n",
       "vijay      1\n",
       "ajay       1\n",
       "Name: count, dtype: int64"
      ]
     },
     "execution_count": 21,
     "metadata": {},
     "output_type": "execute_result"
    }
   ],
   "source": [
    "df1['name'].value_counts()"
   ]
  },
  {
   "cell_type": "code",
   "execution_count": 22,
   "id": "caf82d32",
   "metadata": {},
   "outputs": [],
   "source": [
    "label_encoder = LabelEncoder()"
   ]
  },
  {
   "cell_type": "code",
   "execution_count": 23,
   "id": "54dbc689",
   "metadata": {},
   "outputs": [
    {
     "data": {
      "text/plain": [
       "name    object\n",
       "cast    object\n",
       "age      int64\n",
       "sex     object\n",
       "Dob      int64\n",
       "dtype: object"
      ]
     },
     "execution_count": 23,
     "metadata": {},
     "output_type": "execute_result"
    }
   ],
   "source": [
    "df1.dtypes          # we need covert objects into numerical form"
   ]
  },
  {
   "cell_type": "code",
   "execution_count": 24,
   "id": "4bd5a56d",
   "metadata": {},
   "outputs": [
    {
     "data": {
      "text/plain": [
       "0    4\n",
       "1    3\n",
       "2    6\n",
       "3    5\n",
       "4    9\n",
       "5    7\n",
       "6    1\n",
       "7    2\n",
       "8    8\n",
       "9    0\n",
       "Name: name, dtype: int32"
      ]
     },
     "execution_count": 24,
     "metadata": {},
     "output_type": "execute_result"
    }
   ],
   "source": [
    "df1['name'] = label_encoder.fit_transform(df1['name'])\n",
    "df1['name']"
   ]
  },
  {
   "cell_type": "code",
   "execution_count": 25,
   "id": "6336ca08",
   "metadata": {},
   "outputs": [
    {
     "data": {
      "text/plain": [
       "0    1\n",
       "1    1\n",
       "2    0\n",
       "3    1\n",
       "4    0\n",
       "5    1\n",
       "6    1\n",
       "7    0\n",
       "8    1\n",
       "9    0\n",
       "Name: sex, dtype: int32"
      ]
     },
     "execution_count": 25,
     "metadata": {},
     "output_type": "execute_result"
    }
   ],
   "source": [
    "df1['sex'] = label_encoder.fit_transform(df1['sex'])\n",
    "df1[\"sex\"]"
   ]
  },
  {
   "cell_type": "code",
   "execution_count": 26,
   "id": "66227bc2",
   "metadata": {},
   "outputs": [
    {
     "data": {
      "text/plain": [
       "0    0\n",
       "1    1\n",
       "2    2\n",
       "3    1\n",
       "4    0\n",
       "5    3\n",
       "6    0\n",
       "7    3\n",
       "8    1\n",
       "9    2\n",
       "Name: cast, dtype: int32"
      ]
     },
     "execution_count": 26,
     "metadata": {},
     "output_type": "execute_result"
    }
   ],
   "source": [
    "df1['cast'] = label_encoder.fit_transform(df1['cast'])\n",
    "df1['cast'] "
   ]
  },
  {
   "cell_type": "code",
   "execution_count": 27,
   "id": "3246422f",
   "metadata": {},
   "outputs": [
    {
     "data": {
      "text/html": [
       "<div>\n",
       "<style scoped>\n",
       "    .dataframe tbody tr th:only-of-type {\n",
       "        vertical-align: middle;\n",
       "    }\n",
       "\n",
       "    .dataframe tbody tr th {\n",
       "        vertical-align: top;\n",
       "    }\n",
       "\n",
       "    .dataframe thead th {\n",
       "        text-align: right;\n",
       "    }\n",
       "</style>\n",
       "<table border=\"1\" class=\"dataframe\">\n",
       "  <thead>\n",
       "    <tr style=\"text-align: right;\">\n",
       "      <th></th>\n",
       "      <th>name</th>\n",
       "      <th>cast</th>\n",
       "      <th>age</th>\n",
       "      <th>sex</th>\n",
       "      <th>Dob</th>\n",
       "    </tr>\n",
       "  </thead>\n",
       "  <tbody>\n",
       "    <tr>\n",
       "      <th>0</th>\n",
       "      <td>4</td>\n",
       "      <td>0</td>\n",
       "      <td>19</td>\n",
       "      <td>1</td>\n",
       "      <td>2002</td>\n",
       "    </tr>\n",
       "    <tr>\n",
       "      <th>1</th>\n",
       "      <td>3</td>\n",
       "      <td>1</td>\n",
       "      <td>20</td>\n",
       "      <td>1</td>\n",
       "      <td>1998</td>\n",
       "    </tr>\n",
       "    <tr>\n",
       "      <th>2</th>\n",
       "      <td>6</td>\n",
       "      <td>2</td>\n",
       "      <td>22</td>\n",
       "      <td>0</td>\n",
       "      <td>2001</td>\n",
       "    </tr>\n",
       "    <tr>\n",
       "      <th>3</th>\n",
       "      <td>5</td>\n",
       "      <td>1</td>\n",
       "      <td>20</td>\n",
       "      <td>1</td>\n",
       "      <td>2003</td>\n",
       "    </tr>\n",
       "    <tr>\n",
       "      <th>4</th>\n",
       "      <td>9</td>\n",
       "      <td>0</td>\n",
       "      <td>21</td>\n",
       "      <td>0</td>\n",
       "      <td>2000</td>\n",
       "    </tr>\n",
       "    <tr>\n",
       "      <th>5</th>\n",
       "      <td>7</td>\n",
       "      <td>3</td>\n",
       "      <td>24</td>\n",
       "      <td>1</td>\n",
       "      <td>2003</td>\n",
       "    </tr>\n",
       "    <tr>\n",
       "      <th>6</th>\n",
       "      <td>1</td>\n",
       "      <td>0</td>\n",
       "      <td>23</td>\n",
       "      <td>1</td>\n",
       "      <td>2002</td>\n",
       "    </tr>\n",
       "    <tr>\n",
       "      <th>7</th>\n",
       "      <td>2</td>\n",
       "      <td>3</td>\n",
       "      <td>20</td>\n",
       "      <td>0</td>\n",
       "      <td>1999</td>\n",
       "    </tr>\n",
       "    <tr>\n",
       "      <th>8</th>\n",
       "      <td>8</td>\n",
       "      <td>1</td>\n",
       "      <td>22</td>\n",
       "      <td>1</td>\n",
       "      <td>2001</td>\n",
       "    </tr>\n",
       "    <tr>\n",
       "      <th>9</th>\n",
       "      <td>0</td>\n",
       "      <td>2</td>\n",
       "      <td>21</td>\n",
       "      <td>0</td>\n",
       "      <td>2004</td>\n",
       "    </tr>\n",
       "  </tbody>\n",
       "</table>\n",
       "</div>"
      ],
      "text/plain": [
       "   name  cast  age  sex   Dob\n",
       "0     4     0   19    1  2002\n",
       "1     3     1   20    1  1998\n",
       "2     6     2   22    0  2001\n",
       "3     5     1   20    1  2003\n",
       "4     9     0   21    0  2000\n",
       "5     7     3   24    1  2003\n",
       "6     1     0   23    1  2002\n",
       "7     2     3   20    0  1999\n",
       "8     8     1   22    1  2001\n",
       "9     0     2   21    0  2004"
      ]
     },
     "execution_count": 27,
     "metadata": {},
     "output_type": "execute_result"
    }
   ],
   "source": [
    "df1"
   ]
  },
  {
   "cell_type": "code",
   "execution_count": 28,
   "id": "15bc4398",
   "metadata": {},
   "outputs": [
    {
     "data": {
      "text/plain": [
       "name    int32\n",
       "cast    int32\n",
       "age     int64\n",
       "sex     int32\n",
       "Dob     int64\n",
       "dtype: object"
      ]
     },
     "execution_count": 28,
     "metadata": {},
     "output_type": "execute_result"
    }
   ],
   "source": [
    "df1.dtypes"
   ]
  },
  {
   "cell_type": "markdown",
   "id": "227099fe",
   "metadata": {},
   "source": [
    "# one hot encoding "
   ]
  },
  {
   "cell_type": "markdown",
   "id": "871fe69e-6252-4f7a-82d8-e7789945c173",
   "metadata": {},
   "source": [
    "### The One hot encoding we can use 2 Methods"
   ]
  },
  {
   "cell_type": "markdown",
   "id": "0d674be2-2bb2-4c1e-ae97-85242e9564da",
   "metadata": {},
   "source": [
    "#### Using Pandas"
   ]
  },
  {
   "cell_type": "code",
   "execution_count": 29,
   "id": "9bd994b2",
   "metadata": {},
   "outputs": [],
   "source": [
    "import pandas as pd\n",
    "import numpy as np"
   ]
  },
  {
   "cell_type": "code",
   "execution_count": 30,
   "id": "d5ae6a89",
   "metadata": {},
   "outputs": [
    {
     "data": {
      "text/html": [
       "<div>\n",
       "<style scoped>\n",
       "    .dataframe tbody tr th:only-of-type {\n",
       "        vertical-align: middle;\n",
       "    }\n",
       "\n",
       "    .dataframe tbody tr th {\n",
       "        vertical-align: top;\n",
       "    }\n",
       "\n",
       "    .dataframe thead th {\n",
       "        text-align: right;\n",
       "    }\n",
       "</style>\n",
       "<table border=\"1\" class=\"dataframe\">\n",
       "  <thead>\n",
       "    <tr style=\"text-align: right;\">\n",
       "      <th></th>\n",
       "      <th>name</th>\n",
       "      <th>cast</th>\n",
       "      <th>age</th>\n",
       "      <th>sex</th>\n",
       "      <th>Dob</th>\n",
       "    </tr>\n",
       "  </thead>\n",
       "  <tbody>\n",
       "    <tr>\n",
       "      <th>0</th>\n",
       "      <td>kumar</td>\n",
       "      <td>bc</td>\n",
       "      <td>19</td>\n",
       "      <td>M</td>\n",
       "      <td>2002</td>\n",
       "    </tr>\n",
       "    <tr>\n",
       "      <th>1</th>\n",
       "      <td>krishna</td>\n",
       "      <td>oc</td>\n",
       "      <td>20</td>\n",
       "      <td>M</td>\n",
       "      <td>1998</td>\n",
       "    </tr>\n",
       "    <tr>\n",
       "      <th>2</th>\n",
       "      <td>sai</td>\n",
       "      <td>sc</td>\n",
       "      <td>22</td>\n",
       "      <td>F</td>\n",
       "      <td>2001</td>\n",
       "    </tr>\n",
       "    <tr>\n",
       "      <th>3</th>\n",
       "      <td>pavan</td>\n",
       "      <td>oc</td>\n",
       "      <td>20</td>\n",
       "      <td>M</td>\n",
       "      <td>2003</td>\n",
       "    </tr>\n",
       "    <tr>\n",
       "      <th>4</th>\n",
       "      <td>vishnu</td>\n",
       "      <td>bc</td>\n",
       "      <td>21</td>\n",
       "      <td>F</td>\n",
       "      <td>2000</td>\n",
       "    </tr>\n",
       "    <tr>\n",
       "      <th>5</th>\n",
       "      <td>sudheer</td>\n",
       "      <td>st</td>\n",
       "      <td>24</td>\n",
       "      <td>M</td>\n",
       "      <td>2003</td>\n",
       "    </tr>\n",
       "    <tr>\n",
       "      <th>6</th>\n",
       "      <td>akhil</td>\n",
       "      <td>bc</td>\n",
       "      <td>23</td>\n",
       "      <td>M</td>\n",
       "      <td>2002</td>\n",
       "    </tr>\n",
       "    <tr>\n",
       "      <th>7</th>\n",
       "      <td>hari</td>\n",
       "      <td>st</td>\n",
       "      <td>20</td>\n",
       "      <td>F</td>\n",
       "      <td>1999</td>\n",
       "    </tr>\n",
       "    <tr>\n",
       "      <th>8</th>\n",
       "      <td>vijay</td>\n",
       "      <td>oc</td>\n",
       "      <td>22</td>\n",
       "      <td>M</td>\n",
       "      <td>2001</td>\n",
       "    </tr>\n",
       "    <tr>\n",
       "      <th>9</th>\n",
       "      <td>ajay</td>\n",
       "      <td>sc</td>\n",
       "      <td>21</td>\n",
       "      <td>F</td>\n",
       "      <td>2004</td>\n",
       "    </tr>\n",
       "  </tbody>\n",
       "</table>\n",
       "</div>"
      ],
      "text/plain": [
       "      name cast  age sex   Dob\n",
       "0    kumar   bc   19   M  2002\n",
       "1  krishna   oc   20   M  1998\n",
       "2      sai   sc   22   F  2001\n",
       "3    pavan   oc   20   M  2003\n",
       "4   vishnu   bc   21   F  2000\n",
       "5  sudheer   st   24   M  2003\n",
       "6    akhil   bc   23   M  2002\n",
       "7     hari   st   20   F  1999\n",
       "8    vijay   oc   22   M  2001\n",
       "9     ajay   sc   21   F  2004"
      ]
     },
     "execution_count": 30,
     "metadata": {},
     "output_type": "execute_result"
    }
   ],
   "source": [
    "df2 =pd.read_excel(\"D:\\\\ML\\\\17. ML - Chavali.xlsx\")\n",
    "df2"
   ]
  },
  {
   "cell_type": "code",
   "execution_count": 31,
   "id": "17b9a889",
   "metadata": {},
   "outputs": [
    {
     "data": {
      "text/html": [
       "<div>\n",
       "<style scoped>\n",
       "    .dataframe tbody tr th:only-of-type {\n",
       "        vertical-align: middle;\n",
       "    }\n",
       "\n",
       "    .dataframe tbody tr th {\n",
       "        vertical-align: top;\n",
       "    }\n",
       "\n",
       "    .dataframe thead th {\n",
       "        text-align: right;\n",
       "    }\n",
       "</style>\n",
       "<table border=\"1\" class=\"dataframe\">\n",
       "  <thead>\n",
       "    <tr style=\"text-align: right;\">\n",
       "      <th></th>\n",
       "      <th>age</th>\n",
       "      <th>Dob</th>\n",
       "      <th>name_ajay</th>\n",
       "      <th>name_akhil</th>\n",
       "      <th>name_hari</th>\n",
       "      <th>name_krishna</th>\n",
       "      <th>name_kumar</th>\n",
       "      <th>name_pavan</th>\n",
       "      <th>name_sai</th>\n",
       "      <th>name_sudheer</th>\n",
       "      <th>name_vijay</th>\n",
       "      <th>name_vishnu</th>\n",
       "      <th>cast_bc</th>\n",
       "      <th>cast_oc</th>\n",
       "      <th>cast_sc</th>\n",
       "      <th>cast_st</th>\n",
       "      <th>sex_F</th>\n",
       "      <th>sex_M</th>\n",
       "    </tr>\n",
       "  </thead>\n",
       "  <tbody>\n",
       "    <tr>\n",
       "      <th>0</th>\n",
       "      <td>19</td>\n",
       "      <td>2002</td>\n",
       "      <td>0</td>\n",
       "      <td>0</td>\n",
       "      <td>0</td>\n",
       "      <td>0</td>\n",
       "      <td>1</td>\n",
       "      <td>0</td>\n",
       "      <td>0</td>\n",
       "      <td>0</td>\n",
       "      <td>0</td>\n",
       "      <td>0</td>\n",
       "      <td>1</td>\n",
       "      <td>0</td>\n",
       "      <td>0</td>\n",
       "      <td>0</td>\n",
       "      <td>0</td>\n",
       "      <td>1</td>\n",
       "    </tr>\n",
       "    <tr>\n",
       "      <th>1</th>\n",
       "      <td>20</td>\n",
       "      <td>1998</td>\n",
       "      <td>0</td>\n",
       "      <td>0</td>\n",
       "      <td>0</td>\n",
       "      <td>1</td>\n",
       "      <td>0</td>\n",
       "      <td>0</td>\n",
       "      <td>0</td>\n",
       "      <td>0</td>\n",
       "      <td>0</td>\n",
       "      <td>0</td>\n",
       "      <td>0</td>\n",
       "      <td>1</td>\n",
       "      <td>0</td>\n",
       "      <td>0</td>\n",
       "      <td>0</td>\n",
       "      <td>1</td>\n",
       "    </tr>\n",
       "    <tr>\n",
       "      <th>2</th>\n",
       "      <td>22</td>\n",
       "      <td>2001</td>\n",
       "      <td>0</td>\n",
       "      <td>0</td>\n",
       "      <td>0</td>\n",
       "      <td>0</td>\n",
       "      <td>0</td>\n",
       "      <td>0</td>\n",
       "      <td>1</td>\n",
       "      <td>0</td>\n",
       "      <td>0</td>\n",
       "      <td>0</td>\n",
       "      <td>0</td>\n",
       "      <td>0</td>\n",
       "      <td>1</td>\n",
       "      <td>0</td>\n",
       "      <td>1</td>\n",
       "      <td>0</td>\n",
       "    </tr>\n",
       "    <tr>\n",
       "      <th>3</th>\n",
       "      <td>20</td>\n",
       "      <td>2003</td>\n",
       "      <td>0</td>\n",
       "      <td>0</td>\n",
       "      <td>0</td>\n",
       "      <td>0</td>\n",
       "      <td>0</td>\n",
       "      <td>1</td>\n",
       "      <td>0</td>\n",
       "      <td>0</td>\n",
       "      <td>0</td>\n",
       "      <td>0</td>\n",
       "      <td>0</td>\n",
       "      <td>1</td>\n",
       "      <td>0</td>\n",
       "      <td>0</td>\n",
       "      <td>0</td>\n",
       "      <td>1</td>\n",
       "    </tr>\n",
       "    <tr>\n",
       "      <th>4</th>\n",
       "      <td>21</td>\n",
       "      <td>2000</td>\n",
       "      <td>0</td>\n",
       "      <td>0</td>\n",
       "      <td>0</td>\n",
       "      <td>0</td>\n",
       "      <td>0</td>\n",
       "      <td>0</td>\n",
       "      <td>0</td>\n",
       "      <td>0</td>\n",
       "      <td>0</td>\n",
       "      <td>1</td>\n",
       "      <td>1</td>\n",
       "      <td>0</td>\n",
       "      <td>0</td>\n",
       "      <td>0</td>\n",
       "      <td>1</td>\n",
       "      <td>0</td>\n",
       "    </tr>\n",
       "    <tr>\n",
       "      <th>5</th>\n",
       "      <td>24</td>\n",
       "      <td>2003</td>\n",
       "      <td>0</td>\n",
       "      <td>0</td>\n",
       "      <td>0</td>\n",
       "      <td>0</td>\n",
       "      <td>0</td>\n",
       "      <td>0</td>\n",
       "      <td>0</td>\n",
       "      <td>1</td>\n",
       "      <td>0</td>\n",
       "      <td>0</td>\n",
       "      <td>0</td>\n",
       "      <td>0</td>\n",
       "      <td>0</td>\n",
       "      <td>1</td>\n",
       "      <td>0</td>\n",
       "      <td>1</td>\n",
       "    </tr>\n",
       "    <tr>\n",
       "      <th>6</th>\n",
       "      <td>23</td>\n",
       "      <td>2002</td>\n",
       "      <td>0</td>\n",
       "      <td>1</td>\n",
       "      <td>0</td>\n",
       "      <td>0</td>\n",
       "      <td>0</td>\n",
       "      <td>0</td>\n",
       "      <td>0</td>\n",
       "      <td>0</td>\n",
       "      <td>0</td>\n",
       "      <td>0</td>\n",
       "      <td>1</td>\n",
       "      <td>0</td>\n",
       "      <td>0</td>\n",
       "      <td>0</td>\n",
       "      <td>0</td>\n",
       "      <td>1</td>\n",
       "    </tr>\n",
       "    <tr>\n",
       "      <th>7</th>\n",
       "      <td>20</td>\n",
       "      <td>1999</td>\n",
       "      <td>0</td>\n",
       "      <td>0</td>\n",
       "      <td>1</td>\n",
       "      <td>0</td>\n",
       "      <td>0</td>\n",
       "      <td>0</td>\n",
       "      <td>0</td>\n",
       "      <td>0</td>\n",
       "      <td>0</td>\n",
       "      <td>0</td>\n",
       "      <td>0</td>\n",
       "      <td>0</td>\n",
       "      <td>0</td>\n",
       "      <td>1</td>\n",
       "      <td>1</td>\n",
       "      <td>0</td>\n",
       "    </tr>\n",
       "    <tr>\n",
       "      <th>8</th>\n",
       "      <td>22</td>\n",
       "      <td>2001</td>\n",
       "      <td>0</td>\n",
       "      <td>0</td>\n",
       "      <td>0</td>\n",
       "      <td>0</td>\n",
       "      <td>0</td>\n",
       "      <td>0</td>\n",
       "      <td>0</td>\n",
       "      <td>0</td>\n",
       "      <td>1</td>\n",
       "      <td>0</td>\n",
       "      <td>0</td>\n",
       "      <td>1</td>\n",
       "      <td>0</td>\n",
       "      <td>0</td>\n",
       "      <td>0</td>\n",
       "      <td>1</td>\n",
       "    </tr>\n",
       "    <tr>\n",
       "      <th>9</th>\n",
       "      <td>21</td>\n",
       "      <td>2004</td>\n",
       "      <td>1</td>\n",
       "      <td>0</td>\n",
       "      <td>0</td>\n",
       "      <td>0</td>\n",
       "      <td>0</td>\n",
       "      <td>0</td>\n",
       "      <td>0</td>\n",
       "      <td>0</td>\n",
       "      <td>0</td>\n",
       "      <td>0</td>\n",
       "      <td>0</td>\n",
       "      <td>0</td>\n",
       "      <td>1</td>\n",
       "      <td>0</td>\n",
       "      <td>1</td>\n",
       "      <td>0</td>\n",
       "    </tr>\n",
       "  </tbody>\n",
       "</table>\n",
       "</div>"
      ],
      "text/plain": [
       "   age   Dob  name_ajay  name_akhil  name_hari  name_krishna  name_kumar  \\\n",
       "0   19  2002          0           0          0             0           1   \n",
       "1   20  1998          0           0          0             1           0   \n",
       "2   22  2001          0           0          0             0           0   \n",
       "3   20  2003          0           0          0             0           0   \n",
       "4   21  2000          0           0          0             0           0   \n",
       "5   24  2003          0           0          0             0           0   \n",
       "6   23  2002          0           1          0             0           0   \n",
       "7   20  1999          0           0          1             0           0   \n",
       "8   22  2001          0           0          0             0           0   \n",
       "9   21  2004          1           0          0             0           0   \n",
       "\n",
       "   name_pavan  name_sai  name_sudheer  name_vijay  name_vishnu  cast_bc  \\\n",
       "0           0         0             0           0            0        1   \n",
       "1           0         0             0           0            0        0   \n",
       "2           0         1             0           0            0        0   \n",
       "3           1         0             0           0            0        0   \n",
       "4           0         0             0           0            1        1   \n",
       "5           0         0             1           0            0        0   \n",
       "6           0         0             0           0            0        1   \n",
       "7           0         0             0           0            0        0   \n",
       "8           0         0             0           1            0        0   \n",
       "9           0         0             0           0            0        0   \n",
       "\n",
       "   cast_oc  cast_sc  cast_st  sex_F  sex_M  \n",
       "0        0        0        0      0      1  \n",
       "1        1        0        0      0      1  \n",
       "2        0        1        0      1      0  \n",
       "3        1        0        0      0      1  \n",
       "4        0        0        0      1      0  \n",
       "5        0        0        1      0      1  \n",
       "6        0        0        0      0      1  \n",
       "7        0        0        1      1      0  \n",
       "8        1        0        0      0      1  \n",
       "9        0        1        0      1      0  "
      ]
     },
     "execution_count": 31,
     "metadata": {},
     "output_type": "execute_result"
    }
   ],
   "source": [
    "a = pd.get_dummies(df2 , dtype=int)   # True = 1  , False = 0\n",
    "a\n",
    "\n",
    "# If we not use 'dtype = int' means then it will show true / false"
   ]
  },
  {
   "cell_type": "code",
   "execution_count": 32,
   "id": "c85dc2ad-28dc-42b0-b155-1e900af3cc9d",
   "metadata": {},
   "outputs": [
    {
     "data": {
      "text/plain": [
       "age             int64\n",
       "Dob             int64\n",
       "name_ajay       int32\n",
       "name_akhil      int32\n",
       "name_hari       int32\n",
       "name_krishna    int32\n",
       "name_kumar      int32\n",
       "name_pavan      int32\n",
       "name_sai        int32\n",
       "name_sudheer    int32\n",
       "name_vijay      int32\n",
       "name_vishnu     int32\n",
       "cast_bc         int32\n",
       "cast_oc         int32\n",
       "cast_sc         int32\n",
       "cast_st         int32\n",
       "sex_F           int32\n",
       "sex_M           int32\n",
       "dtype: object"
      ]
     },
     "execution_count": 32,
     "metadata": {},
     "output_type": "execute_result"
    }
   ],
   "source": [
    "a.dtypes"
   ]
  },
  {
   "cell_type": "markdown",
   "id": "aa3dfa76-94df-42f1-a214-30feab530abb",
   "metadata": {},
   "source": [
    "#### Using Sklearn  (Noo Need)"
   ]
  },
  {
   "cell_type": "code",
   "execution_count": 33,
   "id": "573ebae8-4a59-4d43-a562-d583c0bf6e38",
   "metadata": {},
   "outputs": [
    {
     "data": {
      "text/html": [
       "<div>\n",
       "<style scoped>\n",
       "    .dataframe tbody tr th:only-of-type {\n",
       "        vertical-align: middle;\n",
       "    }\n",
       "\n",
       "    .dataframe tbody tr th {\n",
       "        vertical-align: top;\n",
       "    }\n",
       "\n",
       "    .dataframe thead th {\n",
       "        text-align: right;\n",
       "    }\n",
       "</style>\n",
       "<table border=\"1\" class=\"dataframe\">\n",
       "  <thead>\n",
       "    <tr style=\"text-align: right;\">\n",
       "      <th></th>\n",
       "      <th>name</th>\n",
       "      <th>cast</th>\n",
       "      <th>age</th>\n",
       "      <th>sex</th>\n",
       "      <th>Dob</th>\n",
       "    </tr>\n",
       "  </thead>\n",
       "  <tbody>\n",
       "    <tr>\n",
       "      <th>0</th>\n",
       "      <td>kumar</td>\n",
       "      <td>bc</td>\n",
       "      <td>19</td>\n",
       "      <td>M</td>\n",
       "      <td>2002</td>\n",
       "    </tr>\n",
       "    <tr>\n",
       "      <th>1</th>\n",
       "      <td>krishna</td>\n",
       "      <td>oc</td>\n",
       "      <td>20</td>\n",
       "      <td>M</td>\n",
       "      <td>1998</td>\n",
       "    </tr>\n",
       "    <tr>\n",
       "      <th>2</th>\n",
       "      <td>sai</td>\n",
       "      <td>sc</td>\n",
       "      <td>22</td>\n",
       "      <td>F</td>\n",
       "      <td>2001</td>\n",
       "    </tr>\n",
       "    <tr>\n",
       "      <th>3</th>\n",
       "      <td>pavan</td>\n",
       "      <td>oc</td>\n",
       "      <td>20</td>\n",
       "      <td>M</td>\n",
       "      <td>2003</td>\n",
       "    </tr>\n",
       "    <tr>\n",
       "      <th>4</th>\n",
       "      <td>vishnu</td>\n",
       "      <td>bc</td>\n",
       "      <td>21</td>\n",
       "      <td>F</td>\n",
       "      <td>2000</td>\n",
       "    </tr>\n",
       "    <tr>\n",
       "      <th>5</th>\n",
       "      <td>sudheer</td>\n",
       "      <td>st</td>\n",
       "      <td>24</td>\n",
       "      <td>M</td>\n",
       "      <td>2003</td>\n",
       "    </tr>\n",
       "    <tr>\n",
       "      <th>6</th>\n",
       "      <td>akhil</td>\n",
       "      <td>bc</td>\n",
       "      <td>23</td>\n",
       "      <td>M</td>\n",
       "      <td>2002</td>\n",
       "    </tr>\n",
       "    <tr>\n",
       "      <th>7</th>\n",
       "      <td>hari</td>\n",
       "      <td>st</td>\n",
       "      <td>20</td>\n",
       "      <td>F</td>\n",
       "      <td>1999</td>\n",
       "    </tr>\n",
       "    <tr>\n",
       "      <th>8</th>\n",
       "      <td>vijay</td>\n",
       "      <td>oc</td>\n",
       "      <td>22</td>\n",
       "      <td>M</td>\n",
       "      <td>2001</td>\n",
       "    </tr>\n",
       "    <tr>\n",
       "      <th>9</th>\n",
       "      <td>ajay</td>\n",
       "      <td>sc</td>\n",
       "      <td>21</td>\n",
       "      <td>F</td>\n",
       "      <td>2004</td>\n",
       "    </tr>\n",
       "  </tbody>\n",
       "</table>\n",
       "</div>"
      ],
      "text/plain": [
       "      name cast  age sex   Dob\n",
       "0    kumar   bc   19   M  2002\n",
       "1  krishna   oc   20   M  1998\n",
       "2      sai   sc   22   F  2001\n",
       "3    pavan   oc   20   M  2003\n",
       "4   vishnu   bc   21   F  2000\n",
       "5  sudheer   st   24   M  2003\n",
       "6    akhil   bc   23   M  2002\n",
       "7     hari   st   20   F  1999\n",
       "8    vijay   oc   22   M  2001\n",
       "9     ajay   sc   21   F  2004"
      ]
     },
     "execution_count": 33,
     "metadata": {},
     "output_type": "execute_result"
    }
   ],
   "source": [
    "df2"
   ]
  },
  {
   "cell_type": "code",
   "execution_count": 34,
   "id": "078dc588-eeb7-4bc1-bbf6-8ecfaf48fe8a",
   "metadata": {},
   "outputs": [],
   "source": [
    "from sklearn.preprocessing import OneHotEncoder     "
   ]
  },
  {
   "cell_type": "code",
   "execution_count": 35,
   "id": "b854994e-ee83-41fc-a4c3-adcf58fd52b6",
   "metadata": {},
   "outputs": [],
   "source": [
    "encoder = OneHotEncoder(sparse=False)"
   ]
  }
 ],
 "metadata": {
  "kernelspec": {
   "display_name": "Python 3 (ipykernel)",
   "language": "python",
   "name": "python3"
  },
  "language_info": {
   "codemirror_mode": {
    "name": "ipython",
    "version": 3
   },
   "file_extension": ".py",
   "mimetype": "text/x-python",
   "name": "python",
   "nbconvert_exporter": "python",
   "pygments_lexer": "ipython3",
   "version": "3.11.7"
  }
 },
 "nbformat": 4,
 "nbformat_minor": 5
}
