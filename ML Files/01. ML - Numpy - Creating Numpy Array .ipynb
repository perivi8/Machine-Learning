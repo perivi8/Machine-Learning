{
 "cells": [
  {
   "cell_type": "markdown",
   "id": "564d3b46",
   "metadata": {},
   "source": [
    "#                                              Array"
   ]
  },
  {
   "cell_type": "code",
   "execution_count": 1,
   "id": "5e3bdc13",
   "metadata": {},
   "outputs": [
    {
     "name": "stdout",
     "output_type": "stream",
     "text": [
      "(1, 2, 3, 4, 5)\n",
      "[1 2 3 4 5]\n"
     ]
    },
    {
     "data": {
      "text/plain": [
       "array([1, 2, 3, 4, 5])"
      ]
     },
     "execution_count": 1,
     "metadata": {},
     "output_type": "execute_result"
    }
   ],
   "source": [
    "import numpy as np\n",
    "a = (1,2,3,4,5)\n",
    "print(a)\n",
    "b = np.array(a)\n",
    "print(b)\n",
    "b"
   ]
  },
  {
   "cell_type": "markdown",
   "id": "3f7c8875-2ddf-4627-96eb-7b0b4426610d",
   "metadata": {},
   "source": [
    "### Multiple lists"
   ]
  },
  {
   "cell_type": "code",
   "execution_count": 2,
   "id": "3c6e9b44-5375-4439-8bb2-27f082c1bad6",
   "metadata": {},
   "outputs": [
    {
     "data": {
      "text/plain": [
       "([2, 3, 5], [456])"
      ]
     },
     "execution_count": 2,
     "metadata": {},
     "output_type": "execute_result"
    }
   ],
   "source": [
    "aa = [2,3,5],[456] \n",
    "aa"
   ]
  },
  {
   "cell_type": "code",
   "execution_count": 3,
   "id": "6333006e-f028-49e6-ac42-7ea7b0fcb0cd",
   "metadata": {},
   "outputs": [
    {
     "data": {
      "text/plain": [
       "array([[1, 2, 3],\n",
       "       [5, 6, 7]])"
      ]
     },
     "execution_count": 3,
     "metadata": {},
     "output_type": "execute_result"
    }
   ],
   "source": [
    "import numpy as np\n",
    "bb = np.array([[1,2,3] , [5,6,7]])\n",
    "bb"
   ]
  },
  {
   "cell_type": "markdown",
   "id": "2e24fc89-7f5f-4a84-ac01-7564d59d29ef",
   "metadata": {},
   "source": [
    "### Multiple Tuples"
   ]
  },
  {
   "cell_type": "code",
   "execution_count": 4,
   "id": "708e13ce-f022-49e1-9363-7a7eac984b2c",
   "metadata": {},
   "outputs": [
    {
     "data": {
      "text/plain": [
       "([2, 3, 5], [456])"
      ]
     },
     "execution_count": 4,
     "metadata": {},
     "output_type": "execute_result"
    }
   ],
   "source": [
    "aa1 = (2,3,5),(456)\n",
    "aa"
   ]
  },
  {
   "cell_type": "code",
   "execution_count": 5,
   "id": "7f04f097-5238-49db-9c5a-42518b897586",
   "metadata": {},
   "outputs": [
    {
     "data": {
      "text/plain": [
       "array([[1, 2, 3],\n",
       "       [5, 6, 7]])"
      ]
     },
     "execution_count": 5,
     "metadata": {},
     "output_type": "execute_result"
    }
   ],
   "source": [
    "bb1 = np.array(((1,2,3) , (5,6,7)))\n",
    "bb1"
   ]
  },
  {
   "cell_type": "markdown",
   "id": "534b5a5f-9a7c-4a92-bf98-0fa2df5b946d",
   "metadata": {},
   "source": [
    "### Multiple Entire List using \"np\""
   ]
  },
  {
   "cell_type": "code",
   "execution_count": 6,
   "id": "b60d6e90-394d-46d4-b026-67724263dd03",
   "metadata": {},
   "outputs": [
    {
     "name": "stdout",
     "output_type": "stream",
     "text": [
      "[[ 2  8 12 14  6]\n",
      " [ 4 10  8  4  8]]\n",
      "([1, 4, 6, 7, 3], [2, 5, 4, 2, 4], [1, 4, 6, 7, 3], [2, 5, 4, 2, 4])\n"
     ]
    }
   ],
   "source": [
    "cc = [1,4,6,7,3],[2,5,4,2,4]\n",
    "ccc = np.array(cc)\n",
    "print(ccc*2)\n",
    "\n",
    "# Without \"NP\" ( Wrong )\n",
    "cc1 = [1,4,6,7,3],[2,5,4,2,4]\n",
    "print(cc1*2)"
   ]
  },
  {
   "cell_type": "code",
   "execution_count": 7,
   "id": "ce2f4dde",
   "metadata": {},
   "outputs": [
    {
     "name": "stdout",
     "output_type": "stream",
     "text": [
      "[1 2 3 4 5]\n"
     ]
    },
    {
     "data": {
      "text/plain": [
       "array([1, 2, 3, 4, 5])"
      ]
     },
     "execution_count": 7,
     "metadata": {},
     "output_type": "execute_result"
    }
   ],
   "source": [
    "\n",
    "a1 = [1,2,3,4,5]\n",
    "b1 = np.array(a1)\n",
    "print(b1)\n",
    "b1"
   ]
  },
  {
   "cell_type": "markdown",
   "id": "4ef5d097",
   "metadata": {},
   "source": [
    "# Type"
   ]
  },
  {
   "cell_type": "code",
   "execution_count": 8,
   "id": "128b76c7",
   "metadata": {},
   "outputs": [
    {
     "data": {
      "text/plain": [
       "tuple"
      ]
     },
     "execution_count": 8,
     "metadata": {},
     "output_type": "execute_result"
    }
   ],
   "source": [
    "type(a)"
   ]
  },
  {
   "cell_type": "code",
   "execution_count": 9,
   "id": "367be734",
   "metadata": {},
   "outputs": [
    {
     "data": {
      "text/plain": [
       "numpy.ndarray"
      ]
     },
     "execution_count": 9,
     "metadata": {},
     "output_type": "execute_result"
    }
   ],
   "source": [
    "type(b)"
   ]
  },
  {
   "cell_type": "code",
   "execution_count": 10,
   "id": "e753b5fa",
   "metadata": {},
   "outputs": [
    {
     "data": {
      "text/plain": [
       "list"
      ]
     },
     "execution_count": 10,
     "metadata": {},
     "output_type": "execute_result"
    }
   ],
   "source": [
    "type(a1)"
   ]
  },
  {
   "cell_type": "code",
   "execution_count": 11,
   "id": "f8180dc4",
   "metadata": {},
   "outputs": [
    {
     "data": {
      "text/plain": [
       "numpy.ndarray"
      ]
     },
     "execution_count": 11,
     "metadata": {},
     "output_type": "execute_result"
    }
   ],
   "source": [
    "type(b1)"
   ]
  },
  {
   "cell_type": "markdown",
   "id": "aa6a7644",
   "metadata": {},
   "source": [
    "# convert list to array"
   ]
  },
  {
   "cell_type": "code",
   "execution_count": 12,
   "id": "a0465002",
   "metadata": {},
   "outputs": [
    {
     "data": {
      "text/plain": [
       "array([1, 3, 4, 5, 6, 8])"
      ]
     },
     "execution_count": 12,
     "metadata": {},
     "output_type": "execute_result"
    }
   ],
   "source": [
    "c = [1,3,4,5,6,8]     # it is an list \n",
    "d = np.array(c)       # it is an array\n",
    "d"
   ]
  },
  {
   "cell_type": "markdown",
   "id": "59f84c38-9d98-48e2-b0eb-04c8978632ee",
   "metadata": {},
   "source": [
    "### Changes For List ( We can modify the List )"
   ]
  },
  {
   "cell_type": "code",
   "execution_count": 13,
   "id": "ff122f94",
   "metadata": {},
   "outputs": [
    {
     "data": {
      "text/plain": [
       "['hari', 3, 4, 5, 6, 8]"
      ]
     },
     "execution_count": 13,
     "metadata": {},
     "output_type": "execute_result"
    }
   ],
   "source": [
    "c[0] = \"hari\"     \n",
    "c"
   ]
  },
  {
   "cell_type": "code",
   "execution_count": 14,
   "id": "79d768f1-2007-41ab-854d-a8febdad9a20",
   "metadata": {},
   "outputs": [
    {
     "data": {
      "text/plain": [
       "['hari', 8, 4, 5, 6, 8]"
      ]
     },
     "execution_count": 14,
     "metadata": {},
     "output_type": "execute_result"
    }
   ],
   "source": [
    "c[1] = 8\n",
    "c"
   ]
  },
  {
   "cell_type": "markdown",
   "id": "513ea290-f3aa-4029-961c-ecdd4584db4e",
   "metadata": {},
   "source": [
    "### Changes after Convert list to array"
   ]
  },
  {
   "cell_type": "code",
   "execution_count": 15,
   "id": "6ff9db45-520b-4686-a816-f017a7975aa4",
   "metadata": {},
   "outputs": [
    {
     "ename": "ValueError",
     "evalue": "invalid literal for int() with base 10: 'krishna'",
     "output_type": "error",
     "traceback": [
      "\u001b[1;31m---------------------------------------------------------------------------\u001b[0m",
      "\u001b[1;31mValueError\u001b[0m                                Traceback (most recent call last)",
      "Cell \u001b[1;32mIn[15], line 1\u001b[0m\n\u001b[1;32m----> 1\u001b[0m d[\u001b[38;5;241m4\u001b[39m] \u001b[38;5;241m=\u001b[39m \u001b[38;5;124m'\u001b[39m\u001b[38;5;124mkrishna\u001b[39m\u001b[38;5;124m'\u001b[39m  \u001b[38;5;66;03m# It show an error \u001b[39;00m\n\u001b[0;32m      2\u001b[0m d\n",
      "\u001b[1;31mValueError\u001b[0m: invalid literal for int() with base 10: 'krishna'"
     ]
    }
   ],
   "source": [
    "d[4] = 'krishna'  # It show an error \n",
    "d                 \n",
    "\n",
    "\n",
    "# If we want to minimize the error means we need to convert \"elements\" as Srings \n",
    "\n",
    "# string_array = d.astype(str)\n",
    "# string_array[4] = \"krishna\"\n",
    "# string_array"
   ]
  },
  {
   "cell_type": "code",
   "execution_count": 16,
   "id": "6d68bb0e",
   "metadata": {},
   "outputs": [
    {
     "data": {
      "text/plain": [
       "array([1, 3, 4, 5, 9, 8])"
      ]
     },
     "execution_count": 16,
     "metadata": {},
     "output_type": "execute_result"
    }
   ],
   "source": [
    "d[4] = 9\n",
    "d"
   ]
  },
  {
   "cell_type": "markdown",
   "id": "af72548b-3e30-4ac6-b750-3ebe9aa120e3",
   "metadata": {},
   "source": [
    "# Tuples to Array"
   ]
  },
  {
   "cell_type": "code",
   "execution_count": 17,
   "id": "3c38accf-a26f-4fd3-b07a-f124e23911ef",
   "metadata": {},
   "outputs": [
    {
     "data": {
      "text/plain": [
       "array(['1', 'hari', '3', '2', 'perivi'], dtype='<U11')"
      ]
     },
     "execution_count": 17,
     "metadata": {},
     "output_type": "execute_result"
    }
   ],
   "source": [
    "z = (1 , \"hari\" , 3 , 2 , \"perivi\")\n",
    "z1 = np.array(z)\n",
    "z1"
   ]
  },
  {
   "cell_type": "markdown",
   "id": "903de538-e56b-4622-8052-3e7e7016ba7a",
   "metadata": {},
   "source": [
    "### Changes for Tuples ( We can't modify the Tuple )"
   ]
  },
  {
   "cell_type": "code",
   "execution_count": 18,
   "id": "600a4563-9341-472e-a069-37f8e25e9bcd",
   "metadata": {},
   "outputs": [
    {
     "ename": "TypeError",
     "evalue": "'tuple' object does not support item assignment",
     "output_type": "error",
     "traceback": [
      "\u001b[1;31m---------------------------------------------------------------------------\u001b[0m",
      "\u001b[1;31mTypeError\u001b[0m                                 Traceback (most recent call last)",
      "Cell \u001b[1;32mIn[18], line 1\u001b[0m\n\u001b[1;32m----> 1\u001b[0m z[\u001b[38;5;241m1\u001b[39m] \u001b[38;5;241m=\u001b[39m \u001b[38;5;124m\"\u001b[39m\u001b[38;5;124mkrishna\u001b[39m\u001b[38;5;124m\"\u001b[39m\n",
      "\u001b[1;31mTypeError\u001b[0m: 'tuple' object does not support item assignment"
     ]
    }
   ],
   "source": [
    "z[1] = \"krishna\"  # Error"
   ]
  },
  {
   "cell_type": "code",
   "execution_count": 19,
   "id": "1d581ebd-b7ad-4d05-a866-65f6d0bb2213",
   "metadata": {
    "scrolled": true
   },
   "outputs": [
    {
     "ename": "TypeError",
     "evalue": "'tuple' object does not support item assignment",
     "output_type": "error",
     "traceback": [
      "\u001b[1;31m---------------------------------------------------------------------------\u001b[0m",
      "\u001b[1;31mTypeError\u001b[0m                                 Traceback (most recent call last)",
      "Cell \u001b[1;32mIn[19], line 1\u001b[0m\n\u001b[1;32m----> 1\u001b[0m z[\u001b[38;5;241m2\u001b[39m] \u001b[38;5;241m=\u001b[39m \u001b[38;5;241m9\u001b[39m\n",
      "\u001b[1;31mTypeError\u001b[0m: 'tuple' object does not support item assignment"
     ]
    }
   ],
   "source": [
    "z[2] = 9  # Error"
   ]
  },
  {
   "cell_type": "markdown",
   "id": "8908fcbd-20ee-48b8-8967-7c8eb0089cd9",
   "metadata": {},
   "source": [
    "### Changes after convert Tuple to Array "
   ]
  },
  {
   "cell_type": "code",
   "execution_count": 20,
   "id": "4c0ececd-9f11-4c5a-85fc-cf7572903528",
   "metadata": {},
   "outputs": [
    {
     "data": {
      "text/plain": [
       "array(['1', 'sangeetham', '3', '2', 'perivi'], dtype='<U11')"
      ]
     },
     "execution_count": 20,
     "metadata": {},
     "output_type": "execute_result"
    }
   ],
   "source": [
    "z1[1] = \"sangeetham\"\n",
    "z1"
   ]
  },
  {
   "cell_type": "code",
   "execution_count": 21,
   "id": "7ef61ee1-e092-4c2f-a814-39140e92b337",
   "metadata": {},
   "outputs": [
    {
     "data": {
      "text/plain": [
       "array(['1', 'sangeetham', '100', '2', 'perivi'], dtype='<U11')"
      ]
     },
     "execution_count": 21,
     "metadata": {},
     "output_type": "execute_result"
    }
   ],
   "source": [
    "z1[2] = 100\n",
    "z1"
   ]
  },
  {
   "cell_type": "markdown",
   "id": "bf2ec214",
   "metadata": {},
   "source": [
    "# float array"
   ]
  },
  {
   "cell_type": "markdown",
   "id": "8299a322",
   "metadata": {},
   "source": [
    "### array to float"
   ]
  },
  {
   "cell_type": "code",
   "execution_count": 22,
   "id": "952e185d",
   "metadata": {},
   "outputs": [
    {
     "data": {
      "text/plain": [
       "array([[ 1, 25,  4,  5, 67],\n",
       "       [ 3, 55,  7, 95,  0]])"
      ]
     },
     "execution_count": 22,
     "metadata": {},
     "output_type": "execute_result"
    }
   ],
   "source": [
    "m = [ [1,25,4,5,67] ,\n",
    "     [3,55,7,95,0] ]\n",
    "n = np.array(m)\n",
    "n"
   ]
  },
  {
   "cell_type": "code",
   "execution_count": 23,
   "id": "a2440a92-3a6a-4651-9775-7308651308cb",
   "metadata": {},
   "outputs": [
    {
     "data": {
      "text/plain": [
       "array([[ 1., 25.,  4.,  5., 67.],\n",
       "       [ 3., 55.,  7., 95.,  0.]])"
      ]
     },
     "execution_count": 23,
     "metadata": {},
     "output_type": "execute_result"
    }
   ],
   "source": [
    "n1 = n.astype(float)\n",
    "n1"
   ]
  },
  {
   "cell_type": "markdown",
   "id": "190b825c",
   "metadata": {},
   "source": [
    "### float to int"
   ]
  },
  {
   "cell_type": "code",
   "execution_count": 24,
   "id": "d16521f8",
   "metadata": {},
   "outputs": [
    {
     "data": {
      "text/plain": [
       "array([[ 1, 25,  4,  5, 67],\n",
       "       [ 3, 55,  7, 95,  0]])"
      ]
     },
     "execution_count": 24,
     "metadata": {},
     "output_type": "execute_result"
    }
   ],
   "source": [
    "x = n.astype(int)\n",
    "x"
   ]
  },
  {
   "cell_type": "markdown",
   "id": "fcba42b4",
   "metadata": {},
   "source": [
    " # Boolean array"
   ]
  },
  {
   "cell_type": "markdown",
   "id": "aff569e6",
   "metadata": {},
   "source": [
    "### array to boolean"
   ]
  },
  {
   "cell_type": "code",
   "execution_count": 25,
   "id": "3557a70f",
   "metadata": {},
   "outputs": [
    {
     "data": {
      "text/plain": [
       "array([[  1,  25,   4,   5,  67],\n",
       "       [  3,  55,   7, -95,   0]])"
      ]
     },
     "execution_count": 25,
     "metadata": {},
     "output_type": "execute_result"
    }
   ],
   "source": [
    "o = [ [1,25,4,5,67] ,\n",
    "     [3,55,7,-95,0] ]\n",
    "p = np.array(o)\n",
    "p"
   ]
  },
  {
   "cell_type": "code",
   "execution_count": 26,
   "id": "2603e560",
   "metadata": {},
   "outputs": [
    {
     "data": {
      "text/plain": [
       "array([[ True,  True,  True,  True,  True],\n",
       "       [ True,  True,  True,  True, False]])"
      ]
     },
     "execution_count": 26,
     "metadata": {},
     "output_type": "execute_result"
    }
   ],
   "source": [
    "q = p.astype(bool)         # in bool 0 = false , any other number = 1\n",
    "q"
   ]
  },
  {
   "cell_type": "markdown",
   "id": "95078c49",
   "metadata": {},
   "source": [
    "### bool to int"
   ]
  },
  {
   "cell_type": "code",
   "execution_count": 27,
   "id": "c0973153",
   "metadata": {},
   "outputs": [
    {
     "data": {
      "text/plain": [
       "array([[1, 1, 1, 1, 1],\n",
       "       [1, 1, 1, 1, 0]])"
      ]
     },
     "execution_count": 27,
     "metadata": {},
     "output_type": "execute_result"
    }
   ],
   "source": [
    "y = q.astype(int)\n",
    "y"
   ]
  },
  {
   "cell_type": "code",
   "execution_count": null,
   "id": "67519219-c68a-4d21-9e66-26a739d739f3",
   "metadata": {},
   "outputs": [],
   "source": []
  },
  {
   "cell_type": "code",
   "execution_count": null,
   "id": "6e8761bd-8d9a-4e04-9774-75340bfe7fc0",
   "metadata": {},
   "outputs": [],
   "source": []
  }
 ],
 "metadata": {
  "kernelspec": {
   "display_name": "Python 3 (ipykernel)",
   "language": "python",
   "name": "python3"
  },
  "language_info": {
   "codemirror_mode": {
    "name": "ipython",
    "version": 3
   },
   "file_extension": ".py",
   "mimetype": "text/x-python",
   "name": "python",
   "nbconvert_exporter": "python",
   "pygments_lexer": "ipython3",
   "version": "3.11.7"
  }
 },
 "nbformat": 4,
 "nbformat_minor": 5
}
