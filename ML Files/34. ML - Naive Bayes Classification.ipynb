{
 "cells": [
  {
   "cell_type": "code",
   "execution_count": 233,
   "id": "e7689e55",
   "metadata": {},
   "outputs": [],
   "source": [
    "import pandas as pd \n",
    "import numpy as np"
   ]
  },
  {
   "cell_type": "code",
   "execution_count": 234,
   "id": "a5a51860",
   "metadata": {},
   "outputs": [
    {
     "data": {
      "text/html": [
       "<div>\n",
       "<style scoped>\n",
       "    .dataframe tbody tr th:only-of-type {\n",
       "        vertical-align: middle;\n",
       "    }\n",
       "\n",
       "    .dataframe tbody tr th {\n",
       "        vertical-align: top;\n",
       "    }\n",
       "\n",
       "    .dataframe thead th {\n",
       "        text-align: right;\n",
       "    }\n",
       "</style>\n",
       "<table border=\"1\" class=\"dataframe\">\n",
       "  <thead>\n",
       "    <tr style=\"text-align: right;\">\n",
       "      <th></th>\n",
       "      <th>User ID</th>\n",
       "      <th>Gender</th>\n",
       "      <th>Age</th>\n",
       "      <th>EstimatedSalary</th>\n",
       "      <th>Purchased</th>\n",
       "    </tr>\n",
       "  </thead>\n",
       "  <tbody>\n",
       "    <tr>\n",
       "      <th>0</th>\n",
       "      <td>15624510</td>\n",
       "      <td>Male</td>\n",
       "      <td>19</td>\n",
       "      <td>19000</td>\n",
       "      <td>0</td>\n",
       "    </tr>\n",
       "    <tr>\n",
       "      <th>1</th>\n",
       "      <td>15810944</td>\n",
       "      <td>Male</td>\n",
       "      <td>35</td>\n",
       "      <td>20000</td>\n",
       "      <td>0</td>\n",
       "    </tr>\n",
       "    <tr>\n",
       "      <th>2</th>\n",
       "      <td>15668575</td>\n",
       "      <td>Female</td>\n",
       "      <td>26</td>\n",
       "      <td>43000</td>\n",
       "      <td>0</td>\n",
       "    </tr>\n",
       "    <tr>\n",
       "      <th>3</th>\n",
       "      <td>15603246</td>\n",
       "      <td>Female</td>\n",
       "      <td>27</td>\n",
       "      <td>57000</td>\n",
       "      <td>0</td>\n",
       "    </tr>\n",
       "    <tr>\n",
       "      <th>4</th>\n",
       "      <td>15804002</td>\n",
       "      <td>Male</td>\n",
       "      <td>19</td>\n",
       "      <td>76000</td>\n",
       "      <td>0</td>\n",
       "    </tr>\n",
       "    <tr>\n",
       "      <th>...</th>\n",
       "      <td>...</td>\n",
       "      <td>...</td>\n",
       "      <td>...</td>\n",
       "      <td>...</td>\n",
       "      <td>...</td>\n",
       "    </tr>\n",
       "    <tr>\n",
       "      <th>395</th>\n",
       "      <td>15691863</td>\n",
       "      <td>Female</td>\n",
       "      <td>46</td>\n",
       "      <td>41000</td>\n",
       "      <td>1</td>\n",
       "    </tr>\n",
       "    <tr>\n",
       "      <th>396</th>\n",
       "      <td>15706071</td>\n",
       "      <td>Male</td>\n",
       "      <td>51</td>\n",
       "      <td>23000</td>\n",
       "      <td>1</td>\n",
       "    </tr>\n",
       "    <tr>\n",
       "      <th>397</th>\n",
       "      <td>15654296</td>\n",
       "      <td>Female</td>\n",
       "      <td>50</td>\n",
       "      <td>20000</td>\n",
       "      <td>1</td>\n",
       "    </tr>\n",
       "    <tr>\n",
       "      <th>398</th>\n",
       "      <td>15755018</td>\n",
       "      <td>Male</td>\n",
       "      <td>36</td>\n",
       "      <td>33000</td>\n",
       "      <td>0</td>\n",
       "    </tr>\n",
       "    <tr>\n",
       "      <th>399</th>\n",
       "      <td>15594041</td>\n",
       "      <td>Female</td>\n",
       "      <td>49</td>\n",
       "      <td>36000</td>\n",
       "      <td>1</td>\n",
       "    </tr>\n",
       "  </tbody>\n",
       "</table>\n",
       "<p>400 rows × 5 columns</p>\n",
       "</div>"
      ],
      "text/plain": [
       "      User ID  Gender  Age  EstimatedSalary  Purchased\n",
       "0    15624510    Male   19            19000          0\n",
       "1    15810944    Male   35            20000          0\n",
       "2    15668575  Female   26            43000          0\n",
       "3    15603246  Female   27            57000          0\n",
       "4    15804002    Male   19            76000          0\n",
       "..        ...     ...  ...              ...        ...\n",
       "395  15691863  Female   46            41000          1\n",
       "396  15706071    Male   51            23000          1\n",
       "397  15654296  Female   50            20000          1\n",
       "398  15755018    Male   36            33000          0\n",
       "399  15594041  Female   49            36000          1\n",
       "\n",
       "[400 rows x 5 columns]"
      ]
     },
     "execution_count": 234,
     "metadata": {},
     "output_type": "execute_result"
    }
   ],
   "source": [
    "df = pd.read_csv(\"D:\\\\ML\\\\34. ML - Naive Bayes Classification data.csv\")\n",
    "df"
   ]
  },
  {
   "cell_type": "code",
   "execution_count": 235,
   "id": "ca1374e6",
   "metadata": {},
   "outputs": [
    {
     "data": {
      "text/html": [
       "<div>\n",
       "<style scoped>\n",
       "    .dataframe tbody tr th:only-of-type {\n",
       "        vertical-align: middle;\n",
       "    }\n",
       "\n",
       "    .dataframe tbody tr th {\n",
       "        vertical-align: top;\n",
       "    }\n",
       "\n",
       "    .dataframe thead th {\n",
       "        text-align: right;\n",
       "    }\n",
       "</style>\n",
       "<table border=\"1\" class=\"dataframe\">\n",
       "  <thead>\n",
       "    <tr style=\"text-align: right;\">\n",
       "      <th></th>\n",
       "      <th>User ID</th>\n",
       "      <th>Age</th>\n",
       "      <th>EstimatedSalary</th>\n",
       "    </tr>\n",
       "  </thead>\n",
       "  <tbody>\n",
       "    <tr>\n",
       "      <th>0</th>\n",
       "      <td>15624510</td>\n",
       "      <td>19</td>\n",
       "      <td>19000</td>\n",
       "    </tr>\n",
       "    <tr>\n",
       "      <th>1</th>\n",
       "      <td>15810944</td>\n",
       "      <td>35</td>\n",
       "      <td>20000</td>\n",
       "    </tr>\n",
       "    <tr>\n",
       "      <th>2</th>\n",
       "      <td>15668575</td>\n",
       "      <td>26</td>\n",
       "      <td>43000</td>\n",
       "    </tr>\n",
       "    <tr>\n",
       "      <th>3</th>\n",
       "      <td>15603246</td>\n",
       "      <td>27</td>\n",
       "      <td>57000</td>\n",
       "    </tr>\n",
       "    <tr>\n",
       "      <th>4</th>\n",
       "      <td>15804002</td>\n",
       "      <td>19</td>\n",
       "      <td>76000</td>\n",
       "    </tr>\n",
       "    <tr>\n",
       "      <th>...</th>\n",
       "      <td>...</td>\n",
       "      <td>...</td>\n",
       "      <td>...</td>\n",
       "    </tr>\n",
       "    <tr>\n",
       "      <th>395</th>\n",
       "      <td>15691863</td>\n",
       "      <td>46</td>\n",
       "      <td>41000</td>\n",
       "    </tr>\n",
       "    <tr>\n",
       "      <th>396</th>\n",
       "      <td>15706071</td>\n",
       "      <td>51</td>\n",
       "      <td>23000</td>\n",
       "    </tr>\n",
       "    <tr>\n",
       "      <th>397</th>\n",
       "      <td>15654296</td>\n",
       "      <td>50</td>\n",
       "      <td>20000</td>\n",
       "    </tr>\n",
       "    <tr>\n",
       "      <th>398</th>\n",
       "      <td>15755018</td>\n",
       "      <td>36</td>\n",
       "      <td>33000</td>\n",
       "    </tr>\n",
       "    <tr>\n",
       "      <th>399</th>\n",
       "      <td>15594041</td>\n",
       "      <td>49</td>\n",
       "      <td>36000</td>\n",
       "    </tr>\n",
       "  </tbody>\n",
       "</table>\n",
       "<p>400 rows × 3 columns</p>\n",
       "</div>"
      ],
      "text/plain": [
       "      User ID  Age  EstimatedSalary\n",
       "0    15624510   19            19000\n",
       "1    15810944   35            20000\n",
       "2    15668575   26            43000\n",
       "3    15603246   27            57000\n",
       "4    15804002   19            76000\n",
       "..        ...  ...              ...\n",
       "395  15691863   46            41000\n",
       "396  15706071   51            23000\n",
       "397  15654296   50            20000\n",
       "398  15755018   36            33000\n",
       "399  15594041   49            36000\n",
       "\n",
       "[400 rows x 3 columns]"
      ]
     },
     "execution_count": 235,
     "metadata": {},
     "output_type": "execute_result"
    }
   ],
   "source": [
    "x = df[[\"User ID\",\"Age\" , \"EstimatedSalary\"]]\n",
    "x"
   ]
  },
  {
   "cell_type": "code",
   "execution_count": 236,
   "id": "defbbbf4",
   "metadata": {},
   "outputs": [
    {
     "data": {
      "text/plain": [
       "0      0\n",
       "1      0\n",
       "2      0\n",
       "3      0\n",
       "4      0\n",
       "      ..\n",
       "395    1\n",
       "396    1\n",
       "397    1\n",
       "398    0\n",
       "399    1\n",
       "Name: Purchased, Length: 400, dtype: int64"
      ]
     },
     "execution_count": 236,
     "metadata": {},
     "output_type": "execute_result"
    }
   ],
   "source": [
    "y = df['Purchased']\n",
    "y"
   ]
  },
  {
   "cell_type": "code",
   "execution_count": 237,
   "id": "c6e54e0d",
   "metadata": {},
   "outputs": [
    {
     "data": {
      "text/plain": [
       "array([[15624510,       19,    19000],\n",
       "       [15810944,       35,    20000],\n",
       "       [15668575,       26,    43000],\n",
       "       ...,\n",
       "       [15654296,       50,    20000],\n",
       "       [15755018,       36,    33000],\n",
       "       [15594041,       49,    36000]], dtype=int64)"
      ]
     },
     "execution_count": 237,
     "metadata": {},
     "output_type": "execute_result"
    }
   ],
   "source": [
    "x = np.array(x)\n",
    "x"
   ]
  },
  {
   "cell_type": "code",
   "execution_count": 238,
   "id": "35947815",
   "metadata": {},
   "outputs": [
    {
     "data": {
      "text/plain": [
       "array([0, 0, 0, 0, 0, 0, 0, 1, 0, 0, 0, 0, 0, 0, 0, 0, 1, 1, 1, 1, 1, 1,\n",
       "       1, 1, 1, 1, 1, 1, 0, 0, 0, 1, 0, 0, 0, 0, 0, 0, 0, 0, 0, 0, 0, 0,\n",
       "       0, 0, 0, 0, 1, 0, 0, 0, 0, 0, 0, 0, 0, 0, 0, 0, 0, 0, 0, 1, 0, 0,\n",
       "       0, 0, 0, 0, 0, 0, 0, 0, 0, 1, 0, 0, 0, 0, 0, 0, 0, 0, 0, 1, 0, 0,\n",
       "       0, 0, 0, 0, 0, 0, 0, 0, 0, 1, 0, 0, 0, 0, 0, 1, 0, 0, 0, 0, 0, 0,\n",
       "       0, 0, 0, 0, 0, 0, 0, 0, 0, 0, 0, 0, 0, 0, 0, 0, 0, 0, 0, 0, 0, 0,\n",
       "       0, 0, 0, 0, 0, 1, 0, 0, 0, 0, 0, 0, 0, 0, 1, 0, 0, 0, 0, 0, 0, 0,\n",
       "       0, 0, 0, 0, 0, 1, 1, 0, 0, 0, 0, 0, 0, 0, 1, 0, 0, 0, 0, 0, 0, 0,\n",
       "       0, 0, 0, 0, 0, 0, 1, 0, 0, 0, 0, 0, 0, 0, 0, 0, 0, 0, 0, 0, 0, 0,\n",
       "       0, 0, 0, 0, 1, 0, 1, 0, 1, 0, 1, 0, 1, 1, 0, 0, 0, 1, 0, 0, 0, 1,\n",
       "       0, 1, 1, 1, 0, 0, 1, 1, 0, 1, 1, 0, 1, 1, 0, 1, 0, 0, 0, 1, 1, 0,\n",
       "       1, 1, 0, 1, 0, 1, 0, 1, 0, 0, 1, 1, 0, 1, 0, 0, 1, 1, 0, 1, 1, 0,\n",
       "       1, 1, 0, 0, 1, 0, 0, 1, 1, 1, 1, 1, 0, 1, 1, 1, 1, 0, 1, 1, 0, 1,\n",
       "       0, 1, 0, 1, 1, 1, 1, 0, 0, 0, 1, 1, 0, 1, 1, 1, 1, 1, 0, 0, 0, 1,\n",
       "       1, 0, 0, 1, 0, 1, 0, 1, 1, 0, 1, 0, 1, 1, 0, 1, 1, 0, 0, 0, 1, 1,\n",
       "       0, 1, 0, 0, 1, 0, 1, 0, 0, 1, 1, 0, 0, 1, 1, 0, 1, 1, 0, 0, 1, 0,\n",
       "       1, 0, 1, 1, 1, 0, 1, 0, 1, 1, 1, 0, 1, 1, 1, 1, 0, 1, 1, 1, 0, 1,\n",
       "       0, 1, 0, 0, 1, 1, 0, 1, 1, 1, 1, 1, 1, 0, 1, 1, 1, 1, 1, 1, 0, 1,\n",
       "       1, 1, 0, 1], dtype=int64)"
      ]
     },
     "execution_count": 238,
     "metadata": {},
     "output_type": "execute_result"
    }
   ],
   "source": [
    "y = np.array(y)\n",
    "y"
   ]
  },
  {
   "cell_type": "code",
   "execution_count": 239,
   "id": "5e276c83",
   "metadata": {},
   "outputs": [],
   "source": [
    "from sklearn.model_selection import train_test_split"
   ]
  },
  {
   "cell_type": "code",
   "execution_count": 240,
   "id": "e5251d68",
   "metadata": {},
   "outputs": [],
   "source": [
    "x_train , x_test , y_train , y_test = train_test_split(x , y , test_size= 0.2 , random_state=0)"
   ]
  },
  {
   "cell_type": "code",
   "execution_count": 241,
   "id": "46674b78",
   "metadata": {},
   "outputs": [
    {
     "data": {
      "text/plain": [
       "array([[15664907,       58,   144000],\n",
       "       [15605000,       59,    83000],\n",
       "       [15649136,       24,    55000],\n",
       "       [15706185,       26,    35000],\n",
       "       [15736397,       58,    38000],\n",
       "       [15721007,       42,    80000],\n",
       "       [15724423,       40,    75000],\n",
       "       [15708791,       59,   130000],\n",
       "       [15691863,       46,    41000],\n",
       "       [15695679,       41,    60000],\n",
       "       [15683758,       42,    64000],\n",
       "       [15584320,       37,   146000],\n",
       "       [15775562,       23,    48000],\n",
       "       [15600575,       25,    33000],\n",
       "       [15730448,       24,    84000],\n",
       "       [15750839,       27,    96000],\n",
       "       [15578006,       23,    63000],\n",
       "       [15807837,       48,    33000],\n",
       "       [15600379,       48,    90000],\n",
       "       [15654456,       42,   104000],\n",
       "       [15810075,       44,    39000],\n",
       "       [15583681,       32,   120000],\n",
       "       [15733964,       38,    50000],\n",
       "       [15598840,       32,   135000],\n",
       "       [15663249,       52,    21000],\n",
       "       [15588080,       53,   104000],\n",
       "       [15668385,       39,    42000],\n",
       "       [15721835,       38,    61000],\n",
       "       [15619087,       36,    50000],\n",
       "       [15725794,       36,    63000],\n",
       "       [15710257,       35,    25000],\n",
       "       [15682268,       35,    50000],\n",
       "       [15673539,       42,    73000],\n",
       "       [15736760,       47,    49000],\n",
       "       [15807525,       59,    29000],\n",
       "       [15636023,       49,    65000],\n",
       "       [15815236,       45,   131000],\n",
       "       [15793813,       31,    89000],\n",
       "       [15617877,       46,    82000],\n",
       "       [15629739,       47,    51000],\n",
       "       [15809823,       26,    15000],\n",
       "       [15593715,       60,   102000],\n",
       "       [15619407,       38,   112000],\n",
       "       [15813113,       40,   107000],\n",
       "       [15800215,       42,    53000],\n",
       "       [15617134,       35,    59000],\n",
       "       [15714658,       48,    41000],\n",
       "       [15795298,       48,   134000],\n",
       "       [15800515,       38,   113000],\n",
       "       [15789815,       29,   148000],\n",
       "       [15679651,       26,    15000],\n",
       "       [15635893,       60,    42000],\n",
       "       [15679760,       24,    19000],\n",
       "       [15701537,       42,   149000],\n",
       "       [15666675,       46,    96000],\n",
       "       [15593014,       28,    59000],\n",
       "       [15622585,       39,    96000],\n",
       "       [15689751,       28,    89000],\n",
       "       [15713463,       41,    72000],\n",
       "       [15617482,       45,    26000],\n",
       "       [15697574,       33,    69000],\n",
       "       [15724402,       20,    82000],\n",
       "       [15581198,       31,    74000],\n",
       "       [15739160,       42,    80000],\n",
       "       [15767681,       35,    72000],\n",
       "       [15675949,       33,   149000],\n",
       "       [15573926,       40,    71000],\n",
       "       [15722061,       51,   146000],\n",
       "       [15646227,       46,    79000],\n",
       "       [15679297,       35,    75000],\n",
       "       [15693264,       38,    51000],\n",
       "       [15811613,       36,    75000],\n",
       "       [15713912,       37,    78000],\n",
       "       [15619653,       38,    61000],\n",
       "       [15779529,       60,   108000],\n",
       "       [15668504,       20,    82000],\n",
       "       [15727467,       57,    74000],\n",
       "       [15610801,       42,    65000],\n",
       "       [15745083,       26,    80000],\n",
       "       [15747043,       46,   117000],\n",
       "       [15685536,       35,    61000],\n",
       "       [15638963,       21,    68000],\n",
       "       [15776733,       28,    44000],\n",
       "       [15577806,       41,    87000],\n",
       "       [15599533,       37,    33000],\n",
       "       [15724858,       27,    90000],\n",
       "       [15694453,       39,    42000],\n",
       "       [15582492,       28,   123000],\n",
       "       [15663939,       31,   118000],\n",
       "       [15673619,       25,    87000],\n",
       "       [15614827,       35,    71000],\n",
       "       [15750447,       37,    70000],\n",
       "       [15628523,       35,    39000],\n",
       "       [15592570,       47,    23000],\n",
       "       [15794253,       35,   147000],\n",
       "       [15761950,       48,   138000],\n",
       "       [15720943,       26,    86000],\n",
       "       [15798850,       25,    79000],\n",
       "       [15774872,       52,   138000],\n",
       "       [15706071,       51,    23000],\n",
       "       [15575002,       35,    60000],\n",
       "       [15782530,       33,   113000],\n",
       "       [15687491,       30,   107000],\n",
       "       [15670615,       48,    33000],\n",
       "       [15789432,       41,    80000],\n",
       "       [15724536,       48,    96000],\n",
       "       [15669656,       31,    18000],\n",
       "       [15774727,       31,    71000],\n",
       "       [15577514,       43,   129000],\n",
       "       [15688172,       59,    76000],\n",
       "       [15764195,       18,    44000],\n",
       "       [15796351,       36,   118000],\n",
       "       [15587419,       42,    90000],\n",
       "       [15633531,       47,    30000],\n",
       "       [15668575,       26,    43000],\n",
       "       [15582066,       40,    78000],\n",
       "       [15791174,       46,    59000],\n",
       "       [15707596,       59,    42000],\n",
       "       [15596984,       46,    74000],\n",
       "       [15663161,       35,    91000],\n",
       "       [15610403,       28,    59000],\n",
       "       [15660541,       40,    57000],\n",
       "       [15732987,       59,   143000],\n",
       "       [15692819,       57,    26000],\n",
       "       [15613014,       52,    38000],\n",
       "       [15733973,       47,   113000],\n",
       "       [15772073,       53,   143000],\n",
       "       [15713144,       35,    27000],\n",
       "       [15660866,       58,   101000],\n",
       "       [15748589,       45,    45000],\n",
       "       [15654574,       23,    82000],\n",
       "       [15705113,       46,    23000],\n",
       "       [15769902,       42,    65000],\n",
       "       [15715541,       28,    84000],\n",
       "       [15736228,       38,    59000],\n",
       "       [15792102,       26,    84000],\n",
       "       [15699284,       29,    28000],\n",
       "       [15660200,       37,    71000],\n",
       "       [15762228,       22,    55000],\n",
       "       [15668521,       48,    35000],\n",
       "       [15707634,       49,    28000],\n",
       "       [15717560,       38,    65000],\n",
       "       [15764419,       27,    17000],\n",
       "       [15704583,       46,    28000],\n",
       "       [15638646,       48,   141000],\n",
       "       [15655123,       26,    17000],\n",
       "       [15753102,       35,    97000],\n",
       "       [15757632,       39,    59000],\n",
       "       [15726358,       24,    27000],\n",
       "       [15704987,       32,    18000],\n",
       "       [15671249,       46,    88000],\n",
       "       [15657163,       35,    58000],\n",
       "       [15775335,       56,    60000],\n",
       "       [15672330,       47,    34000],\n",
       "       [15691808,       40,    72000],\n",
       "       [15744279,       32,   100000],\n",
       "       [15672091,       19,    21000],\n",
       "       [15670619,       25,    90000],\n",
       "       [15711218,       35,    88000],\n",
       "       [15715160,       28,    32000],\n",
       "       [15654296,       50,    20000],\n",
       "       [15642725,       40,    59000],\n",
       "       [15724161,       50,    44000],\n",
       "       [15674206,       35,    72000],\n",
       "       [15800890,       40,   142000],\n",
       "       [15646091,       46,    32000],\n",
       "       [15665416,       39,    71000],\n",
       "       [15767871,       20,    74000],\n",
       "       [15602373,       29,    75000],\n",
       "       [15699247,       31,    76000],\n",
       "       [15733883,       47,    25000],\n",
       "       [15583137,       40,    61000],\n",
       "       [15651983,       34,   112000],\n",
       "       [15697997,       38,    80000],\n",
       "       [15785170,       42,    75000],\n",
       "       [15766609,       47,    47000],\n",
       "       [15594762,       39,    75000],\n",
       "       [15741094,       19,    25000],\n",
       "       [15753874,       37,    80000],\n",
       "       [15623502,       36,    60000],\n",
       "       [15730688,       41,    52000],\n",
       "       [15596761,       36,   125000],\n",
       "       [15621083,       48,    29000],\n",
       "       [15795224,       36,   126000],\n",
       "       [15603942,       51,   134000],\n",
       "       [15603246,       27,    57000],\n",
       "       [15734312,       38,    71000],\n",
       "       [15697020,       39,    61000],\n",
       "       [15774179,       22,    27000],\n",
       "       [15759066,       33,    60000],\n",
       "       [15678201,       48,    74000],\n",
       "       [15749381,       58,    23000],\n",
       "       [15646936,       53,    72000],\n",
       "       [15694288,       32,   117000],\n",
       "       [15778368,       54,    70000],\n",
       "       [15595917,       30,    80000],\n",
       "       [15569641,       58,    95000],\n",
       "       [15606274,       26,    52000],\n",
       "       [15675791,       45,    79000],\n",
       "       [15694946,       24,    55000],\n",
       "       [15721592,       40,    75000],\n",
       "       [15690188,       33,    28000],\n",
       "       [15715622,       44,   139000],\n",
       "       [15642885,       22,    18000],\n",
       "       [15591915,       33,    51000],\n",
       "       [15680752,       43,   133000],\n",
       "       [15694395,       24,    32000],\n",
       "       [15697424,       46,    22000],\n",
       "       [15684861,       35,    55000],\n",
       "       [15667417,       54,   104000],\n",
       "       [15589715,       48,   119000],\n",
       "       [15574305,       35,    53000],\n",
       "       [15694879,       37,   144000],\n",
       "       [15595135,       23,    66000],\n",
       "       [15720745,       37,   137000],\n",
       "       [15675185,       31,    58000],\n",
       "       [15571059,       33,    41000],\n",
       "       [15599081,       45,    22000],\n",
       "       [15792008,       30,    15000],\n",
       "       [15624510,       19,    19000],\n",
       "       [15708196,       49,    74000],\n",
       "       [15665760,       39,   122000],\n",
       "       [15575694,       35,    73000],\n",
       "       [15627220,       39,    71000],\n",
       "       [15584114,       24,    23000],\n",
       "       [15609637,       41,    72000],\n",
       "       [15786993,       29,    83000],\n",
       "       [15624755,       54,    26000],\n",
       "       [15709441,       35,    44000],\n",
       "       [15591279,       37,    75000],\n",
       "       [15579781,       29,    47000],\n",
       "       [15595324,       31,    68000],\n",
       "       [15787550,       42,    54000],\n",
       "       [15727696,       30,   135000],\n",
       "       [15794566,       52,   114000],\n",
       "       [15759684,       50,    36000],\n",
       "       [15685346,       56,   133000],\n",
       "       [15779862,       29,    61000],\n",
       "       [15783029,       30,    89000],\n",
       "       [15685576,       26,    16000],\n",
       "       [15801247,       33,    31000],\n",
       "       [15671387,       41,    72000],\n",
       "       [15755018,       36,    33000],\n",
       "       [15672821,       55,   125000],\n",
       "       [15575247,       48,   131000],\n",
       "       [15809347,       41,    71000],\n",
       "       [15798659,       30,    62000],\n",
       "       [15741049,       37,    72000],\n",
       "       [15716781,       41,    63000],\n",
       "       [15574372,       58,    47000],\n",
       "       [15636428,       30,   116000],\n",
       "       [15709476,       20,    49000],\n",
       "       [15581282,       37,    74000],\n",
       "       [15701962,       41,    59000],\n",
       "       [15596522,       49,    89000],\n",
       "       [15807481,       28,    79000],\n",
       "       [15611191,       53,    82000],\n",
       "       [15794493,       40,    57000],\n",
       "       [15606472,       60,    34000],\n",
       "       [15772798,       35,   108000],\n",
       "       [15801658,       21,    72000],\n",
       "       [15779744,       38,    71000],\n",
       "       [15589449,       39,   106000],\n",
       "       [15750335,       37,    57000],\n",
       "       [15671766,       26,    72000],\n",
       "       [15671655,       35,    23000],\n",
       "       [15768151,       54,   108000],\n",
       "       [15722758,       30,    17000],\n",
       "       [15586757,       39,   134000],\n",
       "       [15744529,       29,    43000],\n",
       "       [15603319,       33,    43000],\n",
       "       [15757837,       35,    38000],\n",
       "       [15576219,       41,    45000],\n",
       "       [15586996,       41,    72000],\n",
       "       [15735549,       39,   134000],\n",
       "       [15729054,       27,   137000],\n",
       "       [15573452,       21,    16000],\n",
       "       [15745232,       26,    32000],\n",
       "       [15814816,       31,    66000],\n",
       "       [15629885,       39,    73000],\n",
       "       [15649668,       41,    79000],\n",
       "       [15768072,       47,    50000],\n",
       "       [15749130,       41,    30000],\n",
       "       [15734161,       37,    93000],\n",
       "       [15611430,       60,    46000],\n",
       "       [15594577,       25,    22000],\n",
       "       [15756820,       28,    37000],\n",
       "       [15810800,       38,    55000],\n",
       "       [15601550,       36,    54000],\n",
       "       [15680243,       20,    36000],\n",
       "       [15769596,       56,   104000],\n",
       "       [15689237,       40,    57000],\n",
       "       [15801336,       42,   108000],\n",
       "       [15595228,       20,    23000],\n",
       "       [15587177,       40,    65000],\n",
       "       [15631159,       47,    20000],\n",
       "       [15578738,       18,    86000],\n",
       "       [15612465,       35,    79000],\n",
       "       [15806901,       57,    33000],\n",
       "       [15644296,       34,    72000],\n",
       "       [15724150,       49,    39000],\n",
       "       [15782806,       27,    31000],\n",
       "       [15662901,       19,    70000],\n",
       "       [15747097,       39,    79000],\n",
       "       [15768816,       26,    81000],\n",
       "       [15756932,       25,    80000],\n",
       "       [15631912,       28,    85000],\n",
       "       [15625395,       55,    39000],\n",
       "       [15780572,       50,    88000],\n",
       "       [15764604,       49,    88000],\n",
       "       [15735878,       52,   150000],\n",
       "       [15727311,       35,    65000],\n",
       "       [15709183,       42,    54000],\n",
       "       [15667742,       34,    43000],\n",
       "       [15723373,       37,    52000],\n",
       "       [15619465,       48,    30000],\n",
       "       [15779581,       29,    43000],\n",
       "       [15591433,       36,    52000],\n",
       "       [15776348,       27,    54000],\n",
       "       [15794661,       26,   118000]], dtype=int64)"
      ]
     },
     "execution_count": 241,
     "metadata": {},
     "output_type": "execute_result"
    }
   ],
   "source": [
    "x_train"
   ]
  },
  {
   "cell_type": "code",
   "execution_count": 242,
   "id": "1db95030",
   "metadata": {},
   "outputs": [],
   "source": [
    "from sklearn.preprocessing import StandardScaler"
   ]
  },
  {
   "cell_type": "code",
   "execution_count": 243,
   "id": "466a1ed3",
   "metadata": {},
   "outputs": [],
   "source": [
    "ss =StandardScaler()"
   ]
  },
  {
   "cell_type": "code",
   "execution_count": 244,
   "id": "45ef200b",
   "metadata": {},
   "outputs": [],
   "source": [
    "# x_train = ss.fit_transform(x_train)\n",
    "# x_test = ss.transform(x_test)"
   ]
  },
  {
   "cell_type": "code",
   "execution_count": 245,
   "id": "c6e34e40",
   "metadata": {},
   "outputs": [],
   "source": [
    "from sklearn.naive_bayes import GaussianNB"
   ]
  },
  {
   "cell_type": "code",
   "execution_count": 246,
   "id": "1279f6e9",
   "metadata": {},
   "outputs": [],
   "source": [
    "classifier = GaussianNB()"
   ]
  },
  {
   "cell_type": "code",
   "execution_count": 247,
   "id": "687e1aad",
   "metadata": {},
   "outputs": [
    {
     "data": {
      "text/html": [
       "<style>#sk-container-id-10 {color: black;background-color: white;}#sk-container-id-10 pre{padding: 0;}#sk-container-id-10 div.sk-toggleable {background-color: white;}#sk-container-id-10 label.sk-toggleable__label {cursor: pointer;display: block;width: 100%;margin-bottom: 0;padding: 0.3em;box-sizing: border-box;text-align: center;}#sk-container-id-10 label.sk-toggleable__label-arrow:before {content: \"▸\";float: left;margin-right: 0.25em;color: #696969;}#sk-container-id-10 label.sk-toggleable__label-arrow:hover:before {color: black;}#sk-container-id-10 div.sk-estimator:hover label.sk-toggleable__label-arrow:before {color: black;}#sk-container-id-10 div.sk-toggleable__content {max-height: 0;max-width: 0;overflow: hidden;text-align: left;background-color: #f0f8ff;}#sk-container-id-10 div.sk-toggleable__content pre {margin: 0.2em;color: black;border-radius: 0.25em;background-color: #f0f8ff;}#sk-container-id-10 input.sk-toggleable__control:checked~div.sk-toggleable__content {max-height: 200px;max-width: 100%;overflow: auto;}#sk-container-id-10 input.sk-toggleable__control:checked~label.sk-toggleable__label-arrow:before {content: \"▾\";}#sk-container-id-10 div.sk-estimator input.sk-toggleable__control:checked~label.sk-toggleable__label {background-color: #d4ebff;}#sk-container-id-10 div.sk-label input.sk-toggleable__control:checked~label.sk-toggleable__label {background-color: #d4ebff;}#sk-container-id-10 input.sk-hidden--visually {border: 0;clip: rect(1px 1px 1px 1px);clip: rect(1px, 1px, 1px, 1px);height: 1px;margin: -1px;overflow: hidden;padding: 0;position: absolute;width: 1px;}#sk-container-id-10 div.sk-estimator {font-family: monospace;background-color: #f0f8ff;border: 1px dotted black;border-radius: 0.25em;box-sizing: border-box;margin-bottom: 0.5em;}#sk-container-id-10 div.sk-estimator:hover {background-color: #d4ebff;}#sk-container-id-10 div.sk-parallel-item::after {content: \"\";width: 100%;border-bottom: 1px solid gray;flex-grow: 1;}#sk-container-id-10 div.sk-label:hover label.sk-toggleable__label {background-color: #d4ebff;}#sk-container-id-10 div.sk-serial::before {content: \"\";position: absolute;border-left: 1px solid gray;box-sizing: border-box;top: 0;bottom: 0;left: 50%;z-index: 0;}#sk-container-id-10 div.sk-serial {display: flex;flex-direction: column;align-items: center;background-color: white;padding-right: 0.2em;padding-left: 0.2em;position: relative;}#sk-container-id-10 div.sk-item {position: relative;z-index: 1;}#sk-container-id-10 div.sk-parallel {display: flex;align-items: stretch;justify-content: center;background-color: white;position: relative;}#sk-container-id-10 div.sk-item::before, #sk-container-id-10 div.sk-parallel-item::before {content: \"\";position: absolute;border-left: 1px solid gray;box-sizing: border-box;top: 0;bottom: 0;left: 50%;z-index: -1;}#sk-container-id-10 div.sk-parallel-item {display: flex;flex-direction: column;z-index: 1;position: relative;background-color: white;}#sk-container-id-10 div.sk-parallel-item:first-child::after {align-self: flex-end;width: 50%;}#sk-container-id-10 div.sk-parallel-item:last-child::after {align-self: flex-start;width: 50%;}#sk-container-id-10 div.sk-parallel-item:only-child::after {width: 0;}#sk-container-id-10 div.sk-dashed-wrapped {border: 1px dashed gray;margin: 0 0.4em 0.5em 0.4em;box-sizing: border-box;padding-bottom: 0.4em;background-color: white;}#sk-container-id-10 div.sk-label label {font-family: monospace;font-weight: bold;display: inline-block;line-height: 1.2em;}#sk-container-id-10 div.sk-label-container {text-align: center;}#sk-container-id-10 div.sk-container {/* jupyter's `normalize.less` sets `[hidden] { display: none; }` but bootstrap.min.css set `[hidden] { display: none !important; }` so we also need the `!important` here to be able to override the default hidden behavior on the sphinx rendered scikit-learn.org. See: https://github.com/scikit-learn/scikit-learn/issues/21755 */display: inline-block !important;position: relative;}#sk-container-id-10 div.sk-text-repr-fallback {display: none;}</style><div id=\"sk-container-id-10\" class=\"sk-top-container\"><div class=\"sk-text-repr-fallback\"><pre>GaussianNB()</pre><b>In a Jupyter environment, please rerun this cell to show the HTML representation or trust the notebook. <br />On GitHub, the HTML representation is unable to render, please try loading this page with nbviewer.org.</b></div><div class=\"sk-container\" hidden><div class=\"sk-item\"><div class=\"sk-estimator sk-toggleable\"><input class=\"sk-toggleable__control sk-hidden--visually\" id=\"sk-estimator-id-10\" type=\"checkbox\" checked><label for=\"sk-estimator-id-10\" class=\"sk-toggleable__label sk-toggleable__label-arrow\">GaussianNB</label><div class=\"sk-toggleable__content\"><pre>GaussianNB()</pre></div></div></div></div></div>"
      ],
      "text/plain": [
       "GaussianNB()"
      ]
     },
     "execution_count": 247,
     "metadata": {},
     "output_type": "execute_result"
    }
   ],
   "source": [
    "classifier.fit(x_train, y_train)"
   ]
  },
  {
   "cell_type": "code",
   "execution_count": 248,
   "id": "64b90500",
   "metadata": {},
   "outputs": [
    {
     "data": {
      "text/plain": [
       "array([0, 0, 0, 0, 0, 0, 0, 1, 0, 0, 0, 0, 0, 0, 0, 1, 0, 0, 1, 0, 0, 1,\n",
       "       0, 1, 0, 1, 0, 0, 0, 0, 0, 0, 1, 0, 0, 0, 0, 0, 0, 1, 0, 0, 0, 0,\n",
       "       1, 0, 0, 1, 0, 1, 1, 0, 0, 1, 1, 0, 0, 0, 1, 0, 0, 1, 0, 0, 0, 1,\n",
       "       0, 0, 0, 0, 1, 0, 0, 0, 0, 0, 0, 0, 1, 1], dtype=int64)"
      ]
     },
     "execution_count": 248,
     "metadata": {},
     "output_type": "execute_result"
    }
   ],
   "source": [
    "z = classifier.predict(x_test)\n",
    "z"
   ]
  },
  {
   "cell_type": "code",
   "execution_count": 249,
   "id": "e8d06af2",
   "metadata": {},
   "outputs": [],
   "source": [
    "from sklearn.metrics import confusion_matrix"
   ]
  },
  {
   "cell_type": "code",
   "execution_count": 250,
   "id": "aa076c77",
   "metadata": {},
   "outputs": [
    {
     "data": {
      "text/plain": [
       "array([[56,  2],\n",
       "       [ 4, 18]], dtype=int64)"
      ]
     },
     "execution_count": 250,
     "metadata": {},
     "output_type": "execute_result"
    }
   ],
   "source": [
    "m = confusion_matrix(y_test , z)\n",
    "m"
   ]
  },
  {
   "cell_type": "code",
   "execution_count": 251,
   "id": "32bd21a3",
   "metadata": {},
   "outputs": [],
   "source": [
    "import seaborn as sns"
   ]
  },
  {
   "cell_type": "code",
   "execution_count": 252,
   "id": "db816aea",
   "metadata": {},
   "outputs": [
    {
     "data": {
      "text/plain": [
       "<Axes: >"
      ]
     },
     "execution_count": 252,
     "metadata": {},
     "output_type": "execute_result"
    },
    {
     "data": {
      "image/png": "[encoded data removed]",
      "text/plain": [
       "<Figure size 640x480 with 2 Axes>"
      ]
     },
     "metadata": {},
     "output_type": "display_data"
    }
   ],
   "source": [
    "sns.heatmap(m , annot= True)   # annot is used to show rhe number in the inside the boxes"
   ]
  },
  {
   "cell_type": "code",
   "execution_count": 253,
   "id": "f2407284",
   "metadata": {},
   "outputs": [],
   "source": [
    "from sklearn.metrics import accuracy_score"
   ]
  },
  {
   "cell_type": "code",
   "execution_count": 254,
   "id": "0df2baa4",
   "metadata": {},
   "outputs": [
    {
     "data": {
      "text/plain": [
       "0.925"
      ]
     },
     "execution_count": 254,
     "metadata": {},
     "output_type": "execute_result"
    }
   ],
   "source": [
    "accuracy_score(y_test, z)"
   ]
  },
  {
   "cell_type": "code",
   "execution_count": 255,
   "id": "7cafcc18-f292-4754-954f-25a5f471fce8",
   "metadata": {},
   "outputs": [
    {
     "data": {
      "text/plain": [
       "array([1], dtype=int64)"
      ]
     },
     "execution_count": 255,
     "metadata": {},
     "output_type": "execute_result"
    }
   ],
   "source": [
    "pred = classifier.predict([[15594041,49,36000]])\n",
    "pred"
   ]
  },
  {
   "cell_type": "code",
   "execution_count": null,
   "id": "a43abf2e-1f54-44d8-a2a9-18b77e4d7486",
   "metadata": {},
   "outputs": [],
   "source": []
  },
  {
   "cell_type": "code",
   "execution_count": null,
   "id": "d7d33e82-f539-4a58-9e31-ac98c69cfc12",
   "metadata": {},
   "outputs": [],
   "source": []
  }
 ],
 "metadata": {
  "kernelspec": {
   "display_name": "Python 3 (ipykernel)",
   "language": "python",
   "name": "python3"
  },
  "language_info": {
   "codemirror_mode": {
    "name": "ipython",
    "version": 3
   },
   "file_extension": ".py",
   "mimetype": "text/x-python",
   "name": "python",
   "nbconvert_exporter": "python",
   "pygments_lexer": "ipython3",
   "version": "3.11.7"
  }
 },
 "nbformat": 4,
 "nbformat_minor": 5
}
