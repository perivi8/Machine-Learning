{
 "cells": [
  {
   "cell_type": "code",
   "execution_count": 8,
   "id": "768e0e15",
   "metadata": {},
   "outputs": [],
   "source": [
    "import seaborn as sns\n",
    "from sklearn.metrics import confusion_matrix"
   ]
  },
  {
   "cell_type": "code",
   "execution_count": 15,
   "id": "bac652cf",
   "metadata": {},
   "outputs": [],
   "source": [
    "true_value = [1,0,1,0,1,0,1,0,0,1]\n",
    "pred_value = [0,1,0,1,0,1,1,0,1,1]"
   ]
  },
  {
   "cell_type": "markdown",
   "id": "a4faea35",
   "metadata": {},
   "source": [
    "#  Heat Map"
   ]
  },
  {
   "cell_type": "code",
   "execution_count": 16,
   "id": "9a716a3c",
   "metadata": {},
   "outputs": [
    {
     "data": {
      "text/plain": [
       "<Axes: >"
      ]
     },
     "execution_count": 16,
     "metadata": {},
     "output_type": "execute_result"
    },
    {
     "data": {
      "image/png": "[encoded data removed]",
      "text/plain": [
       "<Figure size 640x480 with 2 Axes>"
      ]
     },
     "metadata": {},
     "output_type": "display_data"
    }
   ],
   "source": [
    "sns.heatmap(confusion_matrix(true_value , pred_value) , annot= True)   # annot is used to indicate the numbers inside the boxes"
   ]
  },
  {
   "cell_type": "markdown",
   "id": "e3e8daa9",
   "metadata": {},
   "source": [
    "###  ( 0 , 0 ) = True Negative , ( 0 , 1 ) =  False Positive , ( 1 , 0 ) = False Negative  , ( 1 , 1 ) = True Positive"
   ]
  },
  {
   "cell_type": "code",
   "execution_count": 11,
   "id": "8300a1c1",
   "metadata": {},
   "outputs": [
    {
     "data": {
      "text/plain": [
       "1"
      ]
     },
     "execution_count": 11,
     "metadata": {},
     "output_type": "execute_result"
    }
   ],
   "source": [
    "tn , fp , fn , tp = confusion_matrix(true_value , pred_value).ravel()      # format likr this only (tn , fp , fn , tp)\n",
    "tn"
   ]
  },
  {
   "cell_type": "code",
   "execution_count": 12,
   "id": "3443bc9e",
   "metadata": {},
   "outputs": [
    {
     "name": "stdout",
     "output_type": "stream",
     "text": [
      "1 2 3 4\n"
     ]
    }
   ],
   "source": [
    "print(tn , tp , fn , fp)"
   ]
  }
 ],
 "metadata": {
  "kernelspec": {
   "display_name": "Python 3 (ipykernel)",
   "language": "python",
   "name": "python3"
  },
  "language_info": {
   "codemirror_mode": {
    "name": "ipython",
    "version": 3
   },
   "file_extension": ".py",
   "mimetype": "text/x-python",
   "name": "python",
   "nbconvert_exporter": "python",
   "pygments_lexer": "ipython3",
   "version": "3.11.7"
  }
 },
 "nbformat": 4,
 "nbformat_minor": 5
}
