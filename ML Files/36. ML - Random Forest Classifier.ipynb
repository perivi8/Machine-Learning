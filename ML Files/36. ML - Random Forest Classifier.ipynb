{
 "cells": [
  {
   "cell_type": "code",
   "execution_count": 47,
   "id": "6ac57488",
   "metadata": {},
   "outputs": [],
   "source": [
    "import pandas as pd"
   ]
  },
  {
   "cell_type": "code",
   "execution_count": 48,
   "id": "bede252a",
   "metadata": {},
   "outputs": [
    {
     "data": {
      "text/html": [
       "<div>\n",
       "<style scoped>\n",
       "    .dataframe tbody tr th:only-of-type {\n",
       "        vertical-align: middle;\n",
       "    }\n",
       "\n",
       "    .dataframe tbody tr th {\n",
       "        vertical-align: top;\n",
       "    }\n",
       "\n",
       "    .dataframe thead th {\n",
       "        text-align: right;\n",
       "    }\n",
       "</style>\n",
       "<table border=\"1\" class=\"dataframe\">\n",
       "  <thead>\n",
       "    <tr style=\"text-align: right;\">\n",
       "      <th></th>\n",
       "      <th>User ID</th>\n",
       "      <th>Gender</th>\n",
       "      <th>Age</th>\n",
       "      <th>EstimatedSalary</th>\n",
       "      <th>Purchased</th>\n",
       "    </tr>\n",
       "  </thead>\n",
       "  <tbody>\n",
       "    <tr>\n",
       "      <th>0</th>\n",
       "      <td>15624510</td>\n",
       "      <td>Male</td>\n",
       "      <td>19</td>\n",
       "      <td>19000</td>\n",
       "      <td>0</td>\n",
       "    </tr>\n",
       "    <tr>\n",
       "      <th>1</th>\n",
       "      <td>15810944</td>\n",
       "      <td>Male</td>\n",
       "      <td>35</td>\n",
       "      <td>20000</td>\n",
       "      <td>0</td>\n",
       "    </tr>\n",
       "    <tr>\n",
       "      <th>2</th>\n",
       "      <td>15668575</td>\n",
       "      <td>Female</td>\n",
       "      <td>26</td>\n",
       "      <td>43000</td>\n",
       "      <td>0</td>\n",
       "    </tr>\n",
       "    <tr>\n",
       "      <th>3</th>\n",
       "      <td>15603246</td>\n",
       "      <td>Female</td>\n",
       "      <td>27</td>\n",
       "      <td>57000</td>\n",
       "      <td>0</td>\n",
       "    </tr>\n",
       "    <tr>\n",
       "      <th>4</th>\n",
       "      <td>15804002</td>\n",
       "      <td>Male</td>\n",
       "      <td>19</td>\n",
       "      <td>76000</td>\n",
       "      <td>0</td>\n",
       "    </tr>\n",
       "    <tr>\n",
       "      <th>...</th>\n",
       "      <td>...</td>\n",
       "      <td>...</td>\n",
       "      <td>...</td>\n",
       "      <td>...</td>\n",
       "      <td>...</td>\n",
       "    </tr>\n",
       "    <tr>\n",
       "      <th>395</th>\n",
       "      <td>15691863</td>\n",
       "      <td>Female</td>\n",
       "      <td>46</td>\n",
       "      <td>41000</td>\n",
       "      <td>1</td>\n",
       "    </tr>\n",
       "    <tr>\n",
       "      <th>396</th>\n",
       "      <td>15706071</td>\n",
       "      <td>Male</td>\n",
       "      <td>51</td>\n",
       "      <td>23000</td>\n",
       "      <td>1</td>\n",
       "    </tr>\n",
       "    <tr>\n",
       "      <th>397</th>\n",
       "      <td>15654296</td>\n",
       "      <td>Female</td>\n",
       "      <td>50</td>\n",
       "      <td>20000</td>\n",
       "      <td>1</td>\n",
       "    </tr>\n",
       "    <tr>\n",
       "      <th>398</th>\n",
       "      <td>15755018</td>\n",
       "      <td>Male</td>\n",
       "      <td>36</td>\n",
       "      <td>33000</td>\n",
       "      <td>0</td>\n",
       "    </tr>\n",
       "    <tr>\n",
       "      <th>399</th>\n",
       "      <td>15594041</td>\n",
       "      <td>Female</td>\n",
       "      <td>49</td>\n",
       "      <td>36000</td>\n",
       "      <td>1</td>\n",
       "    </tr>\n",
       "  </tbody>\n",
       "</table>\n",
       "<p>400 rows × 5 columns</p>\n",
       "</div>"
      ],
      "text/plain": [
       "      User ID  Gender  Age  EstimatedSalary  Purchased\n",
       "0    15624510    Male   19            19000          0\n",
       "1    15810944    Male   35            20000          0\n",
       "2    15668575  Female   26            43000          0\n",
       "3    15603246  Female   27            57000          0\n",
       "4    15804002    Male   19            76000          0\n",
       "..        ...     ...  ...              ...        ...\n",
       "395  15691863  Female   46            41000          1\n",
       "396  15706071    Male   51            23000          1\n",
       "397  15654296  Female   50            20000          1\n",
       "398  15755018    Male   36            33000          0\n",
       "399  15594041  Female   49            36000          1\n",
       "\n",
       "[400 rows x 5 columns]"
      ]
     },
     "execution_count": 48,
     "metadata": {},
     "output_type": "execute_result"
    }
   ],
   "source": [
    "df = pd.read_csv(\"D:\\\\ML\\\\36. ML - Random Forest Classifier Data.csv\")\n",
    "df"
   ]
  },
  {
   "cell_type": "code",
   "execution_count": 49,
   "id": "0b3b5ee8",
   "metadata": {},
   "outputs": [
    {
     "data": {
      "text/html": [
       "<div>\n",
       "<style scoped>\n",
       "    .dataframe tbody tr th:only-of-type {\n",
       "        vertical-align: middle;\n",
       "    }\n",
       "\n",
       "    .dataframe tbody tr th {\n",
       "        vertical-align: top;\n",
       "    }\n",
       "\n",
       "    .dataframe thead th {\n",
       "        text-align: right;\n",
       "    }\n",
       "</style>\n",
       "<table border=\"1\" class=\"dataframe\">\n",
       "  <thead>\n",
       "    <tr style=\"text-align: right;\">\n",
       "      <th></th>\n",
       "      <th>User ID</th>\n",
       "      <th>Age</th>\n",
       "      <th>EstimatedSalary</th>\n",
       "    </tr>\n",
       "  </thead>\n",
       "  <tbody>\n",
       "    <tr>\n",
       "      <th>0</th>\n",
       "      <td>15624510</td>\n",
       "      <td>19</td>\n",
       "      <td>19000</td>\n",
       "    </tr>\n",
       "    <tr>\n",
       "      <th>1</th>\n",
       "      <td>15810944</td>\n",
       "      <td>35</td>\n",
       "      <td>20000</td>\n",
       "    </tr>\n",
       "    <tr>\n",
       "      <th>2</th>\n",
       "      <td>15668575</td>\n",
       "      <td>26</td>\n",
       "      <td>43000</td>\n",
       "    </tr>\n",
       "    <tr>\n",
       "      <th>3</th>\n",
       "      <td>15603246</td>\n",
       "      <td>27</td>\n",
       "      <td>57000</td>\n",
       "    </tr>\n",
       "    <tr>\n",
       "      <th>4</th>\n",
       "      <td>15804002</td>\n",
       "      <td>19</td>\n",
       "      <td>76000</td>\n",
       "    </tr>\n",
       "  </tbody>\n",
       "</table>\n",
       "</div>"
      ],
      "text/plain": [
       "    User ID  Age  EstimatedSalary\n",
       "0  15624510   19            19000\n",
       "1  15810944   35            20000\n",
       "2  15668575   26            43000\n",
       "3  15603246   27            57000\n",
       "4  15804002   19            76000"
      ]
     },
     "execution_count": 49,
     "metadata": {},
     "output_type": "execute_result"
    }
   ],
   "source": [
    "x = df[[\"User ID\",\"Age\" , \"EstimatedSalary\"]]\n",
    "x.head()"
   ]
  },
  {
   "cell_type": "code",
   "execution_count": 50,
   "id": "b2c0d605",
   "metadata": {},
   "outputs": [
    {
     "data": {
      "text/plain": [
       "0      0\n",
       "1      0\n",
       "2      0\n",
       "3      0\n",
       "4      0\n",
       "      ..\n",
       "395    1\n",
       "396    1\n",
       "397    1\n",
       "398    0\n",
       "399    1\n",
       "Name: Purchased, Length: 400, dtype: int64"
      ]
     },
     "execution_count": 50,
     "metadata": {},
     "output_type": "execute_result"
    }
   ],
   "source": [
    "y = df['Purchased']\n",
    "y"
   ]
  },
  {
   "cell_type": "code",
   "execution_count": 51,
   "id": "e5f31f48",
   "metadata": {},
   "outputs": [],
   "source": [
    "import numpy as np"
   ]
  },
  {
   "cell_type": "code",
   "execution_count": 52,
   "id": "302d1d7a",
   "metadata": {},
   "outputs": [
    {
     "data": {
      "text/plain": [
       "array([[15624510,       19,    19000],\n",
       "       [15810944,       35,    20000],\n",
       "       [15668575,       26,    43000],\n",
       "       ...,\n",
       "       [15654296,       50,    20000],\n",
       "       [15755018,       36,    33000],\n",
       "       [15594041,       49,    36000]], dtype=int64)"
      ]
     },
     "execution_count": 52,
     "metadata": {},
     "output_type": "execute_result"
    }
   ],
   "source": [
    "x = np.array(x)\n",
    "x"
   ]
  },
  {
   "cell_type": "code",
   "execution_count": 53,
   "id": "cae0a5d5",
   "metadata": {},
   "outputs": [
    {
     "data": {
      "text/plain": [
       "array([0, 0, 0, 0, 0, 0, 0, 1, 0, 0, 0, 0, 0, 0, 0, 0, 1, 1, 1, 1, 1, 1,\n",
       "       1, 1, 1, 1, 1, 1, 0, 0, 0, 1, 0, 0, 0, 0, 0, 0, 0, 0, 0, 0, 0, 0,\n",
       "       0, 0, 0, 0, 1, 0, 0, 0, 0, 0, 0, 0, 0, 0, 0, 0, 0, 0, 0, 1, 0, 0,\n",
       "       0, 0, 0, 0, 0, 0, 0, 0, 0, 1, 0, 0, 0, 0, 0, 0, 0, 0, 0, 1, 0, 0,\n",
       "       0, 0, 0, 0, 0, 0, 0, 0, 0, 1, 0, 0, 0, 0, 0, 1, 0, 0, 0, 0, 0, 0,\n",
       "       0, 0, 0, 0, 0, 0, 0, 0, 0, 0, 0, 0, 0, 0, 0, 0, 0, 0, 0, 0, 0, 0,\n",
       "       0, 0, 0, 0, 0, 1, 0, 0, 0, 0, 0, 0, 0, 0, 1, 0, 0, 0, 0, 0, 0, 0,\n",
       "       0, 0, 0, 0, 0, 1, 1, 0, 0, 0, 0, 0, 0, 0, 1, 0, 0, 0, 0, 0, 0, 0,\n",
       "       0, 0, 0, 0, 0, 0, 1, 0, 0, 0, 0, 0, 0, 0, 0, 0, 0, 0, 0, 0, 0, 0,\n",
       "       0, 0, 0, 0, 1, 0, 1, 0, 1, 0, 1, 0, 1, 1, 0, 0, 0, 1, 0, 0, 0, 1,\n",
       "       0, 1, 1, 1, 0, 0, 1, 1, 0, 1, 1, 0, 1, 1, 0, 1, 0, 0, 0, 1, 1, 0,\n",
       "       1, 1, 0, 1, 0, 1, 0, 1, 0, 0, 1, 1, 0, 1, 0, 0, 1, 1, 0, 1, 1, 0,\n",
       "       1, 1, 0, 0, 1, 0, 0, 1, 1, 1, 1, 1, 0, 1, 1, 1, 1, 0, 1, 1, 0, 1,\n",
       "       0, 1, 0, 1, 1, 1, 1, 0, 0, 0, 1, 1, 0, 1, 1, 1, 1, 1, 0, 0, 0, 1,\n",
       "       1, 0, 0, 1, 0, 1, 0, 1, 1, 0, 1, 0, 1, 1, 0, 1, 1, 0, 0, 0, 1, 1,\n",
       "       0, 1, 0, 0, 1, 0, 1, 0, 0, 1, 1, 0, 0, 1, 1, 0, 1, 1, 0, 0, 1, 0,\n",
       "       1, 0, 1, 1, 1, 0, 1, 0, 1, 1, 1, 0, 1, 1, 1, 1, 0, 1, 1, 1, 0, 1,\n",
       "       0, 1, 0, 0, 1, 1, 0, 1, 1, 1, 1, 1, 1, 0, 1, 1, 1, 1, 1, 1, 0, 1,\n",
       "       1, 1, 0, 1], dtype=int64)"
      ]
     },
     "execution_count": 53,
     "metadata": {},
     "output_type": "execute_result"
    }
   ],
   "source": [
    "y = np.array(y)\n",
    "y"
   ]
  },
  {
   "cell_type": "code",
   "execution_count": 54,
   "id": "205b45c8",
   "metadata": {},
   "outputs": [],
   "source": [
    "from sklearn.model_selection import train_test_split"
   ]
  },
  {
   "cell_type": "code",
   "execution_count": 55,
   "id": "15d71e9a",
   "metadata": {},
   "outputs": [],
   "source": [
    "x_train , x_test ,y_train , y_test = train_test_split(x , y , test_size=0.2 , random_state=0)"
   ]
  },
  {
   "cell_type": "code",
   "execution_count": 56,
   "id": "8ca7ff9d",
   "metadata": {
    "scrolled": true
   },
   "outputs": [
    {
     "data": {
      "text/plain": [
       "array([[15725660,       30,    87000],\n",
       "       [15652400,       38,    50000],\n",
       "       [15776844,       35,    75000],\n",
       "       [15738448,       30,    79000],\n",
       "       [15638003,       35,    50000],\n",
       "       [15814004,       27,    20000],\n",
       "       [15610140,       31,    15000],\n",
       "       [15680587,       36,   144000],\n",
       "       [15666141,       18,    68000],\n",
       "       [15622478,       47,    43000],\n",
       "       [15689425,       30,    49000],\n",
       "       [15800061,       28,    55000],\n",
       "       [15773447,       37,    55000],\n",
       "       [15579212,       39,    77000],\n",
       "       [15746139,       20,    86000],\n",
       "       [15789109,       32,   117000],\n",
       "       [15760570,       37,    77000],\n",
       "       [15807909,       19,    85000],\n",
       "       [15654230,       55,   130000],\n",
       "       [15708228,       35,    22000],\n",
       "       [15609653,       35,    47000],\n",
       "       [15746203,       47,   144000],\n",
       "       [15678168,       41,    51000],\n",
       "       [15729908,       47,   105000],\n",
       "       [15614420,       23,    28000],\n",
       "       [15753861,       49,   141000],\n",
       "       [15667265,       28,    87000],\n",
       "       [15697686,       29,    80000],\n",
       "       [15631070,       37,    62000],\n",
       "       [15584545,       32,    86000],\n",
       "       [15587013,       21,    88000],\n",
       "       [15637593,       37,    79000],\n",
       "       [15814553,       57,    60000],\n",
       "       [15622171,       37,    53000],\n",
       "       [15718071,       24,    58000],\n",
       "       [15746737,       18,    52000],\n",
       "       [15684801,       22,    81000],\n",
       "       [15581654,       34,    43000],\n",
       "       [15673367,       31,    34000],\n",
       "       [15594041,       49,    36000],\n",
       "       [15766289,       27,    88000],\n",
       "       [15674331,       41,    52000],\n",
       "       [15598044,       27,    84000],\n",
       "       [15810944,       35,    20000],\n",
       "       [15705298,       43,   112000],\n",
       "       [15654901,       27,    58000],\n",
       "       [15793890,       37,    80000],\n",
       "       [15750056,       52,    90000],\n",
       "       [15762605,       26,    30000],\n",
       "       [15614187,       49,    86000],\n",
       "       [15775590,       57,   122000],\n",
       "       [15622833,       34,    25000],\n",
       "       [15566689,       35,    57000],\n",
       "       [15570932,       34,   115000],\n",
       "       [15609669,       59,    88000],\n",
       "       [15742204,       45,    32000],\n",
       "       [15744919,       29,    83000],\n",
       "       [15570769,       26,    80000],\n",
       "       [15792818,       49,    28000],\n",
       "       [15639277,       23,    20000],\n",
       "       [15592877,       32,    18000],\n",
       "       [15791373,       60,    42000],\n",
       "       [15804002,       19,    76000],\n",
       "       [15699619,       36,    99000],\n",
       "       [15662067,       19,    26000],\n",
       "       [15774744,       60,    83000],\n",
       "       [15746422,       24,    89000],\n",
       "       [15728773,       27,    58000],\n",
       "       [15605327,       40,    47000],\n",
       "       [15717893,       42,    70000],\n",
       "       [15694829,       32,   150000],\n",
       "       [15811177,       35,    77000],\n",
       "       [15577178,       22,    63000],\n",
       "       [15649487,       45,    22000],\n",
       "       [15789863,       27,    89000],\n",
       "       [15628972,       18,    82000],\n",
       "       [15768293,       42,    79000],\n",
       "       [15598070,       40,    60000],\n",
       "       [15778830,       53,    34000],\n",
       "       [15639576,       47,   107000]], dtype=int64)"
      ]
     },
     "execution_count": 56,
     "metadata": {},
     "output_type": "execute_result"
    }
   ],
   "source": [
    "x_test"
   ]
  },
  {
   "cell_type": "code",
   "execution_count": 57,
   "id": "4385d447",
   "metadata": {},
   "outputs": [],
   "source": [
    "from sklearn.preprocessing import StandardScaler"
   ]
  },
  {
   "cell_type": "code",
   "execution_count": 58,
   "id": "6891fc6b",
   "metadata": {},
   "outputs": [],
   "source": [
    "ss = StandardScaler()"
   ]
  },
  {
   "cell_type": "code",
   "execution_count": 59,
   "id": "e4d7ba8a",
   "metadata": {},
   "outputs": [],
   "source": [
    "x_train = ss.fit_transform(x_train)\n",
    "x_test = ss.transform(x_test)"
   ]
  },
  {
   "cell_type": "code",
   "execution_count": 60,
   "id": "11724336",
   "metadata": {},
   "outputs": [],
   "source": [
    "from sklearn.ensemble import RandomForestClassifier"
   ]
  },
  {
   "cell_type": "code",
   "execution_count": 61,
   "id": "a7dfea81",
   "metadata": {},
   "outputs": [],
   "source": [
    "classifier = RandomForestClassifier(n_estimators= 10 , criterion='entropy')"
   ]
  },
  {
   "cell_type": "code",
   "execution_count": 62,
   "id": "b2214f2f",
   "metadata": {},
   "outputs": [
    {
     "data": {
      "text/html": [
       "<style>#sk-container-id-2 {color: black;background-color: white;}#sk-container-id-2 pre{padding: 0;}#sk-container-id-2 div.sk-toggleable {background-color: white;}#sk-container-id-2 label.sk-toggleable__label {cursor: pointer;display: block;width: 100%;margin-bottom: 0;padding: 0.3em;box-sizing: border-box;text-align: center;}#sk-container-id-2 label.sk-toggleable__label-arrow:before {content: \"▸\";float: left;margin-right: 0.25em;color: #696969;}#sk-container-id-2 label.sk-toggleable__label-arrow:hover:before {color: black;}#sk-container-id-2 div.sk-estimator:hover label.sk-toggleable__label-arrow:before {color: black;}#sk-container-id-2 div.sk-toggleable__content {max-height: 0;max-width: 0;overflow: hidden;text-align: left;background-color: #f0f8ff;}#sk-container-id-2 div.sk-toggleable__content pre {margin: 0.2em;color: black;border-radius: 0.25em;background-color: #f0f8ff;}#sk-container-id-2 input.sk-toggleable__control:checked~div.sk-toggleable__content {max-height: 200px;max-width: 100%;overflow: auto;}#sk-container-id-2 input.sk-toggleable__control:checked~label.sk-toggleable__label-arrow:before {content: \"▾\";}#sk-container-id-2 div.sk-estimator input.sk-toggleable__control:checked~label.sk-toggleable__label {background-color: #d4ebff;}#sk-container-id-2 div.sk-label input.sk-toggleable__control:checked~label.sk-toggleable__label {background-color: #d4ebff;}#sk-container-id-2 input.sk-hidden--visually {border: 0;clip: rect(1px 1px 1px 1px);clip: rect(1px, 1px, 1px, 1px);height: 1px;margin: -1px;overflow: hidden;padding: 0;position: absolute;width: 1px;}#sk-container-id-2 div.sk-estimator {font-family: monospace;background-color: #f0f8ff;border: 1px dotted black;border-radius: 0.25em;box-sizing: border-box;margin-bottom: 0.5em;}#sk-container-id-2 div.sk-estimator:hover {background-color: #d4ebff;}#sk-container-id-2 div.sk-parallel-item::after {content: \"\";width: 100%;border-bottom: 1px solid gray;flex-grow: 1;}#sk-container-id-2 div.sk-label:hover label.sk-toggleable__label {background-color: #d4ebff;}#sk-container-id-2 div.sk-serial::before {content: \"\";position: absolute;border-left: 1px solid gray;box-sizing: border-box;top: 0;bottom: 0;left: 50%;z-index: 0;}#sk-container-id-2 div.sk-serial {display: flex;flex-direction: column;align-items: center;background-color: white;padding-right: 0.2em;padding-left: 0.2em;position: relative;}#sk-container-id-2 div.sk-item {position: relative;z-index: 1;}#sk-container-id-2 div.sk-parallel {display: flex;align-items: stretch;justify-content: center;background-color: white;position: relative;}#sk-container-id-2 div.sk-item::before, #sk-container-id-2 div.sk-parallel-item::before {content: \"\";position: absolute;border-left: 1px solid gray;box-sizing: border-box;top: 0;bottom: 0;left: 50%;z-index: -1;}#sk-container-id-2 div.sk-parallel-item {display: flex;flex-direction: column;z-index: 1;position: relative;background-color: white;}#sk-container-id-2 div.sk-parallel-item:first-child::after {align-self: flex-end;width: 50%;}#sk-container-id-2 div.sk-parallel-item:last-child::after {align-self: flex-start;width: 50%;}#sk-container-id-2 div.sk-parallel-item:only-child::after {width: 0;}#sk-container-id-2 div.sk-dashed-wrapped {border: 1px dashed gray;margin: 0 0.4em 0.5em 0.4em;box-sizing: border-box;padding-bottom: 0.4em;background-color: white;}#sk-container-id-2 div.sk-label label {font-family: monospace;font-weight: bold;display: inline-block;line-height: 1.2em;}#sk-container-id-2 div.sk-label-container {text-align: center;}#sk-container-id-2 div.sk-container {/* jupyter's `normalize.less` sets `[hidden] { display: none; }` but bootstrap.min.css set `[hidden] { display: none !important; }` so we also need the `!important` here to be able to override the default hidden behavior on the sphinx rendered scikit-learn.org. See: https://github.com/scikit-learn/scikit-learn/issues/21755 */display: inline-block !important;position: relative;}#sk-container-id-2 div.sk-text-repr-fallback {display: none;}</style><div id=\"sk-container-id-2\" class=\"sk-top-container\"><div class=\"sk-text-repr-fallback\"><pre>RandomForestClassifier(criterion=&#x27;entropy&#x27;, n_estimators=10)</pre><b>In a Jupyter environment, please rerun this cell to show the HTML representation or trust the notebook. <br />On GitHub, the HTML representation is unable to render, please try loading this page with nbviewer.org.</b></div><div class=\"sk-container\" hidden><div class=\"sk-item\"><div class=\"sk-estimator sk-toggleable\"><input class=\"sk-toggleable__control sk-hidden--visually\" id=\"sk-estimator-id-2\" type=\"checkbox\" checked><label for=\"sk-estimator-id-2\" class=\"sk-toggleable__label sk-toggleable__label-arrow\">RandomForestClassifier</label><div class=\"sk-toggleable__content\"><pre>RandomForestClassifier(criterion=&#x27;entropy&#x27;, n_estimators=10)</pre></div></div></div></div></div>"
      ],
      "text/plain": [
       "RandomForestClassifier(criterion='entropy', n_estimators=10)"
      ]
     },
     "execution_count": 62,
     "metadata": {},
     "output_type": "execute_result"
    }
   ],
   "source": [
    "classifier.fit(x_train,y_train)"
   ]
  },
  {
   "cell_type": "code",
   "execution_count": 63,
   "id": "80cb27ab",
   "metadata": {},
   "outputs": [
    {
     "data": {
      "text/plain": [
       "array([0, 0, 0, 0, 0, 0, 0, 1, 0, 0, 0, 0, 0, 0, 0, 1, 0, 0, 1, 0, 0, 1,\n",
       "       0, 1, 0, 1, 0, 0, 0, 0, 0, 0, 1, 0, 0, 0, 0, 0, 0, 1, 0, 0, 0, 0,\n",
       "       1, 0, 0, 1, 0, 0, 1, 0, 0, 1, 1, 1, 0, 0, 1, 0, 0, 1, 0, 1, 0, 1,\n",
       "       0, 0, 0, 0, 1, 0, 0, 1, 0, 0, 0, 0, 1, 0], dtype=int64)"
      ]
     },
     "execution_count": 63,
     "metadata": {},
     "output_type": "execute_result"
    }
   ],
   "source": [
    "z = classifier.predict(x_test)\n",
    "z"
   ]
  },
  {
   "cell_type": "code",
   "execution_count": 64,
   "id": "81835d0d-1448-40a7-bd21-fac3c83ed5c8",
   "metadata": {},
   "outputs": [
    {
     "data": {
      "text/plain": [
       "array([0, 0, 0, 0, 0, 0, 0, 1, 0, 0, 0, 0, 0, 0, 0, 0, 0, 0, 1, 0, 0, 1,\n",
       "       0, 1, 0, 1, 0, 0, 0, 0, 0, 1, 1, 0, 0, 0, 0, 0, 0, 1, 0, 0, 0, 0,\n",
       "       1, 0, 0, 1, 0, 1, 1, 0, 0, 0, 1, 1, 0, 0, 1, 0, 0, 1, 0, 1, 0, 1,\n",
       "       0, 0, 0, 0, 1, 0, 0, 1, 0, 0, 0, 0, 1, 1], dtype=int64)"
      ]
     },
     "execution_count": 64,
     "metadata": {},
     "output_type": "execute_result"
    }
   ],
   "source": [
    "y_test"
   ]
  },
  {
   "cell_type": "code",
   "execution_count": 65,
   "id": "232a7200-54ac-432a-a938-49c179efca00",
   "metadata": {},
   "outputs": [
    {
     "data": {
      "text/plain": [
       "array([[ 4.88966473e-01, -7.98950822e-01,  4.94607583e-01],\n",
       "       [-5.50592839e-01, -2.12648508e-02, -5.77359062e-01],\n",
       "       [ 1.21526737e+00, -3.12897090e-01,  1.46942725e-01],\n",
       "       [ 6.70428177e-01, -7.98950822e-01,  2.62831011e-01],\n",
       "       [-7.54886252e-01, -3.12897090e-01, -5.77359062e-01],\n",
       "       [ 1.74256773e+00, -1.09058306e+00, -1.44652121e+00],\n",
       "       [-1.15026219e+00, -7.01740076e-01, -1.59138156e+00],\n",
       "       [-1.50619343e-01, -2.15686344e-01,  2.14601566e+00],\n",
       "       [-3.55608066e-01, -1.96547978e+00, -5.58617754e-02],\n",
       "       [-9.75185983e-01,  8.53631867e-01, -7.80163563e-01],\n",
       "       [-2.52081338e-02, -7.98950822e-01, -6.06331134e-01],\n",
       "       [ 1.54471657e+00, -9.93372315e-01, -4.32498705e-01],\n",
       "       [ 1.16706395e+00, -1.18475597e-01, -4.32498705e-01],\n",
       "       [-1.58913047e+00,  7.59458956e-02,  2.04886868e-01],\n",
       "       [ 7.79563458e-01, -1.77105829e+00,  4.65635512e-01],\n",
       "       [ 1.38930771e+00, -6.04529329e-01,  1.36376973e+00],\n",
       "       [ 9.84339331e-01, -1.18475597e-01,  2.04886868e-01],\n",
       "       [ 1.65607968e+00, -1.86826903e+00,  4.36663440e-01],\n",
       "       [-5.24625142e-01,  1.63131784e+00,  1.74040666e+00],\n",
       "       [ 2.41606414e-01, -3.12897090e-01, -1.38857706e+00],\n",
       "       [-1.15717272e+00, -3.12897090e-01, -6.64275277e-01],\n",
       "       [ 7.80471618e-01,  8.53631867e-01,  2.14601566e+00],\n",
       "       [-1.84944950e-01,  2.70367388e-01, -5.48386991e-01],\n",
       "       [ 5.49245588e-01,  8.53631867e-01,  1.01610487e+00],\n",
       "       [-1.08952899e+00, -1.47942605e+00, -1.21474464e+00],\n",
       "       [ 8.89138629e-01,  1.04805336e+00,  2.05909944e+00],\n",
       "       [-3.39658507e-01, -9.93372315e-01,  4.94607583e-01],\n",
       "       [ 9.20154463e-02, -8.96161568e-01,  2.91803083e-01],\n",
       "       [-8.53265514e-01, -1.18475597e-01, -2.29694204e-01],\n",
       "       [-1.51345521e+00, -6.04529329e-01,  4.65635512e-01],\n",
       "       [-1.47843429e+00, -1.67384754e+00,  5.23579655e-01],\n",
       "       [-7.60704152e-01, -1.18475597e-01,  2.62831011e-01],\n",
       "       [ 1.75035804e+00,  1.82573933e+00, -2.87638347e-01],\n",
       "       [-9.79542313e-01, -1.18475597e-01, -4.90442848e-01],\n",
       "       [ 3.81278572e-01, -1.38221530e+00, -3.45582490e-01],\n",
       "       [ 7.88049077e-01, -1.96547978e+00, -5.19414919e-01],\n",
       "       [-9.08226882e-02, -1.57663679e+00,  3.20775154e-01],\n",
       "       [-1.55447849e+00, -4.10107836e-01, -7.80163563e-01],\n",
       "       [-2.53071135e-01, -7.01740076e-01, -1.04091221e+00],\n",
       "       [-1.37870698e+00,  1.04805336e+00, -9.82968063e-01],\n",
       "       [ 1.06549193e+00, -1.09058306e+00,  5.23579655e-01],\n",
       "       [-2.39391976e-01,  2.70367388e-01, -5.19414919e-01],\n",
       "       [-1.32190441e+00, -1.09058306e+00,  4.07691369e-01],\n",
       "       [ 1.69914633e+00, -3.12897090e-01, -1.44652121e+00],\n",
       "       [ 2.00029717e-01,  4.64788881e-01,  1.21890937e+00],\n",
       "       [-5.15103652e-01, -1.09058306e+00, -3.45582490e-01],\n",
       "       [ 1.45715009e+00, -1.18475597e-01,  2.91803083e-01],\n",
       "       [ 8.35145683e-01,  1.33968560e+00,  5.81523798e-01],\n",
       "       [ 1.01321598e+00, -1.18779381e+00, -1.15680049e+00],\n",
       "       [-1.09283526e+00,  1.04805336e+00,  4.65635512e-01],\n",
       "       [ 1.19747311e+00,  1.82573933e+00,  1.50863009e+00],\n",
       "       [-9.70148534e-01, -4.10107836e-01, -1.30166085e+00],\n",
       "       [-1.76683183e+00, -3.12897090e-01, -3.74554562e-01],\n",
       "       [-1.70662366e+00, -4.10107836e-01,  1.30582558e+00],\n",
       "       [-1.15694568e+00,  2.02016082e+00,  5.23579655e-01],\n",
       "       [ 7.23725813e-01,  6.59210374e-01, -1.09885635e+00],\n",
       "       [ 7.62251660e-01, -8.96161568e-01,  3.78719297e-01],\n",
       "       [-1.70893663e+00, -1.18779381e+00,  2.91803083e-01],\n",
       "       [ 1.44193841e+00,  1.04805336e+00, -1.21474464e+00],\n",
       "       [-7.36808194e-01, -1.47942605e+00, -1.44652121e+00],\n",
       "       [-1.39522414e+00, -6.04529329e-01, -1.50446535e+00],\n",
       "       [ 1.42143386e+00,  2.11737157e+00, -8.09135634e-01],\n",
       "       [ 1.60063936e+00, -1.86826903e+00,  1.75914797e-01],\n",
       "       [ 1.19444714e-01, -2.15686344e-01,  8.42272441e-01],\n",
       "       [-4.13418121e-01, -1.86826903e+00, -1.27268878e+00],\n",
       "       [ 1.18546837e+00,  2.11737157e+00,  3.78719297e-01],\n",
       "       [ 7.83579228e-01, -1.38221530e+00,  5.52551726e-01],\n",
       "       [ 5.33139939e-01, -1.09058306e+00, -3.45582490e-01],\n",
       "       [-1.21855865e+00,  1.73156642e-01, -6.64275277e-01],\n",
       "       [ 3.78752752e-01,  3.67578135e-01,  2.08236764e-03],\n",
       "       [ 5.14746197e-02, -6.04529329e-01,  2.31984809e+00],\n",
       "       [ 1.70245260e+00, -3.12897090e-01,  2.04886868e-01],\n",
       "       [-1.61799293e+00, -1.57663679e+00, -2.00722133e-01],\n",
       "       [-5.91928306e-01,  6.59210374e-01, -1.38857706e+00],\n",
       "       [ 1.40000697e+00, -1.09058306e+00,  5.52551726e-01],\n",
       "       [-8.83036131e-01, -1.96547978e+00,  3.49747226e-01],\n",
       "       [ 1.09392869e+00,  3.67578135e-01,  2.62831011e-01],\n",
       "       [-1.32153547e+00,  1.73156642e-01, -2.87638347e-01],\n",
       "       [ 1.24344871e+00,  1.43689635e+00, -1.04091221e+00],\n",
       "       [-7.32565384e-01,  8.53631867e-01,  1.07404901e+00]])"
      ]
     },
     "execution_count": 65,
     "metadata": {},
     "output_type": "execute_result"
    }
   ],
   "source": [
    "x_test"
   ]
  },
  {
   "cell_type": "code",
   "execution_count": 66,
   "id": "8ebbea33",
   "metadata": {},
   "outputs": [],
   "source": [
    "from sklearn.metrics import accuracy_score"
   ]
  },
  {
   "cell_type": "code",
   "execution_count": 67,
   "id": "673b91ed",
   "metadata": {},
   "outputs": [
    {
     "data": {
      "text/plain": [
       "0.9375"
      ]
     },
     "execution_count": 67,
     "metadata": {},
     "output_type": "execute_result"
    }
   ],
   "source": [
    "accuracy_score(y_test , z)"
   ]
  },
  {
   "cell_type": "code",
   "execution_count": 68,
   "id": "01cbce99",
   "metadata": {},
   "outputs": [],
   "source": [
    "from sklearn.metrics import confusion_matrix"
   ]
  },
  {
   "cell_type": "code",
   "execution_count": 69,
   "id": "f62eb1f1",
   "metadata": {},
   "outputs": [
    {
     "data": {
      "text/plain": [
       "array([[56,  2],\n",
       "       [ 3, 19]], dtype=int64)"
      ]
     },
     "execution_count": 69,
     "metadata": {},
     "output_type": "execute_result"
    }
   ],
   "source": [
    "m =confusion_matrix(y_test , z)\n",
    "m"
   ]
  },
  {
   "cell_type": "code",
   "execution_count": 70,
   "id": "75abe373",
   "metadata": {},
   "outputs": [],
   "source": [
    "import seaborn as sns"
   ]
  },
  {
   "cell_type": "code",
   "execution_count": 71,
   "id": "6fabdf04",
   "metadata": {},
   "outputs": [
    {
     "data": {
      "text/plain": [
       "<Axes: >"
      ]
     },
     "execution_count": 71,
     "metadata": {},
     "output_type": "execute_result"
    },
    {
     "data": {
      "image/png": "[encoded data removed]",
      "text/plain": [
       "<Figure size 640x480 with 2 Axes>"
      ]
     },
     "metadata": {},
     "output_type": "display_data"
    }
   ],
   "source": [
    "sns.heatmap(m , annot= True)"
   ]
  },
  {
   "cell_type": "code",
   "execution_count": 72,
   "id": "918abc78",
   "metadata": {},
   "outputs": [
    {
     "data": {
      "text/plain": [
       "array([0], dtype=int64)"
      ]
     },
     "execution_count": 72,
     "metadata": {},
     "output_type": "execute_result"
    }
   ],
   "source": [
    "pred = classifier.predict([[4.88966473e-01, -7.98950822e-01,  4.94607583e-01]])\n",
    "pred"
   ]
  },
  {
   "cell_type": "code",
   "execution_count": null,
   "id": "136c4f29",
   "metadata": {},
   "outputs": [],
   "source": []
  },
  {
   "cell_type": "code",
   "execution_count": null,
   "id": "18a059c8-2636-46ee-893d-7427ad09c20d",
   "metadata": {},
   "outputs": [],
   "source": []
  }
 ],
 "metadata": {
  "kernelspec": {
   "display_name": "Python 3 (ipykernel)",
   "language": "python",
   "name": "python3"
  },
  "language_info": {
   "codemirror_mode": {
    "name": "ipython",
    "version": 3
   },
   "file_extension": ".py",
   "mimetype": "text/x-python",
   "name": "python",
   "nbconvert_exporter": "python",
   "pygments_lexer": "ipython3",
   "version": "3.11.7"
  }
 },
 "nbformat": 4,
 "nbformat_minor": 5
}
