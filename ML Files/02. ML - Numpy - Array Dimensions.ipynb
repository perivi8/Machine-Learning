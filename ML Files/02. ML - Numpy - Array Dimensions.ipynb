{
 "cells": [
  {
   "cell_type": "markdown",
   "id": "70c45b0c",
   "metadata": {},
   "source": [
    "# Array Dimension"
   ]
  },
  {
   "cell_type": "code",
   "execution_count": 1,
   "id": "7c58b363",
   "metadata": {},
   "outputs": [],
   "source": [
    "import numpy as np"
   ]
  },
  {
   "cell_type": "code",
   "execution_count": 4,
   "id": "f83f78c2",
   "metadata": {},
   "outputs": [
    {
     "data": {
      "text/plain": [
       "array([[[[[1.5, 3. , 5. , 7. , 9. , 4. ],\n",
       "          [2. , 4. , 6. , 8. , 2. , 0. ],\n",
       "          [2. , 4. , 6. , 8. , 3. , 0. ]],\n",
       "\n",
       "         [[1.5, 3. , 5. , 7. , 9. , 5. ],\n",
       "          [2. , 4. , 6. , 4. , 8. , 0. ],\n",
       "          [2. , 4. , 6. , 3. , 8. , 0. ]]]]])"
      ]
     },
     "execution_count": 4,
     "metadata": {},
     "output_type": "execute_result"
    }
   ],
   "source": [
    "list1 = [[[ [ [1.5,3,5,7,9 , 4], [2,4,6,8,2,0] , [2,4,6,8,3,0] ] , [ [1.5,3,5,7,9,5], [2,4,6,4,8,0], [2,4,6,3,8,0] ]  ]]]\n",
    "array1 = np.array(list1)\n",
    "array1"
   ]
  },
  {
   "cell_type": "code",
   "execution_count": 9,
   "id": "0ea3f882",
   "metadata": {},
   "outputs": [
    {
     "data": {
      "text/plain": [
       "(1, 1, 2, 3, 6)"
      ]
     },
     "execution_count": 9,
     "metadata": {},
     "output_type": "execute_result"
    }
   ],
   "source": [
    "array1.shape     # row x column = shape"
   ]
  },
  {
   "cell_type": "code",
   "execution_count": 8,
   "id": "8cd2a750",
   "metadata": {},
   "outputs": [
    {
     "data": {
      "text/plain": [
       "36"
      ]
     },
     "execution_count": 8,
     "metadata": {},
     "output_type": "execute_result"
    }
   ],
   "source": [
    "array1.size    # Mutliply the Shape"
   ]
  },
  {
   "cell_type": "code",
   "execution_count": 6,
   "id": "cdeabefc",
   "metadata": {},
   "outputs": [
    {
     "data": {
      "text/plain": [
       "5"
      ]
     },
     "execution_count": 6,
     "metadata": {},
     "output_type": "execute_result"
    }
   ],
   "source": [
    "array1.ndim    # how many ending backets (dimensions)"
   ]
  },
  {
   "cell_type": "code",
   "execution_count": 10,
   "id": "c93477f7",
   "metadata": {},
   "outputs": [
    {
     "data": {
      "text/plain": [
       "dtype('float64')"
      ]
     },
     "execution_count": 10,
     "metadata": {},
     "output_type": "execute_result"
    }
   ],
   "source": [
    "array1.dtype"
   ]
  },
  {
   "cell_type": "markdown",
   "id": "11606f02-721b-4856-8e0e-ef10c90a99ed",
   "metadata": {},
   "source": [
    "### 1D Array"
   ]
  },
  {
   "cell_type": "code",
   "execution_count": 11,
   "id": "ed0ae154-c5f2-4b0d-84c8-011ec146abb8",
   "metadata": {},
   "outputs": [
    {
     "name": "stdout",
     "output_type": "stream",
     "text": [
      "1\n"
     ]
    }
   ],
   "source": [
    "import numpy as np\n",
    "\n",
    "z = [2,8,90,5]\n",
    "z = np.array(z)\n",
    "print(z.ndim)"
   ]
  },
  {
   "cell_type": "code",
   "execution_count": 12,
   "id": "51659dae-d302-4a00-9b2b-8a8b009bcfdc",
   "metadata": {},
   "outputs": [
    {
     "name": "stdout",
     "output_type": "stream",
     "text": [
      "90\n"
     ]
    }
   ],
   "source": [
    "print(z[2])"
   ]
  },
  {
   "cell_type": "markdown",
   "id": "55fc3067-5cbe-4f35-b418-c7ab64a760a3",
   "metadata": {},
   "source": [
    "### 2D Array"
   ]
  },
  {
   "cell_type": "code",
   "execution_count": 13,
   "id": "3e67086a",
   "metadata": {},
   "outputs": [
    {
     "name": "stdout",
     "output_type": "stream",
     "text": [
      "[[1 2 3 4 5]\n",
      " [6 7 8 9 0]]\n",
      "2\n",
      "(2, 5)\n",
      "[[1 2 3 4 5]\n",
      " [6 7 8 9 0]\n",
      " [1 2 3 4 5]\n",
      " [6 7 8 9 0]]\n",
      "2\n"
     ]
    }
   ],
   "source": [
    "import numpy as np\n",
    "a = [1,2,3,4,5] , [6,7,8,9,0]\n",
    "a = np.array(a)\n",
    "print(a)\n",
    "print(a.ndim)\n",
    "print(a.shape)\n",
    "\n",
    "# or\n",
    "\n",
    "a = [[1,2,3,4,5] , [6,7,8,9,0] , [1,2,3,4,5] , [6,7,8,9,0]]\n",
    "a = np.array(a)\n",
    "print(a)\n",
    "print(a.ndim)"
   ]
  },
  {
   "cell_type": "code",
   "execution_count": 14,
   "id": "746a458f-c3f3-464a-bf2d-96c166ee40a8",
   "metadata": {},
   "outputs": [
    {
     "name": "stdout",
     "output_type": "stream",
     "text": [
      "[6 7 8 9 0]\n"
     ]
    }
   ],
   "source": [
    "print(a[1])"
   ]
  },
  {
   "cell_type": "code",
   "execution_count": 15,
   "id": "5566a315-6c56-44ea-a04d-052c61e0193c",
   "metadata": {},
   "outputs": [
    {
     "name": "stdout",
     "output_type": "stream",
     "text": [
      "8\n"
     ]
    }
   ],
   "source": [
    "print(a[1][2])"
   ]
  },
  {
   "cell_type": "markdown",
   "id": "5a449f56-1a1c-4b42-bd57-f8b405d78af9",
   "metadata": {},
   "source": [
    "### 3D Array"
   ]
  },
  {
   "cell_type": "code",
   "execution_count": 16,
   "id": "0bda323b-4097-45b9-a632-9d4dc9b27676",
   "metadata": {},
   "outputs": [
    {
     "name": "stdout",
     "output_type": "stream",
     "text": [
      "[[[2 3 6 7]\n",
      "  [2 6 1 8]\n",
      "  [3 5 7 3]]\n",
      "\n",
      " [[2 5 8 4]\n",
      "  [7 3 2 1]\n",
      "  [3 7 0 9]]]\n",
      "(2, 3, 4)\n",
      "3\n",
      "[[[2 3 6 7]\n",
      "  [2 6 1 8]\n",
      "  [3 5 7 3]]\n",
      "\n",
      " [[2 5 8 4]\n",
      "  [7 3 2 1]\n",
      "  [3 7 0 9]]]\n",
      "3\n"
     ]
    }
   ],
   "source": [
    "import numpy as np\n",
    "\n",
    "b =    [[2,3,6,7],[2,6,1,8],[3,5,7,3]]     ,   [[2,5,8,4 ],[7,3,2,1] ,[3,7,0,9]]    # More than one zip list is belongs to 3D\n",
    "bb = np.array(b)\n",
    "print(bb)\n",
    "print(bb.shape) \n",
    "print(bb.ndim)  # It show dimension.\n",
    "\n",
    "# or\n",
    "\n",
    "b =    [[[2,3,6,7],[2,6,1,8],[3,5,7,3]]     ,   [[2,5,8,4 ],[7,3,2,1] ,[3,7,0,9]]]    # More than one zip list is belongs to 3D\n",
    "bb = np.array(b)\n",
    "print(bb)\n",
    "print(bb.ndim)  # It show dimension."
   ]
  },
  {
   "cell_type": "code",
   "execution_count": 27,
   "id": "a6433b25-e706-4c80-bcb8-1467d4230fdd",
   "metadata": {},
   "outputs": [
    {
     "name": "stdout",
     "output_type": "stream",
     "text": [
      "(2, 3, 4)\n"
     ]
    }
   ],
   "source": [
    "print(bb.shape)   # It have range 2 = (0,1) , 3 = (0,1,2) , 5 = (0,1,2,3,4)"
   ]
  },
  {
   "cell_type": "code",
   "execution_count": 28,
   "id": "f41f9b2d-cac5-4c86-b3e1-099102e37150",
   "metadata": {},
   "outputs": [
    {
     "name": "stdout",
     "output_type": "stream",
     "text": [
      "[[2 5 8 4]\n",
      " [7 3 2 1]\n",
      " [3 7 0 9]]\n"
     ]
    }
   ],
   "source": [
    "print(bb[1])"
   ]
  },
  {
   "cell_type": "code",
   "execution_count": 29,
   "id": "a9ce6c4c-14c1-49de-ad6c-96d6c47a32dd",
   "metadata": {},
   "outputs": [
    {
     "name": "stdout",
     "output_type": "stream",
     "text": [
      "[3 7 0 9]\n"
     ]
    }
   ],
   "source": [
    "print(bb[1][2])"
   ]
  },
  {
   "cell_type": "code",
   "execution_count": 30,
   "id": "14eefcc0-f549-4b84-b8d7-f87eaf734160",
   "metadata": {},
   "outputs": [
    {
     "name": "stdout",
     "output_type": "stream",
     "text": [
      "9\n"
     ]
    }
   ],
   "source": [
    "print(bb[1][2][3])"
   ]
  },
  {
   "cell_type": "markdown",
   "id": "d74aed08-c121-473e-b0c7-72dd39b87bb3",
   "metadata": {},
   "source": [
    "#### or\n"
   ]
  },
  {
   "cell_type": "code",
   "execution_count": 52,
   "id": "8dcd326f-a584-45f6-85bd-9c00fa1bef24",
   "metadata": {},
   "outputs": [
    {
     "name": "stdout",
     "output_type": "stream",
     "text": [
      "[[2 5 8 4]\n",
      " [7 3 2 1]\n",
      " [3 7 0 9]]\n"
     ]
    }
   ],
   "source": [
    "print(bb[1])"
   ]
  },
  {
   "cell_type": "code",
   "execution_count": 53,
   "id": "9b511352-d016-4270-8347-3b8bffebdd07",
   "metadata": {},
   "outputs": [
    {
     "name": "stdout",
     "output_type": "stream",
     "text": [
      "[3 7 0 9]\n"
     ]
    }
   ],
   "source": [
    "print(bb[1,2])"
   ]
  },
  {
   "cell_type": "code",
   "execution_count": 54,
   "id": "3d3bf70a-e7a5-489b-aa89-5c9a0ec1ff7a",
   "metadata": {},
   "outputs": [
    {
     "name": "stdout",
     "output_type": "stream",
     "text": [
      "0\n"
     ]
    }
   ],
   "source": [
    "print(bb[1,2,2])"
   ]
  },
  {
   "cell_type": "markdown",
   "id": "860e607a-af97-4879-81b1-8317e74afb01",
   "metadata": {},
   "source": [
    "### Additional example"
   ]
  },
  {
   "cell_type": "markdown",
   "id": "a24c23c7-d0a5-4300-9df5-1a14a3bb4275",
   "metadata": {},
   "source": [
    "#### Ex 1"
   ]
  },
  {
   "cell_type": "code",
   "execution_count": 34,
   "id": "bb090a9a-a2fa-4cc5-82e6-3ca408061869",
   "metadata": {},
   "outputs": [
    {
     "name": "stdout",
     "output_type": "stream",
     "text": [
      "[[[[2 3 4]\n",
      "   [2 5 7]]]\n",
      "\n",
      "\n",
      " [[[3 5 1]\n",
      "   [8 9 3]]]\n",
      "\n",
      "\n",
      " [[[1 6 2]\n",
      "   [5 9 0]]]]\n"
     ]
    }
   ],
   "source": [
    "z = [[[[2,3,4] , [2,5,7]]] , [[[3,5,1] ,[8,9,3]]] , [[[1,6,2] ,[5,9,0]]]]\n",
    "z = np.array(z)\n",
    "print(z)"
   ]
  },
  {
   "cell_type": "code",
   "execution_count": 37,
   "id": "5fccc1f6-3eb6-4437-88b7-0ac6fcbeeb47",
   "metadata": {},
   "outputs": [
    {
     "name": "stdout",
     "output_type": "stream",
     "text": [
      "(3, 1, 2, 3)\n"
     ]
    }
   ],
   "source": [
    "print(z.shape)  # So it have 3 = (0,1,2) , 1 = (0) , 2 = (0,1) , 3 = (0,1,2)"
   ]
  },
  {
   "cell_type": "code",
   "execution_count": 38,
   "id": "eac213c7-b65b-4321-89ac-d258d3d7a159",
   "metadata": {},
   "outputs": [
    {
     "name": "stdout",
     "output_type": "stream",
     "text": [
      "[[[1 6 2]\n",
      "  [5 9 0]]]\n"
     ]
    }
   ],
   "source": [
    "print(z[2])"
   ]
  },
  {
   "cell_type": "code",
   "execution_count": 39,
   "id": "6ee76658-1d1c-45e9-b2ff-c64f07089d9a",
   "metadata": {},
   "outputs": [
    {
     "name": "stdout",
     "output_type": "stream",
     "text": [
      "[[1 6 2]\n",
      " [5 9 0]]\n"
     ]
    }
   ],
   "source": [
    "print(z[2][0])   # Understand this one"
   ]
  },
  {
   "cell_type": "code",
   "execution_count": 40,
   "id": "7c14f902-6616-45b2-9be9-66226d8f72b3",
   "metadata": {},
   "outputs": [
    {
     "name": "stdout",
     "output_type": "stream",
     "text": [
      "[5 9 0]\n"
     ]
    }
   ],
   "source": [
    "print(z[2][0][1])"
   ]
  },
  {
   "cell_type": "code",
   "execution_count": 41,
   "id": "1a7ea715-d4f5-4b34-8b6f-7df04c01ff40",
   "metadata": {},
   "outputs": [
    {
     "name": "stdout",
     "output_type": "stream",
     "text": [
      "0\n"
     ]
    }
   ],
   "source": [
    "print(z[2][0][1][2])"
   ]
  },
  {
   "cell_type": "markdown",
   "id": "833d7e8d-ed2d-4403-9c16-3f122a91e7a3",
   "metadata": {},
   "source": [
    "### 3D Another Ex"
   ]
  },
  {
   "cell_type": "code",
   "execution_count": 42,
   "id": "f855452c-ceda-4591-80fa-89f36ac62295",
   "metadata": {
    "scrolled": true
   },
   "outputs": [
    {
     "name": "stdout",
     "output_type": "stream",
     "text": [
      "([[2, 3, 6, 7, 5], [2, 5, 6, 1, 8], [3, 5, 7, 7, 3]], [[1, 2, 3, 4, 5], [6, 7, 8, 9, 0], [2, 3, 5, 1, 4]], [[1, 2, 3, 4, 5], [6, 7, 8, 9, 0], [2, 4, 5, 2, 8]])\n",
      "[[[2 3 6 7 5]\n",
      "  [2 5 6 1 8]\n",
      "  [3 5 7 7 3]]\n",
      "\n",
      " [[1 2 3 4 5]\n",
      "  [6 7 8 9 0]\n",
      "  [2 3 5 1 4]]\n",
      "\n",
      " [[1 2 3 4 5]\n",
      "  [6 7 8 9 0]\n",
      "  [2 4 5 2 8]]]\n",
      "(3, 3, 5)\n",
      "3\n"
     ]
    }
   ],
   "source": [
    "\n",
    "b =   [[2,3,6,7,5],[2,5,6,1,8],[3,5,7,7,3]] , [[1,2,3,4,5] , [6,7,8,9,0] ,[2,3,5,1,4]] ,  [[1,2,3,4,5] , [6,7,8,9,0] , [2,4,5,2,8]]   # More than one zip list is belongs to 3D\n",
    "print(b)\n",
    "bb = np.array(b)\n",
    "print(bb)\n",
    "print(bb.shape) \n",
    "print(bb.ndim)  # It show dimension."
   ]
  },
  {
   "cell_type": "code",
   "execution_count": 63,
   "id": "ff257881-54fa-4e6b-82d2-79a3045c0ae6",
   "metadata": {},
   "outputs": [
    {
     "name": "stdout",
     "output_type": "stream",
     "text": [
      "[2 5 6 1 8]\n"
     ]
    }
   ],
   "source": [
    "print(bb[0][1])"
   ]
  },
  {
   "cell_type": "markdown",
   "id": "e1b6fb2b-47af-4a26-9e78-1d20a648724d",
   "metadata": {},
   "source": [
    "### Ex"
   ]
  },
  {
   "cell_type": "code",
   "execution_count": 43,
   "id": "66819dd8-f237-4660-a15c-86f819c07cff",
   "metadata": {},
   "outputs": [
    {
     "name": "stdout",
     "output_type": "stream",
     "text": [
      "(3, 3)\n",
      "6\n"
     ]
    }
   ],
   "source": [
    "z = [2,3,5] , [3,3,2] , [3,2,6]\n",
    "z = np.array(z)\n",
    "print(z.shape)\n",
    "print(z[2][2])"
   ]
  }
 ],
 "metadata": {
  "kernelspec": {
   "display_name": "Python 3 (ipykernel)",
   "language": "python",
   "name": "python3"
  },
  "language_info": {
   "codemirror_mode": {
    "name": "ipython",
    "version": 3
   },
   "file_extension": ".py",
   "mimetype": "text/x-python",
   "name": "python",
   "nbconvert_exporter": "python",
   "pygments_lexer": "ipython3",
   "version": "3.11.7"
  }
 },
 "nbformat": 4,
 "nbformat_minor": 5
}
