{
 "cells": [
  {
   "cell_type": "code",
   "execution_count": 4,
   "id": "9b8c0872",
   "metadata": {},
   "outputs": [],
   "source": [
    "import numpy as np"
   ]
  },
  {
   "cell_type": "code",
   "execution_count": 31,
   "id": "6a7faf7f",
   "metadata": {},
   "outputs": [
    {
     "data": {
      "text/plain": [
       "[[1, 4, 5, 2, 2, 5], [4, 4, 1, 7, 4, 5]]"
      ]
     },
     "execution_count": 31,
     "metadata": {},
     "output_type": "execute_result"
    }
   ],
   "source": [
    "a = [[1,4,5,2,2,5],\n",
    "     [4,4,1,7,4,5]]\n",
    "a"
   ]
  },
  {
   "cell_type": "markdown",
   "id": "912c236b",
   "metadata": {},
   "source": [
    "# Display Unique Values"
   ]
  },
  {
   "cell_type": "markdown",
   "id": "0c43cad0",
   "metadata": {},
   "source": [
    "###  Good carification in class 16"
   ]
  },
  {
   "cell_type": "code",
   "execution_count": 40,
   "id": "62dc45a7",
   "metadata": {},
   "outputs": [
    {
     "data": {
      "text/plain": [
       "array([1, 2, 4, 5, 7])"
      ]
     },
     "execution_count": 40,
     "metadata": {},
     "output_type": "execute_result"
    }
   ],
   "source": [
    "u = np.unique(a)   \n",
    "u"
   ]
  },
  {
   "cell_type": "markdown",
   "id": "292e8654",
   "metadata": {},
   "source": [
    "# Length of Unique Values"
   ]
  },
  {
   "cell_type": "code",
   "execution_count": 39,
   "id": "f6a967f6",
   "metadata": {},
   "outputs": [
    {
     "data": {
      "text/plain": [
       "5"
      ]
     },
     "execution_count": 39,
     "metadata": {},
     "output_type": "execute_result"
    }
   ],
   "source": [
    "l = len(np.unique(a))\n",
    "l"
   ]
  },
  {
   "cell_type": "markdown",
   "id": "287c102f",
   "metadata": {},
   "source": [
    "#  Count the Unique values"
   ]
  },
  {
   "cell_type": "code",
   "execution_count": 41,
   "id": "536d26e1",
   "metadata": {},
   "outputs": [
    {
     "data": {
      "text/plain": [
       "(array([1, 2, 4, 5, 7]), array([2, 2, 4, 3, 1], dtype=int64))"
      ]
     },
     "execution_count": 41,
     "metadata": {},
     "output_type": "execute_result"
    }
   ],
   "source": [
    "c =np.unique(a,return_counts = True)\n",
    "c"
   ]
  }
 ],
 "metadata": {
  "kernelspec": {
   "display_name": "Python 3 (ipykernel)",
   "language": "python",
   "name": "python3"
  },
  "language_info": {
   "codemirror_mode": {
    "name": "ipython",
    "version": 3
   },
   "file_extension": ".py",
   "mimetype": "text/x-python",
   "name": "python",
   "nbconvert_exporter": "python",
   "pygments_lexer": "ipython3",
   "version": "3.11.5"
  }
 },
 "nbformat": 4,
 "nbformat_minor": 5
}
