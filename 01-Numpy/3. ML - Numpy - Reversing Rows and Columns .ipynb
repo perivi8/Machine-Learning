{
 "cells": [
  {
   "cell_type": "markdown",
   "id": "76ecb397",
   "metadata": {},
   "source": [
    "# Reversing  Rows and Columns"
   ]
  },
  {
   "cell_type": "code",
   "execution_count": 45,
   "id": "d44a773a",
   "metadata": {},
   "outputs": [],
   "source": [
    "import numpy as np"
   ]
  },
  {
   "cell_type": "markdown",
   "id": "52159d6c",
   "metadata": {},
   "source": [
    "### ex 1"
   ]
  },
  {
   "cell_type": "code",
   "execution_count": 29,
   "id": "e4ab469b",
   "metadata": {},
   "outputs": [
    {
     "data": {
      "text/plain": [
       "array([[1, 2, 3, 4, 5],\n",
       "       [2, 4, 6, 8, 0],\n",
       "       [1, 3, 5, 7, 9]])"
      ]
     },
     "execution_count": 29,
     "metadata": {},
     "output_type": "execute_result"
    }
   ],
   "source": [
    "a = [[1,2,3,4,5],\n",
    "      [2,4,6,8,0],\n",
    "      [1,3,5,7,9]] \n",
    "     \n",
    "c =  np.array(a)        \n",
    "c "
   ]
  },
  {
   "cell_type": "code",
   "execution_count": 46,
   "id": "10f34dba",
   "metadata": {},
   "outputs": [
    {
     "data": {
      "text/plain": [
       "array([[1, 3, 5, 7, 9],\n",
       "       [2, 4, 6, 8, 0],\n",
       "       [1, 2, 3, 4, 5]])"
      ]
     },
     "execution_count": 46,
     "metadata": {},
     "output_type": "execute_result"
    }
   ],
   "source": [
    "c[::-1]           # it is only reverse the row"
   ]
  },
  {
   "cell_type": "code",
   "execution_count": 49,
   "id": "22c26ba8",
   "metadata": {},
   "outputs": [
    {
     "data": {
      "text/plain": [
       "array([[9, 7, 5, 3, 1],\n",
       "       [0, 8, 6, 4, 2],\n",
       "       [5, 4, 3, 2, 1]])"
      ]
     },
     "execution_count": 49,
     "metadata": {},
     "output_type": "execute_result"
    }
   ],
   "source": [
    "c[::-1,::-1]      # it is reverse the row x column"
   ]
  },
  {
   "cell_type": "markdown",
   "id": "f0d6392c",
   "metadata": {},
   "source": [
    "### ex 2"
   ]
  },
  {
   "cell_type": "code",
   "execution_count": 34,
   "id": "18cb61f5",
   "metadata": {
    "scrolled": true
   },
   "outputs": [
    {
     "data": {
      "text/plain": [
       "array([[11, 22, 33, 44, 55],\n",
       "       [66, 77, 88, 99,  0]])"
      ]
     },
     "execution_count": 34,
     "metadata": {},
     "output_type": "execute_result"
    }
   ],
   "source": [
    "b = [[11,22,33,44,55],\n",
    "     [66,77,88,99,0]]  \n",
    "d =  np.array(b)\n",
    "d\n"
   ]
  },
  {
   "cell_type": "code",
   "execution_count": 47,
   "id": "14728d72",
   "metadata": {},
   "outputs": [
    {
     "data": {
      "text/plain": [
       "array([[66, 77, 88, 99,  0],\n",
       "       [11, 22, 33, 44, 55]])"
      ]
     },
     "execution_count": 47,
     "metadata": {},
     "output_type": "execute_result"
    }
   ],
   "source": [
    "d[::-1]          "
   ]
  },
  {
   "cell_type": "code",
   "execution_count": 53,
   "id": "8146e280",
   "metadata": {},
   "outputs": [
    {
     "data": {
      "text/plain": [
       "array([[ 0, 99, 88, 77, 66],\n",
       "       [55, 44, 33, 22, 11]])"
      ]
     },
     "execution_count": 53,
     "metadata": {},
     "output_type": "execute_result"
    }
   ],
   "source": [
    "d[ ::-1 , ::-1]"
   ]
  },
  {
   "cell_type": "code",
   "execution_count": null,
   "id": "dd18b092",
   "metadata": {},
   "outputs": [],
   "source": []
  }
 ],
 "metadata": {
  "kernelspec": {
   "display_name": "Python 3 (ipykernel)",
   "language": "python",
   "name": "python3"
  },
  "language_info": {
   "codemirror_mode": {
    "name": "ipython",
    "version": 3
   },
   "file_extension": ".py",
   "mimetype": "text/x-python",
   "name": "python",
   "nbconvert_exporter": "python",
   "pygments_lexer": "ipython3",
   "version": "3.11.5"
  }
 },
 "nbformat": 4,
 "nbformat_minor": 5
}
