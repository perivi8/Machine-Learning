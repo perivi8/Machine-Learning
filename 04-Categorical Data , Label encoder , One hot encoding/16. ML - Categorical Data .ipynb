{
 "cells": [
  {
   "cell_type": "markdown",
   "id": "aec3ea37",
   "metadata": {},
   "source": [
    "# Basic example "
   ]
  },
  {
   "cell_type": "code",
   "execution_count": 19,
   "id": "e9c6463e",
   "metadata": {},
   "outputs": [],
   "source": [
    "import numpy as np"
   ]
  },
  {
   "cell_type": "code",
   "execution_count": 20,
   "id": "a1bce98a",
   "metadata": {
    "scrolled": true
   },
   "outputs": [],
   "source": [
    "import pandas as pd  \n",
    "  \n",
    "\n",
    "data = {'color': ['red', 'blue', 'green', 'red', 'blue']}  \n",
    "\n",
    "df = pd.DataFrame(data)  "
   ]
  },
  {
   "cell_type": "code",
   "execution_count": 21,
   "id": "6db62516",
   "metadata": {},
   "outputs": [
    {
     "data": {
      "text/plain": [
       "{'color': ['red', 'blue', 'green', 'red', 'blue']}"
      ]
     },
     "execution_count": 21,
     "metadata": {},
     "output_type": "execute_result"
    }
   ],
   "source": [
    "data"
   ]
  },
  {
   "cell_type": "code",
   "execution_count": 22,
   "id": "351d2cfb",
   "metadata": {},
   "outputs": [
    {
     "data": {
      "text/html": [
       "<div>\n",
       "<style scoped>\n",
       "    .dataframe tbody tr th:only-of-type {\n",
       "        vertical-align: middle;\n",
       "    }\n",
       "\n",
       "    .dataframe tbody tr th {\n",
       "        vertical-align: top;\n",
       "    }\n",
       "\n",
       "    .dataframe thead th {\n",
       "        text-align: right;\n",
       "    }\n",
       "</style>\n",
       "<table border=\"1\" class=\"dataframe\">\n",
       "  <thead>\n",
       "    <tr style=\"text-align: right;\">\n",
       "      <th></th>\n",
       "      <th>color</th>\n",
       "    </tr>\n",
       "  </thead>\n",
       "  <tbody>\n",
       "    <tr>\n",
       "      <th>0</th>\n",
       "      <td>red</td>\n",
       "    </tr>\n",
       "    <tr>\n",
       "      <th>1</th>\n",
       "      <td>blue</td>\n",
       "    </tr>\n",
       "    <tr>\n",
       "      <th>2</th>\n",
       "      <td>green</td>\n",
       "    </tr>\n",
       "    <tr>\n",
       "      <th>3</th>\n",
       "      <td>red</td>\n",
       "    </tr>\n",
       "    <tr>\n",
       "      <th>4</th>\n",
       "      <td>blue</td>\n",
       "    </tr>\n",
       "  </tbody>\n",
       "</table>\n",
       "</div>"
      ],
      "text/plain": [
       "   color\n",
       "0    red\n",
       "1   blue\n",
       "2  green\n",
       "3    red\n",
       "4   blue"
      ]
     },
     "execution_count": 22,
     "metadata": {},
     "output_type": "execute_result"
    }
   ],
   "source": [
    "df"
   ]
  },
  {
   "cell_type": "code",
   "execution_count": 23,
   "id": "cfa3b24d",
   "metadata": {},
   "outputs": [
    {
     "data": {
      "text/html": [
       "<div>\n",
       "<style scoped>\n",
       "    .dataframe tbody tr th:only-of-type {\n",
       "        vertical-align: middle;\n",
       "    }\n",
       "\n",
       "    .dataframe tbody tr th {\n",
       "        vertical-align: top;\n",
       "    }\n",
       "\n",
       "    .dataframe thead th {\n",
       "        text-align: right;\n",
       "    }\n",
       "</style>\n",
       "<table border=\"1\" class=\"dataframe\">\n",
       "  <thead>\n",
       "    <tr style=\"text-align: right;\">\n",
       "      <th></th>\n",
       "      <th>color</th>\n",
       "    </tr>\n",
       "  </thead>\n",
       "  <tbody>\n",
       "    <tr>\n",
       "      <th>0</th>\n",
       "      <td>red</td>\n",
       "    </tr>\n",
       "    <tr>\n",
       "      <th>1</th>\n",
       "      <td>blue</td>\n",
       "    </tr>\n",
       "    <tr>\n",
       "      <th>2</th>\n",
       "      <td>green</td>\n",
       "    </tr>\n",
       "    <tr>\n",
       "      <th>3</th>\n",
       "      <td>red</td>\n",
       "    </tr>\n",
       "    <tr>\n",
       "      <th>4</th>\n",
       "      <td>blue</td>\n",
       "    </tr>\n",
       "  </tbody>\n",
       "</table>\n",
       "</div>"
      ],
      "text/plain": [
       "   color\n",
       "0    red\n",
       "1   blue\n",
       "2  green\n",
       "3    red\n",
       "4   blue"
      ]
     },
     "execution_count": 23,
     "metadata": {},
     "output_type": "execute_result"
    }
   ],
   "source": [
    "df.head()"
   ]
  },
  {
   "cell_type": "markdown",
   "id": "e6343f67",
   "metadata": {},
   "source": [
    "### This below 3 are the example of class 8"
   ]
  },
  {
   "cell_type": "markdown",
   "id": "a09d5871",
   "metadata": {},
   "source": [
    "### Below 3 methods are used when data have single column"
   ]
  },
  {
   "cell_type": "code",
   "execution_count": 24,
   "id": "77c50e45",
   "metadata": {},
   "outputs": [
    {
     "data": {
      "text/plain": [
       "(array(['blue', 'green', 'red'], dtype=object), array([2, 1, 2], dtype=int64))"
      ]
     },
     "execution_count": 24,
     "metadata": {},
     "output_type": "execute_result"
    }
   ],
   "source": [
    "c =np.unique(df,return_counts = True)     # count the unique values\n",
    "c"
   ]
  },
  {
   "cell_type": "code",
   "execution_count": 25,
   "id": "547113f6",
   "metadata": {},
   "outputs": [
    {
     "data": {
      "text/plain": [
       "3"
      ]
     },
     "execution_count": 25,
     "metadata": {},
     "output_type": "execute_result"
    }
   ],
   "source": [
    "l = len(np.unique(df))                # len of the unique values\n",
    "l"
   ]
  },
  {
   "cell_type": "code",
   "execution_count": 26,
   "id": "2a91680b",
   "metadata": {},
   "outputs": [
    {
     "data": {
      "text/plain": [
       "array(['blue', 'green', 'red'], dtype=object)"
      ]
     },
     "execution_count": 26,
     "metadata": {},
     "output_type": "execute_result"
    }
   ],
   "source": [
    "a = np.unique(df)          # Display Unique values\n",
    "a"
   ]
  },
  {
   "cell_type": "markdown",
   "id": "605f16e2",
   "metadata": {},
   "source": [
    "###  This 2 are new   - ' value_counts() , unique()  '\n",
    "   "
   ]
  },
  {
   "cell_type": "markdown",
   "id": "50da736d",
   "metadata": {},
   "source": [
    "## Value_counts()"
   ]
  },
  {
   "cell_type": "code",
   "execution_count": 27,
   "id": "60fab651",
   "metadata": {},
   "outputs": [
    {
     "data": {
      "text/plain": [
       "color\n",
       "red      2\n",
       "blue     2\n",
       "green    1\n",
       "Name: count, dtype: int64"
      ]
     },
     "execution_count": 27,
     "metadata": {},
     "output_type": "execute_result"
    }
   ],
   "source": [
    "df[\"color\"].value_counts()    # This is used to cont the seperate values"
   ]
  },
  {
   "cell_type": "markdown",
   "id": "aaa2cb08",
   "metadata": {},
   "source": [
    "##  unique"
   ]
  },
  {
   "cell_type": "code",
   "execution_count": 28,
   "id": "60106062",
   "metadata": {},
   "outputs": [
    {
     "data": {
      "text/plain": [
       "array(['red', 'blue', 'green'], dtype=object)"
      ]
     },
     "execution_count": 28,
     "metadata": {},
     "output_type": "execute_result"
    }
   ],
   "source": [
    "df[\"color\"].unique()         # this type unique is uesd to find the seperate index unique\n"
   ]
  },
  {
   "cell_type": "markdown",
   "id": "4afce73d",
   "metadata": {},
   "source": [
    "# categorical Data"
   ]
  },
  {
   "cell_type": "code",
   "execution_count": 29,
   "id": "08231788",
   "metadata": {
    "scrolled": true
   },
   "outputs": [
    {
     "data": {
      "text/html": [
       "<div>\n",
       "<style scoped>\n",
       "    .dataframe tbody tr th:only-of-type {\n",
       "        vertical-align: middle;\n",
       "    }\n",
       "\n",
       "    .dataframe tbody tr th {\n",
       "        vertical-align: top;\n",
       "    }\n",
       "\n",
       "    .dataframe thead th {\n",
       "        text-align: right;\n",
       "    }\n",
       "</style>\n",
       "<table border=\"1\" class=\"dataframe\">\n",
       "  <thead>\n",
       "    <tr style=\"text-align: right;\">\n",
       "      <th></th>\n",
       "      <th>name</th>\n",
       "      <th>cast</th>\n",
       "      <th>age</th>\n",
       "      <th>sex</th>\n",
       "      <th>Dob</th>\n",
       "    </tr>\n",
       "  </thead>\n",
       "  <tbody>\n",
       "    <tr>\n",
       "      <th>0</th>\n",
       "      <td>kumar</td>\n",
       "      <td>bc</td>\n",
       "      <td>19</td>\n",
       "      <td>M</td>\n",
       "      <td>2002</td>\n",
       "    </tr>\n",
       "    <tr>\n",
       "      <th>1</th>\n",
       "      <td>krishna</td>\n",
       "      <td>oc</td>\n",
       "      <td>20</td>\n",
       "      <td>M</td>\n",
       "      <td>1998</td>\n",
       "    </tr>\n",
       "    <tr>\n",
       "      <th>2</th>\n",
       "      <td>sai</td>\n",
       "      <td>sc</td>\n",
       "      <td>22</td>\n",
       "      <td>F</td>\n",
       "      <td>2001</td>\n",
       "    </tr>\n",
       "    <tr>\n",
       "      <th>3</th>\n",
       "      <td>pavan</td>\n",
       "      <td>oc</td>\n",
       "      <td>20</td>\n",
       "      <td>M</td>\n",
       "      <td>2003</td>\n",
       "    </tr>\n",
       "    <tr>\n",
       "      <th>4</th>\n",
       "      <td>vishnu</td>\n",
       "      <td>bc</td>\n",
       "      <td>21</td>\n",
       "      <td>F</td>\n",
       "      <td>2000</td>\n",
       "    </tr>\n",
       "    <tr>\n",
       "      <th>5</th>\n",
       "      <td>sudheer</td>\n",
       "      <td>st</td>\n",
       "      <td>24</td>\n",
       "      <td>M</td>\n",
       "      <td>2003</td>\n",
       "    </tr>\n",
       "    <tr>\n",
       "      <th>6</th>\n",
       "      <td>akhil</td>\n",
       "      <td>bc</td>\n",
       "      <td>23</td>\n",
       "      <td>M</td>\n",
       "      <td>2002</td>\n",
       "    </tr>\n",
       "    <tr>\n",
       "      <th>7</th>\n",
       "      <td>hari</td>\n",
       "      <td>st</td>\n",
       "      <td>20</td>\n",
       "      <td>F</td>\n",
       "      <td>1999</td>\n",
       "    </tr>\n",
       "    <tr>\n",
       "      <th>8</th>\n",
       "      <td>vijay</td>\n",
       "      <td>oc</td>\n",
       "      <td>22</td>\n",
       "      <td>M</td>\n",
       "      <td>2001</td>\n",
       "    </tr>\n",
       "    <tr>\n",
       "      <th>9</th>\n",
       "      <td>ajay</td>\n",
       "      <td>sc</td>\n",
       "      <td>21</td>\n",
       "      <td>F</td>\n",
       "      <td>2004</td>\n",
       "    </tr>\n",
       "  </tbody>\n",
       "</table>\n",
       "</div>"
      ],
      "text/plain": [
       "      name cast  age sex   Dob\n",
       "0    kumar   bc   19   M  2002\n",
       "1  krishna   oc   20   M  1998\n",
       "2      sai   sc   22   F  2001\n",
       "3    pavan   oc   20   M  2003\n",
       "4   vishnu   bc   21   F  2000\n",
       "5  sudheer   st   24   M  2003\n",
       "6    akhil   bc   23   M  2002\n",
       "7     hari   st   20   F  1999\n",
       "8    vijay   oc   22   M  2001\n",
       "9     ajay   sc   21   F  2004"
      ]
     },
     "execution_count": 29,
     "metadata": {},
     "output_type": "execute_result"
    }
   ],
   "source": [
    "df1=pd.read_excel(\"D:\\\\anacoda\\\\ML DATA NOTES\\\\CHAVALI.xlsx\")\n",
    "df1"
   ]
  },
  {
   "cell_type": "code",
   "execution_count": 30,
   "id": "9f7958bf",
   "metadata": {},
   "outputs": [
    {
     "data": {
      "text/plain": [
       "name    object\n",
       "cast    object\n",
       "age      int64\n",
       "sex     object\n",
       "Dob      int64\n",
       "dtype: object"
      ]
     },
     "execution_count": 30,
     "metadata": {},
     "output_type": "execute_result"
    }
   ],
   "source": [
    "df1.dtypes          # we need to convert object to int"
   ]
  },
  {
   "cell_type": "markdown",
   "id": "a46a7025",
   "metadata": {},
   "source": [
    "###  Below 2 are same "
   ]
  },
  {
   "cell_type": "code",
   "execution_count": 31,
   "id": "71d93ae4",
   "metadata": {},
   "outputs": [
    {
     "data": {
      "text/plain": [
       "(array(['F', 'M'], dtype=object), array([4, 6], dtype=int64))"
      ]
     },
     "execution_count": 31,
     "metadata": {},
     "output_type": "execute_result"
    }
   ],
   "source": [
    "c1 =np.unique(df1['sex'],return_counts = True)   # correct  \n",
    "c1 \n",
    "\n",
    "# c1 =np.unique(df1,return_counts = True)     # wrong\n",
    "# c1               "
   ]
  },
  {
   "cell_type": "code",
   "execution_count": 32,
   "id": "f7a7d8c6",
   "metadata": {
    "scrolled": false
   },
   "outputs": [
    {
     "data": {
      "text/plain": [
       "sex\n",
       "M    6\n",
       "F    4\n",
       "Name: count, dtype: int64"
      ]
     },
     "execution_count": 32,
     "metadata": {},
     "output_type": "execute_result"
    }
   ],
   "source": [
    "df1['sex'].value_counts()"
   ]
  },
  {
   "cell_type": "markdown",
   "id": "feb28323",
   "metadata": {},
   "source": [
    "### Below 2 are same "
   ]
  },
  {
   "cell_type": "code",
   "execution_count": 33,
   "id": "4ab97425",
   "metadata": {},
   "outputs": [
    {
     "data": {
      "text/plain": [
       "array(['F', 'M'], dtype=object)"
      ]
     },
     "execution_count": 33,
     "metadata": {},
     "output_type": "execute_result"
    }
   ],
   "source": [
    "a1=np.unique(df1['sex'])     # correct \n",
    "a1\n",
    "\n",
    "# a1=np.unique(df1)     # wrong \n",
    "# a1"
   ]
  },
  {
   "cell_type": "code",
   "execution_count": 34,
   "id": "10288586",
   "metadata": {},
   "outputs": [
    {
     "data": {
      "text/plain": [
       "array(['M', 'F'], dtype=object)"
      ]
     },
     "execution_count": 34,
     "metadata": {},
     "output_type": "execute_result"
    }
   ],
   "source": [
    "df1['sex'].unique()"
   ]
  },
  {
   "cell_type": "markdown",
   "id": "91b9ff05",
   "metadata": {},
   "source": [
    "### THis is used to find length "
   ]
  },
  {
   "cell_type": "code",
   "execution_count": 35,
   "id": "83ff4c82",
   "metadata": {
    "scrolled": true
   },
   "outputs": [
    {
     "data": {
      "text/plain": [
       "2"
      ]
     },
     "execution_count": 35,
     "metadata": {},
     "output_type": "execute_result"
    }
   ],
   "source": [
    "l1 = len(np.unique(df1['sex']))   # correct\n",
    "l1\n",
    "\n",
    "\n",
    "#l1 = len(np.unique(df1))    # wrong    \n",
    "# l1"
   ]
  },
  {
   "cell_type": "markdown",
   "id": "c38151ec",
   "metadata": {},
   "source": [
    "# LabelEncoder"
   ]
  },
  {
   "cell_type": "markdown",
   "id": "61a6ef53",
   "metadata": {},
   "source": [
    "### The label encoder is used to convert the alphabetical data into numerical form "
   ]
  },
  {
   "cell_type": "markdown",
   "id": "cd0b3aa2",
   "metadata": {},
   "source": [
    "### * Because system understood only numerical form"
   ]
  },
  {
   "cell_type": "code",
   "execution_count": 36,
   "id": "499c00c5",
   "metadata": {},
   "outputs": [],
   "source": [
    "from sklearn.preprocessing import LabelEncoder"
   ]
  },
  {
   "cell_type": "code",
   "execution_count": 37,
   "id": "bf59b7e4",
   "metadata": {},
   "outputs": [
    {
     "data": {
      "text/plain": [
       "array(['kumar', 'krishna', 'sai', 'pavan', 'vishnu', 'sudheer', 'akhil',\n",
       "       'hari', 'vijay', 'ajay'], dtype=object)"
      ]
     },
     "execution_count": 37,
     "metadata": {},
     "output_type": "execute_result"
    }
   ],
   "source": [
    "df1['name'].unique()"
   ]
  },
  {
   "cell_type": "code",
   "execution_count": 38,
   "id": "caf82d32",
   "metadata": {},
   "outputs": [],
   "source": [
    "label_encoder = LabelEncoder()"
   ]
  },
  {
   "cell_type": "code",
   "execution_count": 39,
   "id": "54dbc689",
   "metadata": {
    "scrolled": true
   },
   "outputs": [
    {
     "data": {
      "text/plain": [
       "name    object\n",
       "cast    object\n",
       "age      int64\n",
       "sex     object\n",
       "Dob      int64\n",
       "dtype: object"
      ]
     },
     "execution_count": 39,
     "metadata": {},
     "output_type": "execute_result"
    }
   ],
   "source": [
    "df1.dtypes          # we need covert objects into numerical form"
   ]
  },
  {
   "cell_type": "code",
   "execution_count": 40,
   "id": "4bd5a56d",
   "metadata": {},
   "outputs": [
    {
     "data": {
      "text/plain": [
       "0    4\n",
       "1    3\n",
       "2    6\n",
       "3    5\n",
       "4    9\n",
       "5    7\n",
       "6    1\n",
       "7    2\n",
       "8    8\n",
       "9    0\n",
       "Name: name, dtype: int32"
      ]
     },
     "execution_count": 40,
     "metadata": {},
     "output_type": "execute_result"
    }
   ],
   "source": [
    "df1['name'] = label_encoder.fit_transform(df1['name'])\n",
    "df1['name']"
   ]
  },
  {
   "cell_type": "code",
   "execution_count": 41,
   "id": "6336ca08",
   "metadata": {},
   "outputs": [
    {
     "data": {
      "text/plain": [
       "0    1\n",
       "1    1\n",
       "2    0\n",
       "3    1\n",
       "4    0\n",
       "5    1\n",
       "6    1\n",
       "7    0\n",
       "8    1\n",
       "9    0\n",
       "Name: sex, dtype: int32"
      ]
     },
     "execution_count": 41,
     "metadata": {},
     "output_type": "execute_result"
    }
   ],
   "source": [
    "df1['sex'] = label_encoder.fit_transform(df1['sex'])\n",
    "df1[\"sex\"]"
   ]
  },
  {
   "cell_type": "code",
   "execution_count": 42,
   "id": "66227bc2",
   "metadata": {},
   "outputs": [
    {
     "data": {
      "text/plain": [
       "0    0\n",
       "1    1\n",
       "2    2\n",
       "3    1\n",
       "4    0\n",
       "5    3\n",
       "6    0\n",
       "7    3\n",
       "8    1\n",
       "9    2\n",
       "Name: cast, dtype: int32"
      ]
     },
     "execution_count": 42,
     "metadata": {},
     "output_type": "execute_result"
    }
   ],
   "source": [
    "df1['cast'] = label_encoder.fit_transform(df1['cast'])\n",
    "df1['cast'] "
   ]
  },
  {
   "cell_type": "code",
   "execution_count": 43,
   "id": "3246422f",
   "metadata": {},
   "outputs": [
    {
     "data": {
      "text/html": [
       "<div>\n",
       "<style scoped>\n",
       "    .dataframe tbody tr th:only-of-type {\n",
       "        vertical-align: middle;\n",
       "    }\n",
       "\n",
       "    .dataframe tbody tr th {\n",
       "        vertical-align: top;\n",
       "    }\n",
       "\n",
       "    .dataframe thead th {\n",
       "        text-align: right;\n",
       "    }\n",
       "</style>\n",
       "<table border=\"1\" class=\"dataframe\">\n",
       "  <thead>\n",
       "    <tr style=\"text-align: right;\">\n",
       "      <th></th>\n",
       "      <th>name</th>\n",
       "      <th>cast</th>\n",
       "      <th>age</th>\n",
       "      <th>sex</th>\n",
       "      <th>Dob</th>\n",
       "    </tr>\n",
       "  </thead>\n",
       "  <tbody>\n",
       "    <tr>\n",
       "      <th>0</th>\n",
       "      <td>4</td>\n",
       "      <td>0</td>\n",
       "      <td>19</td>\n",
       "      <td>1</td>\n",
       "      <td>2002</td>\n",
       "    </tr>\n",
       "    <tr>\n",
       "      <th>1</th>\n",
       "      <td>3</td>\n",
       "      <td>1</td>\n",
       "      <td>20</td>\n",
       "      <td>1</td>\n",
       "      <td>1998</td>\n",
       "    </tr>\n",
       "    <tr>\n",
       "      <th>2</th>\n",
       "      <td>6</td>\n",
       "      <td>2</td>\n",
       "      <td>22</td>\n",
       "      <td>0</td>\n",
       "      <td>2001</td>\n",
       "    </tr>\n",
       "    <tr>\n",
       "      <th>3</th>\n",
       "      <td>5</td>\n",
       "      <td>1</td>\n",
       "      <td>20</td>\n",
       "      <td>1</td>\n",
       "      <td>2003</td>\n",
       "    </tr>\n",
       "    <tr>\n",
       "      <th>4</th>\n",
       "      <td>9</td>\n",
       "      <td>0</td>\n",
       "      <td>21</td>\n",
       "      <td>0</td>\n",
       "      <td>2000</td>\n",
       "    </tr>\n",
       "    <tr>\n",
       "      <th>5</th>\n",
       "      <td>7</td>\n",
       "      <td>3</td>\n",
       "      <td>24</td>\n",
       "      <td>1</td>\n",
       "      <td>2003</td>\n",
       "    </tr>\n",
       "    <tr>\n",
       "      <th>6</th>\n",
       "      <td>1</td>\n",
       "      <td>0</td>\n",
       "      <td>23</td>\n",
       "      <td>1</td>\n",
       "      <td>2002</td>\n",
       "    </tr>\n",
       "    <tr>\n",
       "      <th>7</th>\n",
       "      <td>2</td>\n",
       "      <td>3</td>\n",
       "      <td>20</td>\n",
       "      <td>0</td>\n",
       "      <td>1999</td>\n",
       "    </tr>\n",
       "    <tr>\n",
       "      <th>8</th>\n",
       "      <td>8</td>\n",
       "      <td>1</td>\n",
       "      <td>22</td>\n",
       "      <td>1</td>\n",
       "      <td>2001</td>\n",
       "    </tr>\n",
       "    <tr>\n",
       "      <th>9</th>\n",
       "      <td>0</td>\n",
       "      <td>2</td>\n",
       "      <td>21</td>\n",
       "      <td>0</td>\n",
       "      <td>2004</td>\n",
       "    </tr>\n",
       "  </tbody>\n",
       "</table>\n",
       "</div>"
      ],
      "text/plain": [
       "   name  cast  age  sex   Dob\n",
       "0     4     0   19    1  2002\n",
       "1     3     1   20    1  1998\n",
       "2     6     2   22    0  2001\n",
       "3     5     1   20    1  2003\n",
       "4     9     0   21    0  2000\n",
       "5     7     3   24    1  2003\n",
       "6     1     0   23    1  2002\n",
       "7     2     3   20    0  1999\n",
       "8     8     1   22    1  2001\n",
       "9     0     2   21    0  2004"
      ]
     },
     "execution_count": 43,
     "metadata": {},
     "output_type": "execute_result"
    }
   ],
   "source": [
    "df1"
   ]
  },
  {
   "cell_type": "code",
   "execution_count": 44,
   "id": "15bc4398",
   "metadata": {},
   "outputs": [
    {
     "data": {
      "text/plain": [
       "name    int32\n",
       "cast    int32\n",
       "age     int64\n",
       "sex     int32\n",
       "Dob     int64\n",
       "dtype: object"
      ]
     },
     "execution_count": 44,
     "metadata": {},
     "output_type": "execute_result"
    }
   ],
   "source": [
    "df1.dtypes"
   ]
  },
  {
   "cell_type": "markdown",
   "id": "227099fe",
   "metadata": {},
   "source": [
    "# one hot encoding "
   ]
  },
  {
   "cell_type": "code",
   "execution_count": 45,
   "id": "9bd994b2",
   "metadata": {},
   "outputs": [],
   "source": [
    "from sklearn.preprocessing import OneHotEncoder     # no need\n",
    "import pandas as pd\n",
    "import numpy as np"
   ]
  },
  {
   "cell_type": "code",
   "execution_count": 47,
   "id": "d5ae6a89",
   "metadata": {},
   "outputs": [
    {
     "data": {
      "text/html": [
       "<div>\n",
       "<style scoped>\n",
       "    .dataframe tbody tr th:only-of-type {\n",
       "        vertical-align: middle;\n",
       "    }\n",
       "\n",
       "    .dataframe tbody tr th {\n",
       "        vertical-align: top;\n",
       "    }\n",
       "\n",
       "    .dataframe thead th {\n",
       "        text-align: right;\n",
       "    }\n",
       "</style>\n",
       "<table border=\"1\" class=\"dataframe\">\n",
       "  <thead>\n",
       "    <tr style=\"text-align: right;\">\n",
       "      <th></th>\n",
       "      <th>name</th>\n",
       "      <th>cast</th>\n",
       "      <th>age</th>\n",
       "      <th>sex</th>\n",
       "      <th>Dob</th>\n",
       "    </tr>\n",
       "  </thead>\n",
       "  <tbody>\n",
       "    <tr>\n",
       "      <th>0</th>\n",
       "      <td>kumar</td>\n",
       "      <td>bc</td>\n",
       "      <td>19</td>\n",
       "      <td>M</td>\n",
       "      <td>2002</td>\n",
       "    </tr>\n",
       "    <tr>\n",
       "      <th>1</th>\n",
       "      <td>krishna</td>\n",
       "      <td>oc</td>\n",
       "      <td>20</td>\n",
       "      <td>M</td>\n",
       "      <td>1998</td>\n",
       "    </tr>\n",
       "    <tr>\n",
       "      <th>2</th>\n",
       "      <td>sai</td>\n",
       "      <td>sc</td>\n",
       "      <td>22</td>\n",
       "      <td>F</td>\n",
       "      <td>2001</td>\n",
       "    </tr>\n",
       "    <tr>\n",
       "      <th>3</th>\n",
       "      <td>pavan</td>\n",
       "      <td>oc</td>\n",
       "      <td>20</td>\n",
       "      <td>M</td>\n",
       "      <td>2003</td>\n",
       "    </tr>\n",
       "    <tr>\n",
       "      <th>4</th>\n",
       "      <td>vishnu</td>\n",
       "      <td>bc</td>\n",
       "      <td>21</td>\n",
       "      <td>F</td>\n",
       "      <td>2000</td>\n",
       "    </tr>\n",
       "    <tr>\n",
       "      <th>5</th>\n",
       "      <td>sudheer</td>\n",
       "      <td>st</td>\n",
       "      <td>24</td>\n",
       "      <td>M</td>\n",
       "      <td>2003</td>\n",
       "    </tr>\n",
       "    <tr>\n",
       "      <th>6</th>\n",
       "      <td>akhil</td>\n",
       "      <td>bc</td>\n",
       "      <td>23</td>\n",
       "      <td>M</td>\n",
       "      <td>2002</td>\n",
       "    </tr>\n",
       "    <tr>\n",
       "      <th>7</th>\n",
       "      <td>hari</td>\n",
       "      <td>st</td>\n",
       "      <td>20</td>\n",
       "      <td>F</td>\n",
       "      <td>1999</td>\n",
       "    </tr>\n",
       "    <tr>\n",
       "      <th>8</th>\n",
       "      <td>vijay</td>\n",
       "      <td>oc</td>\n",
       "      <td>22</td>\n",
       "      <td>M</td>\n",
       "      <td>2001</td>\n",
       "    </tr>\n",
       "    <tr>\n",
       "      <th>9</th>\n",
       "      <td>ajay</td>\n",
       "      <td>sc</td>\n",
       "      <td>21</td>\n",
       "      <td>F</td>\n",
       "      <td>2004</td>\n",
       "    </tr>\n",
       "  </tbody>\n",
       "</table>\n",
       "</div>"
      ],
      "text/plain": [
       "      name cast  age sex   Dob\n",
       "0    kumar   bc   19   M  2002\n",
       "1  krishna   oc   20   M  1998\n",
       "2      sai   sc   22   F  2001\n",
       "3    pavan   oc   20   M  2003\n",
       "4   vishnu   bc   21   F  2000\n",
       "5  sudheer   st   24   M  2003\n",
       "6    akhil   bc   23   M  2002\n",
       "7     hari   st   20   F  1999\n",
       "8    vijay   oc   22   M  2001\n",
       "9     ajay   sc   21   F  2004"
      ]
     },
     "execution_count": 47,
     "metadata": {},
     "output_type": "execute_result"
    }
   ],
   "source": [
    "df2 =pd.read_excel(\"D:\\\\anacoda\\\\ML DATA NOTES\\\\CHAVALI.xlsx\")\n",
    "df2"
   ]
  },
  {
   "cell_type": "code",
   "execution_count": 48,
   "id": "c136b328",
   "metadata": {},
   "outputs": [],
   "source": [
    "# one_hot_encoder = OneHotEncoder           # no need "
   ]
  },
  {
   "cell_type": "code",
   "execution_count": 49,
   "id": "17b9a889",
   "metadata": {},
   "outputs": [
    {
     "data": {
      "text/html": [
       "<div>\n",
       "<style scoped>\n",
       "    .dataframe tbody tr th:only-of-type {\n",
       "        vertical-align: middle;\n",
       "    }\n",
       "\n",
       "    .dataframe tbody tr th {\n",
       "        vertical-align: top;\n",
       "    }\n",
       "\n",
       "    .dataframe thead th {\n",
       "        text-align: right;\n",
       "    }\n",
       "</style>\n",
       "<table border=\"1\" class=\"dataframe\">\n",
       "  <thead>\n",
       "    <tr style=\"text-align: right;\">\n",
       "      <th></th>\n",
       "      <th>age</th>\n",
       "      <th>Dob</th>\n",
       "      <th>name_ajay</th>\n",
       "      <th>name_akhil</th>\n",
       "      <th>name_hari</th>\n",
       "      <th>name_krishna</th>\n",
       "      <th>name_kumar</th>\n",
       "      <th>name_pavan</th>\n",
       "      <th>name_sai</th>\n",
       "      <th>name_sudheer</th>\n",
       "      <th>name_vijay</th>\n",
       "      <th>name_vishnu</th>\n",
       "      <th>cast_bc</th>\n",
       "      <th>cast_oc</th>\n",
       "      <th>cast_sc</th>\n",
       "      <th>cast_st</th>\n",
       "      <th>sex_F</th>\n",
       "      <th>sex_M</th>\n",
       "    </tr>\n",
       "  </thead>\n",
       "  <tbody>\n",
       "    <tr>\n",
       "      <th>0</th>\n",
       "      <td>19</td>\n",
       "      <td>2002</td>\n",
       "      <td>False</td>\n",
       "      <td>False</td>\n",
       "      <td>False</td>\n",
       "      <td>False</td>\n",
       "      <td>True</td>\n",
       "      <td>False</td>\n",
       "      <td>False</td>\n",
       "      <td>False</td>\n",
       "      <td>False</td>\n",
       "      <td>False</td>\n",
       "      <td>True</td>\n",
       "      <td>False</td>\n",
       "      <td>False</td>\n",
       "      <td>False</td>\n",
       "      <td>False</td>\n",
       "      <td>True</td>\n",
       "    </tr>\n",
       "    <tr>\n",
       "      <th>1</th>\n",
       "      <td>20</td>\n",
       "      <td>1998</td>\n",
       "      <td>False</td>\n",
       "      <td>False</td>\n",
       "      <td>False</td>\n",
       "      <td>True</td>\n",
       "      <td>False</td>\n",
       "      <td>False</td>\n",
       "      <td>False</td>\n",
       "      <td>False</td>\n",
       "      <td>False</td>\n",
       "      <td>False</td>\n",
       "      <td>False</td>\n",
       "      <td>True</td>\n",
       "      <td>False</td>\n",
       "      <td>False</td>\n",
       "      <td>False</td>\n",
       "      <td>True</td>\n",
       "    </tr>\n",
       "    <tr>\n",
       "      <th>2</th>\n",
       "      <td>22</td>\n",
       "      <td>2001</td>\n",
       "      <td>False</td>\n",
       "      <td>False</td>\n",
       "      <td>False</td>\n",
       "      <td>False</td>\n",
       "      <td>False</td>\n",
       "      <td>False</td>\n",
       "      <td>True</td>\n",
       "      <td>False</td>\n",
       "      <td>False</td>\n",
       "      <td>False</td>\n",
       "      <td>False</td>\n",
       "      <td>False</td>\n",
       "      <td>True</td>\n",
       "      <td>False</td>\n",
       "      <td>True</td>\n",
       "      <td>False</td>\n",
       "    </tr>\n",
       "    <tr>\n",
       "      <th>3</th>\n",
       "      <td>20</td>\n",
       "      <td>2003</td>\n",
       "      <td>False</td>\n",
       "      <td>False</td>\n",
       "      <td>False</td>\n",
       "      <td>False</td>\n",
       "      <td>False</td>\n",
       "      <td>True</td>\n",
       "      <td>False</td>\n",
       "      <td>False</td>\n",
       "      <td>False</td>\n",
       "      <td>False</td>\n",
       "      <td>False</td>\n",
       "      <td>True</td>\n",
       "      <td>False</td>\n",
       "      <td>False</td>\n",
       "      <td>False</td>\n",
       "      <td>True</td>\n",
       "    </tr>\n",
       "    <tr>\n",
       "      <th>4</th>\n",
       "      <td>21</td>\n",
       "      <td>2000</td>\n",
       "      <td>False</td>\n",
       "      <td>False</td>\n",
       "      <td>False</td>\n",
       "      <td>False</td>\n",
       "      <td>False</td>\n",
       "      <td>False</td>\n",
       "      <td>False</td>\n",
       "      <td>False</td>\n",
       "      <td>False</td>\n",
       "      <td>True</td>\n",
       "      <td>True</td>\n",
       "      <td>False</td>\n",
       "      <td>False</td>\n",
       "      <td>False</td>\n",
       "      <td>True</td>\n",
       "      <td>False</td>\n",
       "    </tr>\n",
       "    <tr>\n",
       "      <th>5</th>\n",
       "      <td>24</td>\n",
       "      <td>2003</td>\n",
       "      <td>False</td>\n",
       "      <td>False</td>\n",
       "      <td>False</td>\n",
       "      <td>False</td>\n",
       "      <td>False</td>\n",
       "      <td>False</td>\n",
       "      <td>False</td>\n",
       "      <td>True</td>\n",
       "      <td>False</td>\n",
       "      <td>False</td>\n",
       "      <td>False</td>\n",
       "      <td>False</td>\n",
       "      <td>False</td>\n",
       "      <td>True</td>\n",
       "      <td>False</td>\n",
       "      <td>True</td>\n",
       "    </tr>\n",
       "    <tr>\n",
       "      <th>6</th>\n",
       "      <td>23</td>\n",
       "      <td>2002</td>\n",
       "      <td>False</td>\n",
       "      <td>True</td>\n",
       "      <td>False</td>\n",
       "      <td>False</td>\n",
       "      <td>False</td>\n",
       "      <td>False</td>\n",
       "      <td>False</td>\n",
       "      <td>False</td>\n",
       "      <td>False</td>\n",
       "      <td>False</td>\n",
       "      <td>True</td>\n",
       "      <td>False</td>\n",
       "      <td>False</td>\n",
       "      <td>False</td>\n",
       "      <td>False</td>\n",
       "      <td>True</td>\n",
       "    </tr>\n",
       "    <tr>\n",
       "      <th>7</th>\n",
       "      <td>20</td>\n",
       "      <td>1999</td>\n",
       "      <td>False</td>\n",
       "      <td>False</td>\n",
       "      <td>True</td>\n",
       "      <td>False</td>\n",
       "      <td>False</td>\n",
       "      <td>False</td>\n",
       "      <td>False</td>\n",
       "      <td>False</td>\n",
       "      <td>False</td>\n",
       "      <td>False</td>\n",
       "      <td>False</td>\n",
       "      <td>False</td>\n",
       "      <td>False</td>\n",
       "      <td>True</td>\n",
       "      <td>True</td>\n",
       "      <td>False</td>\n",
       "    </tr>\n",
       "    <tr>\n",
       "      <th>8</th>\n",
       "      <td>22</td>\n",
       "      <td>2001</td>\n",
       "      <td>False</td>\n",
       "      <td>False</td>\n",
       "      <td>False</td>\n",
       "      <td>False</td>\n",
       "      <td>False</td>\n",
       "      <td>False</td>\n",
       "      <td>False</td>\n",
       "      <td>False</td>\n",
       "      <td>True</td>\n",
       "      <td>False</td>\n",
       "      <td>False</td>\n",
       "      <td>True</td>\n",
       "      <td>False</td>\n",
       "      <td>False</td>\n",
       "      <td>False</td>\n",
       "      <td>True</td>\n",
       "    </tr>\n",
       "    <tr>\n",
       "      <th>9</th>\n",
       "      <td>21</td>\n",
       "      <td>2004</td>\n",
       "      <td>True</td>\n",
       "      <td>False</td>\n",
       "      <td>False</td>\n",
       "      <td>False</td>\n",
       "      <td>False</td>\n",
       "      <td>False</td>\n",
       "      <td>False</td>\n",
       "      <td>False</td>\n",
       "      <td>False</td>\n",
       "      <td>False</td>\n",
       "      <td>False</td>\n",
       "      <td>False</td>\n",
       "      <td>True</td>\n",
       "      <td>False</td>\n",
       "      <td>True</td>\n",
       "      <td>False</td>\n",
       "    </tr>\n",
       "  </tbody>\n",
       "</table>\n",
       "</div>"
      ],
      "text/plain": [
       "   age   Dob  name_ajay  name_akhil  name_hari  name_krishna  name_kumar  \\\n",
       "0   19  2002      False       False      False         False        True   \n",
       "1   20  1998      False       False      False          True       False   \n",
       "2   22  2001      False       False      False         False       False   \n",
       "3   20  2003      False       False      False         False       False   \n",
       "4   21  2000      False       False      False         False       False   \n",
       "5   24  2003      False       False      False         False       False   \n",
       "6   23  2002      False        True      False         False       False   \n",
       "7   20  1999      False       False       True         False       False   \n",
       "8   22  2001      False       False      False         False       False   \n",
       "9   21  2004       True       False      False         False       False   \n",
       "\n",
       "   name_pavan  name_sai  name_sudheer  name_vijay  name_vishnu  cast_bc  \\\n",
       "0       False     False         False       False        False     True   \n",
       "1       False     False         False       False        False    False   \n",
       "2       False      True         False       False        False    False   \n",
       "3        True     False         False       False        False    False   \n",
       "4       False     False         False       False         True     True   \n",
       "5       False     False          True       False        False    False   \n",
       "6       False     False         False       False        False     True   \n",
       "7       False     False         False       False        False    False   \n",
       "8       False     False         False        True        False    False   \n",
       "9       False     False         False       False        False    False   \n",
       "\n",
       "   cast_oc  cast_sc  cast_st  sex_F  sex_M  \n",
       "0    False    False    False  False   True  \n",
       "1     True    False    False  False   True  \n",
       "2    False     True    False   True  False  \n",
       "3     True    False    False  False   True  \n",
       "4    False    False    False   True  False  \n",
       "5    False    False     True  False   True  \n",
       "6    False    False    False  False   True  \n",
       "7    False    False     True   True  False  \n",
       "8     True    False    False  False   True  \n",
       "9    False     True    False   True  False  "
      ]
     },
     "execution_count": 49,
     "metadata": {},
     "output_type": "execute_result"
    }
   ],
   "source": [
    "pd.get_dummies(df2)   # True = 1  , False = 0"
   ]
  },
  {
   "cell_type": "code",
   "execution_count": 50,
   "id": "3591b7ae",
   "metadata": {},
   "outputs": [
    {
     "data": {
      "text/html": [
       "<div>\n",
       "<style scoped>\n",
       "    .dataframe tbody tr th:only-of-type {\n",
       "        vertical-align: middle;\n",
       "    }\n",
       "\n",
       "    .dataframe tbody tr th {\n",
       "        vertical-align: top;\n",
       "    }\n",
       "\n",
       "    .dataframe thead th {\n",
       "        text-align: right;\n",
       "    }\n",
       "</style>\n",
       "<table border=\"1\" class=\"dataframe\">\n",
       "  <thead>\n",
       "    <tr style=\"text-align: right;\">\n",
       "      <th></th>\n",
       "      <th>name</th>\n",
       "      <th>cast</th>\n",
       "      <th>age</th>\n",
       "      <th>sex</th>\n",
       "      <th>Dob</th>\n",
       "    </tr>\n",
       "  </thead>\n",
       "  <tbody>\n",
       "    <tr>\n",
       "      <th>0</th>\n",
       "      <td>kumar</td>\n",
       "      <td>bc</td>\n",
       "      <td>19</td>\n",
       "      <td>M</td>\n",
       "      <td>2002</td>\n",
       "    </tr>\n",
       "    <tr>\n",
       "      <th>1</th>\n",
       "      <td>krishna</td>\n",
       "      <td>oc</td>\n",
       "      <td>20</td>\n",
       "      <td>M</td>\n",
       "      <td>1998</td>\n",
       "    </tr>\n",
       "    <tr>\n",
       "      <th>2</th>\n",
       "      <td>sai</td>\n",
       "      <td>sc</td>\n",
       "      <td>22</td>\n",
       "      <td>F</td>\n",
       "      <td>2001</td>\n",
       "    </tr>\n",
       "    <tr>\n",
       "      <th>3</th>\n",
       "      <td>pavan</td>\n",
       "      <td>oc</td>\n",
       "      <td>20</td>\n",
       "      <td>M</td>\n",
       "      <td>2003</td>\n",
       "    </tr>\n",
       "    <tr>\n",
       "      <th>4</th>\n",
       "      <td>vishnu</td>\n",
       "      <td>bc</td>\n",
       "      <td>21</td>\n",
       "      <td>F</td>\n",
       "      <td>2000</td>\n",
       "    </tr>\n",
       "    <tr>\n",
       "      <th>5</th>\n",
       "      <td>sudheer</td>\n",
       "      <td>st</td>\n",
       "      <td>24</td>\n",
       "      <td>M</td>\n",
       "      <td>2003</td>\n",
       "    </tr>\n",
       "    <tr>\n",
       "      <th>6</th>\n",
       "      <td>akhil</td>\n",
       "      <td>bc</td>\n",
       "      <td>23</td>\n",
       "      <td>M</td>\n",
       "      <td>2002</td>\n",
       "    </tr>\n",
       "    <tr>\n",
       "      <th>7</th>\n",
       "      <td>hari</td>\n",
       "      <td>st</td>\n",
       "      <td>20</td>\n",
       "      <td>F</td>\n",
       "      <td>1999</td>\n",
       "    </tr>\n",
       "    <tr>\n",
       "      <th>8</th>\n",
       "      <td>vijay</td>\n",
       "      <td>oc</td>\n",
       "      <td>22</td>\n",
       "      <td>M</td>\n",
       "      <td>2001</td>\n",
       "    </tr>\n",
       "    <tr>\n",
       "      <th>9</th>\n",
       "      <td>ajay</td>\n",
       "      <td>sc</td>\n",
       "      <td>21</td>\n",
       "      <td>F</td>\n",
       "      <td>2004</td>\n",
       "    </tr>\n",
       "  </tbody>\n",
       "</table>\n",
       "</div>"
      ],
      "text/plain": [
       "      name cast  age sex   Dob\n",
       "0    kumar   bc   19   M  2002\n",
       "1  krishna   oc   20   M  1998\n",
       "2      sai   sc   22   F  2001\n",
       "3    pavan   oc   20   M  2003\n",
       "4   vishnu   bc   21   F  2000\n",
       "5  sudheer   st   24   M  2003\n",
       "6    akhil   bc   23   M  2002\n",
       "7     hari   st   20   F  1999\n",
       "8    vijay   oc   22   M  2001\n",
       "9     ajay   sc   21   F  2004"
      ]
     },
     "execution_count": 50,
     "metadata": {},
     "output_type": "execute_result"
    }
   ],
   "source": [
    "one_hot_encoder1 = pd.get_dummies(df2['sex'])\n",
    "df2"
   ]
  },
  {
   "cell_type": "code",
   "execution_count": 51,
   "id": "0cbb6b59",
   "metadata": {},
   "outputs": [
    {
     "data": {
      "text/html": [
       "<div>\n",
       "<style scoped>\n",
       "    .dataframe tbody tr th:only-of-type {\n",
       "        vertical-align: middle;\n",
       "    }\n",
       "\n",
       "    .dataframe tbody tr th {\n",
       "        vertical-align: top;\n",
       "    }\n",
       "\n",
       "    .dataframe thead th {\n",
       "        text-align: right;\n",
       "    }\n",
       "</style>\n",
       "<table border=\"1\" class=\"dataframe\">\n",
       "  <thead>\n",
       "    <tr style=\"text-align: right;\">\n",
       "      <th></th>\n",
       "      <th>F</th>\n",
       "      <th>M</th>\n",
       "    </tr>\n",
       "  </thead>\n",
       "  <tbody>\n",
       "    <tr>\n",
       "      <th>0</th>\n",
       "      <td>False</td>\n",
       "      <td>True</td>\n",
       "    </tr>\n",
       "    <tr>\n",
       "      <th>1</th>\n",
       "      <td>False</td>\n",
       "      <td>True</td>\n",
       "    </tr>\n",
       "    <tr>\n",
       "      <th>2</th>\n",
       "      <td>True</td>\n",
       "      <td>False</td>\n",
       "    </tr>\n",
       "    <tr>\n",
       "      <th>3</th>\n",
       "      <td>False</td>\n",
       "      <td>True</td>\n",
       "    </tr>\n",
       "    <tr>\n",
       "      <th>4</th>\n",
       "      <td>True</td>\n",
       "      <td>False</td>\n",
       "    </tr>\n",
       "    <tr>\n",
       "      <th>5</th>\n",
       "      <td>False</td>\n",
       "      <td>True</td>\n",
       "    </tr>\n",
       "    <tr>\n",
       "      <th>6</th>\n",
       "      <td>False</td>\n",
       "      <td>True</td>\n",
       "    </tr>\n",
       "    <tr>\n",
       "      <th>7</th>\n",
       "      <td>True</td>\n",
       "      <td>False</td>\n",
       "    </tr>\n",
       "    <tr>\n",
       "      <th>8</th>\n",
       "      <td>False</td>\n",
       "      <td>True</td>\n",
       "    </tr>\n",
       "    <tr>\n",
       "      <th>9</th>\n",
       "      <td>True</td>\n",
       "      <td>False</td>\n",
       "    </tr>\n",
       "  </tbody>\n",
       "</table>\n",
       "</div>"
      ],
      "text/plain": [
       "       F      M\n",
       "0  False   True\n",
       "1  False   True\n",
       "2   True  False\n",
       "3  False   True\n",
       "4   True  False\n",
       "5  False   True\n",
       "6  False   True\n",
       "7   True  False\n",
       "8  False   True\n",
       "9   True  False"
      ]
     },
     "execution_count": 51,
     "metadata": {},
     "output_type": "execute_result"
    }
   ],
   "source": [
    "one_hot_encoder1"
   ]
  }
 ],
 "metadata": {
  "kernelspec": {
   "display_name": "Python 3 (ipykernel)",
   "language": "python",
   "name": "python3"
  },
  "language_info": {
   "codemirror_mode": {
    "name": "ipython",
    "version": 3
   },
   "file_extension": ".py",
   "mimetype": "text/x-python",
   "name": "python",
   "nbconvert_exporter": "python",
   "pygments_lexer": "ipython3",
   "version": "3.11.5"
  }
 },
 "nbformat": 4,
 "nbformat_minor": 5
}
